{
  "nbformat": 4,
  "nbformat_minor": 0,
  "metadata": {
    "colab": {
      "provenance": [],
      "collapsed_sections": [
        "NhfcoBfgK3Uu",
        "Thm5_ZjZ7i3x",
        "wMdAt9cwk-Ao"
      ],
      "include_colab_link": true
    },
    "kernelspec": {
      "name": "python3",
      "display_name": "Python 3"
    },
    "language_info": {
      "name": "python"
    }
  },
  "cells": [
    {
      "cell_type": "markdown",
      "metadata": {
        "id": "view-in-github",
        "colab_type": "text"
      },
      "source": [
        "<a href=\"https://colab.research.google.com/github/GourPrahasnt/Airline_passenger_referal_prediction/blob/main/Team_Notebook_Airline_Passenger_Referral_Prediction.ipynb\" target=\"_parent\"><img src=\"https://colab.research.google.com/assets/colab-badge.svg\" alt=\"Open In Colab\"/></a>"
      ]
    },
    {
      "cell_type": "markdown",
      "metadata": {
        "id": "yzJcHr-f8OoT"
      },
      "source": [
        "#**Data includes airline reviews from 2006 to 2019 for popular airlines around the world withmultiple choice and free text questions. Data is scraped in Spring 2019. The main objectiveis to predict whether passengers will refer the airline to their friends.**"
      ]
    },
    {
      "cell_type": "markdown",
      "source": [
        "**Feature descriptions briefly as follows:**\n",
        "\n",
        "**airline:** Name of the airline.\n",
        "\n",
        "**overall:** Overall point is given to the trip between 1 to 10.\n",
        "\n",
        "**author:** Author of the trip\n",
        "\n",
        "**review date:** Date of the Review\n",
        "\n",
        "**customer review:**Review of the customers in free text format\n",
        "\n",
        "**aircraft:** Type of the aircraft\n",
        "\n",
        "**traveller type:** Type of traveler (e.g. business, leisure)\n",
        "\n",
        "**cabin:** Cabin at the flight date flown: Flight date\n",
        "\n",
        "**seat comfort:** Rated between 1-5\n",
        "\n",
        "**cabin service:** Rated between 1-5\n",
        "\n",
        "**foodbev:** Rated between 1-5 \n",
        "\n",
        "**entertainment:** Rated between 1-5\n",
        "\n",
        "**ground service:** Rated between 1-5\n",
        "\n",
        "**value for money:** Rated between 1-5\n",
        "\n",
        "**recommended:** Binary, target variable."
      ],
      "metadata": {
        "id": "Y-wNkmKvZWWF"
      }
    },
    {
      "cell_type": "markdown",
      "source": [
        "\n",
        "##**Objective**\n",
        "\n",
        "**The main objective is to predict whether passengers will refer the airline to their family or friends**.\n"
      ],
      "metadata": {
        "id": "7puSmi4_Ool-"
      }
    },
    {
      "cell_type": "markdown",
      "metadata": {
        "id": "7_qeHcRPJ2v_"
      },
      "source": [
        "# **Loading Dataset and Importing Modules**\n"
      ]
    },
    {
      "cell_type": "code",
      "execution_count": 7,
      "metadata": {
        "id": "-ifL_U7RYhpS"
      },
      "outputs": [],
      "source": [
        "# Importing necessary libraries\n",
        "import numpy as np\n",
        "import pandas as pd\n",
        "import matplotlib.pyplot as plt\n",
        "import seaborn as sns\n",
        "\n",
        "%matplotlib inline\n",
        "\n",
        "import lightgbm\n",
        "\n",
        "import warnings\n",
        "warnings.filterwarnings('ignore')"
      ]
    },
    {
      "cell_type": "code",
      "source": [
        "# Importing all models from sklearn to be used in our model building\n",
        "from sklearn.linear_model import LogisticRegression\n",
        "from sklearn.ensemble import RandomForestClassifier\n",
        "from sklearn.tree import DecisionTreeClassifier\n",
        "from sklearn.neighbors import KNeighborsClassifier\n",
        "from sklearn.preprocessing import LabelEncoder\n",
        "from sklearn.svm import SVC\n",
        "from sklearn.naive_bayes import GaussianNB\n",
        "\n",
        "from sklearn import model_selection\n",
        "from sklearn.model_selection import train_test_split\n",
        "from sklearn.model_selection import GridSearchCV\n",
        "from sklearn.svm import LinearSVC\n",
        "import time\n",
        "from statsmodels.stats.outliers_influence import variance_inflation_factor\n",
        "from sklearn.naive_bayes import MultinomialNB"
      ],
      "metadata": {
        "id": "saWiC-4wMtor"
      },
      "execution_count": 8,
      "outputs": []
    },
    {
      "cell_type": "code",
      "source": [
        "# Importing  metrics for evaluation for our models\n",
        "from sklearn import metrics\n",
        "from sklearn.metrics import classification_report,confusion_matrix\n",
        "from sklearn.metrics import accuracy_score,precision_score\n",
        "from sklearn.metrics import recall_score,f1_score,roc_curve, roc_auc_score"
      ],
      "metadata": {
        "id": "hgOq-ukiMP7Y"
      },
      "execution_count": 9,
      "outputs": []
    },
    {
      "cell_type": "markdown",
      "source": [
        "##**Reading the Dataset**"
      ],
      "metadata": {
        "id": "ebMUDEWmdVfl"
      }
    },
    {
      "cell_type": "code",
      "execution_count": 10,
      "metadata": {
        "colab": {
          "base_uri": "https://localhost:8080/"
        },
        "id": "2_gcu8LqAAH6",
        "outputId": "04b74f59-0860-48eb-b4c8-1f282ed714dc"
      },
      "outputs": [
        {
          "output_type": "stream",
          "name": "stdout",
          "text": [
            "Drive already mounted at /content/drive; to attempt to forcibly remount, call drive.mount(\"/content/drive\", force_remount=True).\n"
          ]
        }
      ],
      "source": [
        "#importing the dataset from drive\n",
        "from google.colab import drive\n",
        "drive.mount('/content/drive')"
      ]
    },
    {
      "cell_type": "code",
      "execution_count": 11,
      "metadata": {
        "id": "1XDc3wxGAhO0"
      },
      "outputs": [],
      "source": [
        "#load the dataset from drive \n",
        "airline_df = pd.read_excel('/content/drive/MyDrive/3) Airlines Passengers Referral Prediction_Capstone_Project/data_airline_reviews.xlsx')"
      ]
    },
    {
      "cell_type": "markdown",
      "metadata": {
        "id": "-yMwOjSoBlBp"
      },
      "source": [
        "#**Understand More About The Data**"
      ]
    },
    {
      "cell_type": "code",
      "execution_count": 12,
      "metadata": {
        "id": "26XzKzt8BsuM",
        "colab": {
          "base_uri": "https://localhost:8080/",
          "height": 339
        },
        "outputId": "89be5ce5-b638-4e91-ebf3-1c07df394656"
      },
      "outputs": [
        {
          "output_type": "execute_result",
          "data": {
            "text/plain": [
              "            airline  overall               author   review_date  \\\n",
              "0               NaN      NaN                  NaN           NaN   \n",
              "1  Turkish Airlines      7.0  Christopher Hackley  8th May 2019   \n",
              "2               NaN      NaN                  NaN           NaN   \n",
              "3  Turkish Airlines      2.0        Adriana Pisoi  7th May 2019   \n",
              "4               NaN      NaN                  NaN           NaN   \n",
              "\n",
              "                                     customer_review aircraft  traveller_type  \\\n",
              "0                                                NaN      NaN             NaN   \n",
              "1  âœ… Trip Verified | London to Izmir via Istanb...      NaN        Business   \n",
              "2                                                NaN      NaN             NaN   \n",
              "3  âœ… Trip Verified | Istanbul to Bucharest. We ...      NaN  Family Leisure   \n",
              "4                                                NaN      NaN             NaN   \n",
              "\n",
              "           cabin                         route           date_flown  \\\n",
              "0            NaN                           NaN                  NaN   \n",
              "1  Economy Class  London to Izmir via Istanbul  2019-05-01 00:00:00   \n",
              "2            NaN                           NaN                  NaN   \n",
              "3  Economy Class         Istanbul to Bucharest  2019-05-01 00:00:00   \n",
              "4            NaN                           NaN                  NaN   \n",
              "\n",
              "   seat_comfort  cabin_service  food_bev  entertainment  ground_service  \\\n",
              "0           NaN            NaN       NaN            NaN             NaN   \n",
              "1           4.0            5.0       4.0            4.0             2.0   \n",
              "2           NaN            NaN       NaN            NaN             NaN   \n",
              "3           4.0            1.0       1.0            1.0             1.0   \n",
              "4           NaN            NaN       NaN            NaN             NaN   \n",
              "\n",
              "   value_for_money recommended  \n",
              "0              NaN         NaN  \n",
              "1              4.0         yes  \n",
              "2              NaN         NaN  \n",
              "3              1.0          no  \n",
              "4              NaN         NaN  "
            ],
            "text/html": [
              "\n",
              "  <div id=\"df-2b4b2f80-3296-4a35-b2cb-a2ca2d8387cf\">\n",
              "    <div class=\"colab-df-container\">\n",
              "      <div>\n",
              "<style scoped>\n",
              "    .dataframe tbody tr th:only-of-type {\n",
              "        vertical-align: middle;\n",
              "    }\n",
              "\n",
              "    .dataframe tbody tr th {\n",
              "        vertical-align: top;\n",
              "    }\n",
              "\n",
              "    .dataframe thead th {\n",
              "        text-align: right;\n",
              "    }\n",
              "</style>\n",
              "<table border=\"1\" class=\"dataframe\">\n",
              "  <thead>\n",
              "    <tr style=\"text-align: right;\">\n",
              "      <th></th>\n",
              "      <th>airline</th>\n",
              "      <th>overall</th>\n",
              "      <th>author</th>\n",
              "      <th>review_date</th>\n",
              "      <th>customer_review</th>\n",
              "      <th>aircraft</th>\n",
              "      <th>traveller_type</th>\n",
              "      <th>cabin</th>\n",
              "      <th>route</th>\n",
              "      <th>date_flown</th>\n",
              "      <th>seat_comfort</th>\n",
              "      <th>cabin_service</th>\n",
              "      <th>food_bev</th>\n",
              "      <th>entertainment</th>\n",
              "      <th>ground_service</th>\n",
              "      <th>value_for_money</th>\n",
              "      <th>recommended</th>\n",
              "    </tr>\n",
              "  </thead>\n",
              "  <tbody>\n",
              "    <tr>\n",
              "      <th>0</th>\n",
              "      <td>NaN</td>\n",
              "      <td>NaN</td>\n",
              "      <td>NaN</td>\n",
              "      <td>NaN</td>\n",
              "      <td>NaN</td>\n",
              "      <td>NaN</td>\n",
              "      <td>NaN</td>\n",
              "      <td>NaN</td>\n",
              "      <td>NaN</td>\n",
              "      <td>NaN</td>\n",
              "      <td>NaN</td>\n",
              "      <td>NaN</td>\n",
              "      <td>NaN</td>\n",
              "      <td>NaN</td>\n",
              "      <td>NaN</td>\n",
              "      <td>NaN</td>\n",
              "      <td>NaN</td>\n",
              "    </tr>\n",
              "    <tr>\n",
              "      <th>1</th>\n",
              "      <td>Turkish Airlines</td>\n",
              "      <td>7.0</td>\n",
              "      <td>Christopher Hackley</td>\n",
              "      <td>8th May 2019</td>\n",
              "      <td>âœ… Trip Verified | London to Izmir via Istanb...</td>\n",
              "      <td>NaN</td>\n",
              "      <td>Business</td>\n",
              "      <td>Economy Class</td>\n",
              "      <td>London to Izmir via Istanbul</td>\n",
              "      <td>2019-05-01 00:00:00</td>\n",
              "      <td>4.0</td>\n",
              "      <td>5.0</td>\n",
              "      <td>4.0</td>\n",
              "      <td>4.0</td>\n",
              "      <td>2.0</td>\n",
              "      <td>4.0</td>\n",
              "      <td>yes</td>\n",
              "    </tr>\n",
              "    <tr>\n",
              "      <th>2</th>\n",
              "      <td>NaN</td>\n",
              "      <td>NaN</td>\n",
              "      <td>NaN</td>\n",
              "      <td>NaN</td>\n",
              "      <td>NaN</td>\n",
              "      <td>NaN</td>\n",
              "      <td>NaN</td>\n",
              "      <td>NaN</td>\n",
              "      <td>NaN</td>\n",
              "      <td>NaN</td>\n",
              "      <td>NaN</td>\n",
              "      <td>NaN</td>\n",
              "      <td>NaN</td>\n",
              "      <td>NaN</td>\n",
              "      <td>NaN</td>\n",
              "      <td>NaN</td>\n",
              "      <td>NaN</td>\n",
              "    </tr>\n",
              "    <tr>\n",
              "      <th>3</th>\n",
              "      <td>Turkish Airlines</td>\n",
              "      <td>2.0</td>\n",
              "      <td>Adriana Pisoi</td>\n",
              "      <td>7th May 2019</td>\n",
              "      <td>âœ… Trip Verified | Istanbul to Bucharest. We ...</td>\n",
              "      <td>NaN</td>\n",
              "      <td>Family Leisure</td>\n",
              "      <td>Economy Class</td>\n",
              "      <td>Istanbul to Bucharest</td>\n",
              "      <td>2019-05-01 00:00:00</td>\n",
              "      <td>4.0</td>\n",
              "      <td>1.0</td>\n",
              "      <td>1.0</td>\n",
              "      <td>1.0</td>\n",
              "      <td>1.0</td>\n",
              "      <td>1.0</td>\n",
              "      <td>no</td>\n",
              "    </tr>\n",
              "    <tr>\n",
              "      <th>4</th>\n",
              "      <td>NaN</td>\n",
              "      <td>NaN</td>\n",
              "      <td>NaN</td>\n",
              "      <td>NaN</td>\n",
              "      <td>NaN</td>\n",
              "      <td>NaN</td>\n",
              "      <td>NaN</td>\n",
              "      <td>NaN</td>\n",
              "      <td>NaN</td>\n",
              "      <td>NaN</td>\n",
              "      <td>NaN</td>\n",
              "      <td>NaN</td>\n",
              "      <td>NaN</td>\n",
              "      <td>NaN</td>\n",
              "      <td>NaN</td>\n",
              "      <td>NaN</td>\n",
              "      <td>NaN</td>\n",
              "    </tr>\n",
              "  </tbody>\n",
              "</table>\n",
              "</div>\n",
              "      <button class=\"colab-df-convert\" onclick=\"convertToInteractive('df-2b4b2f80-3296-4a35-b2cb-a2ca2d8387cf')\"\n",
              "              title=\"Convert this dataframe to an interactive table.\"\n",
              "              style=\"display:none;\">\n",
              "        \n",
              "  <svg xmlns=\"http://www.w3.org/2000/svg\" height=\"24px\"viewBox=\"0 0 24 24\"\n",
              "       width=\"24px\">\n",
              "    <path d=\"M0 0h24v24H0V0z\" fill=\"none\"/>\n",
              "    <path d=\"M18.56 5.44l.94 2.06.94-2.06 2.06-.94-2.06-.94-.94-2.06-.94 2.06-2.06.94zm-11 1L8.5 8.5l.94-2.06 2.06-.94-2.06-.94L8.5 2.5l-.94 2.06-2.06.94zm10 10l.94 2.06.94-2.06 2.06-.94-2.06-.94-.94-2.06-.94 2.06-2.06.94z\"/><path d=\"M17.41 7.96l-1.37-1.37c-.4-.4-.92-.59-1.43-.59-.52 0-1.04.2-1.43.59L10.3 9.45l-7.72 7.72c-.78.78-.78 2.05 0 2.83L4 21.41c.39.39.9.59 1.41.59.51 0 1.02-.2 1.41-.59l7.78-7.78 2.81-2.81c.8-.78.8-2.07 0-2.86zM5.41 20L4 18.59l7.72-7.72 1.47 1.35L5.41 20z\"/>\n",
              "  </svg>\n",
              "      </button>\n",
              "      \n",
              "  <style>\n",
              "    .colab-df-container {\n",
              "      display:flex;\n",
              "      flex-wrap:wrap;\n",
              "      gap: 12px;\n",
              "    }\n",
              "\n",
              "    .colab-df-convert {\n",
              "      background-color: #E8F0FE;\n",
              "      border: none;\n",
              "      border-radius: 50%;\n",
              "      cursor: pointer;\n",
              "      display: none;\n",
              "      fill: #1967D2;\n",
              "      height: 32px;\n",
              "      padding: 0 0 0 0;\n",
              "      width: 32px;\n",
              "    }\n",
              "\n",
              "    .colab-df-convert:hover {\n",
              "      background-color: #E2EBFA;\n",
              "      box-shadow: 0px 1px 2px rgba(60, 64, 67, 0.3), 0px 1px 3px 1px rgba(60, 64, 67, 0.15);\n",
              "      fill: #174EA6;\n",
              "    }\n",
              "\n",
              "    [theme=dark] .colab-df-convert {\n",
              "      background-color: #3B4455;\n",
              "      fill: #D2E3FC;\n",
              "    }\n",
              "\n",
              "    [theme=dark] .colab-df-convert:hover {\n",
              "      background-color: #434B5C;\n",
              "      box-shadow: 0px 1px 3px 1px rgba(0, 0, 0, 0.15);\n",
              "      filter: drop-shadow(0px 1px 2px rgba(0, 0, 0, 0.3));\n",
              "      fill: #FFFFFF;\n",
              "    }\n",
              "  </style>\n",
              "\n",
              "      <script>\n",
              "        const buttonEl =\n",
              "          document.querySelector('#df-2b4b2f80-3296-4a35-b2cb-a2ca2d8387cf button.colab-df-convert');\n",
              "        buttonEl.style.display =\n",
              "          google.colab.kernel.accessAllowed ? 'block' : 'none';\n",
              "\n",
              "        async function convertToInteractive(key) {\n",
              "          const element = document.querySelector('#df-2b4b2f80-3296-4a35-b2cb-a2ca2d8387cf');\n",
              "          const dataTable =\n",
              "            await google.colab.kernel.invokeFunction('convertToInteractive',\n",
              "                                                     [key], {});\n",
              "          if (!dataTable) return;\n",
              "\n",
              "          const docLinkHtml = 'Like what you see? Visit the ' +\n",
              "            '<a target=\"_blank\" href=https://colab.research.google.com/notebooks/data_table.ipynb>data table notebook</a>'\n",
              "            + ' to learn more about interactive tables.';\n",
              "          element.innerHTML = '';\n",
              "          dataTable['output_type'] = 'display_data';\n",
              "          await google.colab.output.renderOutput(dataTable, element);\n",
              "          const docLink = document.createElement('div');\n",
              "          docLink.innerHTML = docLinkHtml;\n",
              "          element.appendChild(docLink);\n",
              "        }\n",
              "      </script>\n",
              "    </div>\n",
              "  </div>\n",
              "  "
            ]
          },
          "metadata": {},
          "execution_count": 12
        }
      ],
      "source": [
        "#top_five_rows_of_data\n",
        "airline_df.head()"
      ]
    },
    {
      "cell_type": "code",
      "execution_count": 13,
      "metadata": {
        "id": "AU8c7_dBCGbR",
        "colab": {
          "base_uri": "https://localhost:8080/",
          "height": 391
        },
        "outputId": "231ea19e-4cc6-41ef-db1f-1dc1ce60df15"
      },
      "outputs": [
        {
          "output_type": "execute_result",
          "data": {
            "text/plain": [
              "                      airline  overall             author         review_date  \\\n",
              "131890  Ukraine International      NaN   Andriy Yesypenko       19th May 2006   \n",
              "131891                    NaN      NaN                NaN                 NaN   \n",
              "131892  Ukraine International      NaN  Volodya Bilotkach     29th April 2006   \n",
              "131893                    NaN      NaN                NaN                 NaN   \n",
              "131894  Ukraine International      NaN    Kasper Hettinga  10th February 2006   \n",
              "\n",
              "                                          customer_review aircraft  \\\n",
              "131890  Kiev - London (Gatwick) in business class (in ...      NaN   \n",
              "131891                                                NaN      NaN   \n",
              "131892  Several flights - KBP to AMS (3 times one way)...      NaN   \n",
              "131893                                                NaN      NaN   \n",
              "131894  KBP-AMS with UIA. Although it was a relatively...      NaN   \n",
              "\n",
              "       traveller_type cabin route date_flown  seat_comfort  cabin_service  \\\n",
              "131890            NaN   NaN   NaN        NaN           NaN            NaN   \n",
              "131891            NaN   NaN   NaN        NaN           NaN            NaN   \n",
              "131892            NaN   NaN   NaN        NaN           NaN            NaN   \n",
              "131893            NaN   NaN   NaN        NaN           NaN            NaN   \n",
              "131894            NaN   NaN   NaN        NaN           NaN            NaN   \n",
              "\n",
              "        food_bev  entertainment  ground_service  value_for_money recommended  \n",
              "131890       NaN            NaN             NaN              NaN          no  \n",
              "131891       NaN            NaN             NaN              NaN         NaN  \n",
              "131892       NaN            NaN             NaN              NaN          no  \n",
              "131893       NaN            NaN             NaN              NaN         NaN  \n",
              "131894       NaN            NaN             NaN              NaN          no  "
            ],
            "text/html": [
              "\n",
              "  <div id=\"df-605416d2-c446-4b2a-b646-31a58fb10cc9\">\n",
              "    <div class=\"colab-df-container\">\n",
              "      <div>\n",
              "<style scoped>\n",
              "    .dataframe tbody tr th:only-of-type {\n",
              "        vertical-align: middle;\n",
              "    }\n",
              "\n",
              "    .dataframe tbody tr th {\n",
              "        vertical-align: top;\n",
              "    }\n",
              "\n",
              "    .dataframe thead th {\n",
              "        text-align: right;\n",
              "    }\n",
              "</style>\n",
              "<table border=\"1\" class=\"dataframe\">\n",
              "  <thead>\n",
              "    <tr style=\"text-align: right;\">\n",
              "      <th></th>\n",
              "      <th>airline</th>\n",
              "      <th>overall</th>\n",
              "      <th>author</th>\n",
              "      <th>review_date</th>\n",
              "      <th>customer_review</th>\n",
              "      <th>aircraft</th>\n",
              "      <th>traveller_type</th>\n",
              "      <th>cabin</th>\n",
              "      <th>route</th>\n",
              "      <th>date_flown</th>\n",
              "      <th>seat_comfort</th>\n",
              "      <th>cabin_service</th>\n",
              "      <th>food_bev</th>\n",
              "      <th>entertainment</th>\n",
              "      <th>ground_service</th>\n",
              "      <th>value_for_money</th>\n",
              "      <th>recommended</th>\n",
              "    </tr>\n",
              "  </thead>\n",
              "  <tbody>\n",
              "    <tr>\n",
              "      <th>131890</th>\n",
              "      <td>Ukraine International</td>\n",
              "      <td>NaN</td>\n",
              "      <td>Andriy Yesypenko</td>\n",
              "      <td>19th May 2006</td>\n",
              "      <td>Kiev - London (Gatwick) in business class (in ...</td>\n",
              "      <td>NaN</td>\n",
              "      <td>NaN</td>\n",
              "      <td>NaN</td>\n",
              "      <td>NaN</td>\n",
              "      <td>NaN</td>\n",
              "      <td>NaN</td>\n",
              "      <td>NaN</td>\n",
              "      <td>NaN</td>\n",
              "      <td>NaN</td>\n",
              "      <td>NaN</td>\n",
              "      <td>NaN</td>\n",
              "      <td>no</td>\n",
              "    </tr>\n",
              "    <tr>\n",
              "      <th>131891</th>\n",
              "      <td>NaN</td>\n",
              "      <td>NaN</td>\n",
              "      <td>NaN</td>\n",
              "      <td>NaN</td>\n",
              "      <td>NaN</td>\n",
              "      <td>NaN</td>\n",
              "      <td>NaN</td>\n",
              "      <td>NaN</td>\n",
              "      <td>NaN</td>\n",
              "      <td>NaN</td>\n",
              "      <td>NaN</td>\n",
              "      <td>NaN</td>\n",
              "      <td>NaN</td>\n",
              "      <td>NaN</td>\n",
              "      <td>NaN</td>\n",
              "      <td>NaN</td>\n",
              "      <td>NaN</td>\n",
              "    </tr>\n",
              "    <tr>\n",
              "      <th>131892</th>\n",
              "      <td>Ukraine International</td>\n",
              "      <td>NaN</td>\n",
              "      <td>Volodya Bilotkach</td>\n",
              "      <td>29th April 2006</td>\n",
              "      <td>Several flights - KBP to AMS (3 times one way)...</td>\n",
              "      <td>NaN</td>\n",
              "      <td>NaN</td>\n",
              "      <td>NaN</td>\n",
              "      <td>NaN</td>\n",
              "      <td>NaN</td>\n",
              "      <td>NaN</td>\n",
              "      <td>NaN</td>\n",
              "      <td>NaN</td>\n",
              "      <td>NaN</td>\n",
              "      <td>NaN</td>\n",
              "      <td>NaN</td>\n",
              "      <td>no</td>\n",
              "    </tr>\n",
              "    <tr>\n",
              "      <th>131893</th>\n",
              "      <td>NaN</td>\n",
              "      <td>NaN</td>\n",
              "      <td>NaN</td>\n",
              "      <td>NaN</td>\n",
              "      <td>NaN</td>\n",
              "      <td>NaN</td>\n",
              "      <td>NaN</td>\n",
              "      <td>NaN</td>\n",
              "      <td>NaN</td>\n",
              "      <td>NaN</td>\n",
              "      <td>NaN</td>\n",
              "      <td>NaN</td>\n",
              "      <td>NaN</td>\n",
              "      <td>NaN</td>\n",
              "      <td>NaN</td>\n",
              "      <td>NaN</td>\n",
              "      <td>NaN</td>\n",
              "    </tr>\n",
              "    <tr>\n",
              "      <th>131894</th>\n",
              "      <td>Ukraine International</td>\n",
              "      <td>NaN</td>\n",
              "      <td>Kasper Hettinga</td>\n",
              "      <td>10th February 2006</td>\n",
              "      <td>KBP-AMS with UIA. Although it was a relatively...</td>\n",
              "      <td>NaN</td>\n",
              "      <td>NaN</td>\n",
              "      <td>NaN</td>\n",
              "      <td>NaN</td>\n",
              "      <td>NaN</td>\n",
              "      <td>NaN</td>\n",
              "      <td>NaN</td>\n",
              "      <td>NaN</td>\n",
              "      <td>NaN</td>\n",
              "      <td>NaN</td>\n",
              "      <td>NaN</td>\n",
              "      <td>no</td>\n",
              "    </tr>\n",
              "  </tbody>\n",
              "</table>\n",
              "</div>\n",
              "      <button class=\"colab-df-convert\" onclick=\"convertToInteractive('df-605416d2-c446-4b2a-b646-31a58fb10cc9')\"\n",
              "              title=\"Convert this dataframe to an interactive table.\"\n",
              "              style=\"display:none;\">\n",
              "        \n",
              "  <svg xmlns=\"http://www.w3.org/2000/svg\" height=\"24px\"viewBox=\"0 0 24 24\"\n",
              "       width=\"24px\">\n",
              "    <path d=\"M0 0h24v24H0V0z\" fill=\"none\"/>\n",
              "    <path d=\"M18.56 5.44l.94 2.06.94-2.06 2.06-.94-2.06-.94-.94-2.06-.94 2.06-2.06.94zm-11 1L8.5 8.5l.94-2.06 2.06-.94-2.06-.94L8.5 2.5l-.94 2.06-2.06.94zm10 10l.94 2.06.94-2.06 2.06-.94-2.06-.94-.94-2.06-.94 2.06-2.06.94z\"/><path d=\"M17.41 7.96l-1.37-1.37c-.4-.4-.92-.59-1.43-.59-.52 0-1.04.2-1.43.59L10.3 9.45l-7.72 7.72c-.78.78-.78 2.05 0 2.83L4 21.41c.39.39.9.59 1.41.59.51 0 1.02-.2 1.41-.59l7.78-7.78 2.81-2.81c.8-.78.8-2.07 0-2.86zM5.41 20L4 18.59l7.72-7.72 1.47 1.35L5.41 20z\"/>\n",
              "  </svg>\n",
              "      </button>\n",
              "      \n",
              "  <style>\n",
              "    .colab-df-container {\n",
              "      display:flex;\n",
              "      flex-wrap:wrap;\n",
              "      gap: 12px;\n",
              "    }\n",
              "\n",
              "    .colab-df-convert {\n",
              "      background-color: #E8F0FE;\n",
              "      border: none;\n",
              "      border-radius: 50%;\n",
              "      cursor: pointer;\n",
              "      display: none;\n",
              "      fill: #1967D2;\n",
              "      height: 32px;\n",
              "      padding: 0 0 0 0;\n",
              "      width: 32px;\n",
              "    }\n",
              "\n",
              "    .colab-df-convert:hover {\n",
              "      background-color: #E2EBFA;\n",
              "      box-shadow: 0px 1px 2px rgba(60, 64, 67, 0.3), 0px 1px 3px 1px rgba(60, 64, 67, 0.15);\n",
              "      fill: #174EA6;\n",
              "    }\n",
              "\n",
              "    [theme=dark] .colab-df-convert {\n",
              "      background-color: #3B4455;\n",
              "      fill: #D2E3FC;\n",
              "    }\n",
              "\n",
              "    [theme=dark] .colab-df-convert:hover {\n",
              "      background-color: #434B5C;\n",
              "      box-shadow: 0px 1px 3px 1px rgba(0, 0, 0, 0.15);\n",
              "      filter: drop-shadow(0px 1px 2px rgba(0, 0, 0, 0.3));\n",
              "      fill: #FFFFFF;\n",
              "    }\n",
              "  </style>\n",
              "\n",
              "      <script>\n",
              "        const buttonEl =\n",
              "          document.querySelector('#df-605416d2-c446-4b2a-b646-31a58fb10cc9 button.colab-df-convert');\n",
              "        buttonEl.style.display =\n",
              "          google.colab.kernel.accessAllowed ? 'block' : 'none';\n",
              "\n",
              "        async function convertToInteractive(key) {\n",
              "          const element = document.querySelector('#df-605416d2-c446-4b2a-b646-31a58fb10cc9');\n",
              "          const dataTable =\n",
              "            await google.colab.kernel.invokeFunction('convertToInteractive',\n",
              "                                                     [key], {});\n",
              "          if (!dataTable) return;\n",
              "\n",
              "          const docLinkHtml = 'Like what you see? Visit the ' +\n",
              "            '<a target=\"_blank\" href=https://colab.research.google.com/notebooks/data_table.ipynb>data table notebook</a>'\n",
              "            + ' to learn more about interactive tables.';\n",
              "          element.innerHTML = '';\n",
              "          dataTable['output_type'] = 'display_data';\n",
              "          await google.colab.output.renderOutput(dataTable, element);\n",
              "          const docLink = document.createElement('div');\n",
              "          docLink.innerHTML = docLinkHtml;\n",
              "          element.appendChild(docLink);\n",
              "        }\n",
              "      </script>\n",
              "    </div>\n",
              "  </div>\n",
              "  "
            ]
          },
          "metadata": {},
          "execution_count": 13
        }
      ],
      "source": [
        "#bottom five rows of data \n",
        "airline_df.tail()"
      ]
    },
    {
      "cell_type": "markdown",
      "source": [
        "###**Basic information of the dataset**"
      ],
      "metadata": {
        "id": "miJnynKLQZVg"
      }
    },
    {
      "cell_type": "code",
      "source": [
        "#Total number of rows and column of dataset\n",
        "airline_df.shape"
      ],
      "metadata": {
        "id": "T41680seghY6",
        "colab": {
          "base_uri": "https://localhost:8080/"
        },
        "outputId": "918fa867-6aab-475d-bf57-59d75980fe43"
      },
      "execution_count": 14,
      "outputs": [
        {
          "output_type": "execute_result",
          "data": {
            "text/plain": [
              "(131895, 17)"
            ]
          },
          "metadata": {},
          "execution_count": 14
        }
      ]
    },
    {
      "cell_type": "markdown",
      "metadata": {
        "id": "nlu7nOG4BqS5"
      },
      "source": [
        "we have 17 columns and 131895 rows in our data."
      ]
    },
    {
      "cell_type": "code",
      "source": [
        "#Column names of the dataset\n",
        "airline_df.columns"
      ],
      "metadata": {
        "id": "u1wN76jggubT",
        "colab": {
          "base_uri": "https://localhost:8080/"
        },
        "outputId": "a0865b82-e8ec-4e36-9197-ca2b1a779438"
      },
      "execution_count": 15,
      "outputs": [
        {
          "output_type": "execute_result",
          "data": {
            "text/plain": [
              "Index(['airline', 'overall', 'author', 'review_date', 'customer_review',\n",
              "       'aircraft', 'traveller_type', 'cabin', 'route', 'date_flown',\n",
              "       'seat_comfort', 'cabin_service', 'food_bev', 'entertainment',\n",
              "       'ground_service', 'value_for_money', 'recommended'],\n",
              "      dtype='object')"
            ]
          },
          "metadata": {},
          "execution_count": 15
        }
      ]
    },
    {
      "cell_type": "code",
      "source": [
        "#Dataset information\n",
        "airline_df.info()"
      ],
      "metadata": {
        "id": "gv14Mp6qHJ_X",
        "colab": {
          "base_uri": "https://localhost:8080/"
        },
        "outputId": "35087aac-dc1a-4f96-8bf0-45a381b6cff6"
      },
      "execution_count": 16,
      "outputs": [
        {
          "output_type": "stream",
          "name": "stdout",
          "text": [
            "<class 'pandas.core.frame.DataFrame'>\n",
            "RangeIndex: 131895 entries, 0 to 131894\n",
            "Data columns (total 17 columns):\n",
            " #   Column           Non-Null Count  Dtype  \n",
            "---  ------           --------------  -----  \n",
            " 0   airline          65947 non-null  object \n",
            " 1   overall          64017 non-null  float64\n",
            " 2   author           65947 non-null  object \n",
            " 3   review_date      65947 non-null  object \n",
            " 4   customer_review  65947 non-null  object \n",
            " 5   aircraft         19718 non-null  object \n",
            " 6   traveller_type   39755 non-null  object \n",
            " 7   cabin            63303 non-null  object \n",
            " 8   route            39726 non-null  object \n",
            " 9   date_flown       39633 non-null  object \n",
            " 10  seat_comfort     60681 non-null  float64\n",
            " 11  cabin_service    60715 non-null  float64\n",
            " 12  food_bev         52608 non-null  float64\n",
            " 13  entertainment    44193 non-null  float64\n",
            " 14  ground_service   39358 non-null  float64\n",
            " 15  value_for_money  63975 non-null  float64\n",
            " 16  recommended      64440 non-null  object \n",
            "dtypes: float64(7), object(10)\n",
            "memory usage: 17.1+ MB\n"
          ]
        }
      ]
    },
    {
      "cell_type": "code",
      "source": [
        "#Checking the unique values of the recommended column(target variable)\n",
        "airline_df.recommended.unique()"
      ],
      "metadata": {
        "id": "p_Tbx67Lgy6x",
        "colab": {
          "base_uri": "https://localhost:8080/"
        },
        "outputId": "c6a6c1d8-bb96-4610-cf1e-051ec3fcd158"
      },
      "execution_count": 17,
      "outputs": [
        {
          "output_type": "execute_result",
          "data": {
            "text/plain": [
              "array([nan, 'yes', 'no'], dtype=object)"
            ]
          },
          "metadata": {},
          "execution_count": 17
        }
      ]
    },
    {
      "cell_type": "code",
      "execution_count": 18,
      "metadata": {
        "id": "dipW0BxPD6rc",
        "colab": {
          "base_uri": "https://localhost:8080/"
        },
        "outputId": "18d7315b-9fdc-4246-b0d8-8d081768bf67"
      },
      "outputs": [
        {
          "output_type": "execute_result",
          "data": {
            "text/plain": [
              "airline               81\n",
              "overall               10\n",
              "author             44069\n",
              "review_date         3015\n",
              "customer_review    61172\n",
              "aircraft            2088\n",
              "traveller_type         4\n",
              "cabin                  4\n",
              "route              24549\n",
              "date_flown            63\n",
              "seat_comfort           5\n",
              "cabin_service          5\n",
              "food_bev               5\n",
              "entertainment          5\n",
              "ground_service         5\n",
              "value_for_money        5\n",
              "recommended            2\n",
              "dtype: int64"
            ]
          },
          "metadata": {},
          "execution_count": 18
        }
      ],
      "source": [
        "#check the unique value\n",
        "airline_df.nunique()"
      ]
    },
    {
      "cell_type": "markdown",
      "metadata": {
        "id": "Fy5MIpzPx-au"
      },
      "source": [
        "#**Duplicate values**"
      ]
    },
    {
      "cell_type": "code",
      "execution_count": 19,
      "metadata": {
        "id": "IiBjisltyLlo",
        "colab": {
          "base_uri": "https://localhost:8080/"
        },
        "outputId": "b2d228d0-f99c-42f6-d0ec-711caa877a93"
      },
      "outputs": [
        {
          "output_type": "execute_result",
          "data": {
            "text/plain": [
              "70711"
            ]
          },
          "metadata": {},
          "execution_count": 19
        }
      ],
      "source": [
        "#counting  number of duplicated values \n",
        "airline_df.duplicated().sum()"
      ]
    },
    {
      "cell_type": "code",
      "execution_count": 20,
      "metadata": {
        "id": "j9E4tMjv2DVE"
      },
      "outputs": [],
      "source": [
        "#droping the null values\n",
        "airline_df.drop_duplicates(inplace = True)"
      ]
    },
    {
      "cell_type": "code",
      "execution_count": 21,
      "metadata": {
        "id": "BOMUEOu62bMQ",
        "colab": {
          "base_uri": "https://localhost:8080/"
        },
        "outputId": "523f3646-73bc-4a37-8bf6-ab405e275d8a"
      },
      "outputs": [
        {
          "output_type": "execute_result",
          "data": {
            "text/plain": [
              "0"
            ]
          },
          "metadata": {},
          "execution_count": 21
        }
      ],
      "source": [
        "airline_df.duplicated().sum()"
      ]
    },
    {
      "cell_type": "markdown",
      "metadata": {
        "id": "-ZPZwSOWwFkD"
      },
      "source": [
        "# **Null Values**"
      ]
    },
    {
      "cell_type": "markdown",
      "source": [
        "From the last 5 rows, we can conclude that the dataset contains null values. Let's check the number of null values present for each of the columns of this huge dataset."
      ],
      "metadata": {
        "id": "o0EFFCm3HQWb"
      }
    },
    {
      "cell_type": "code",
      "source": [
        "#Checking the null value count for each column\n",
        "airline_df.isnull().sum()"
      ],
      "metadata": {
        "id": "pWfJO4uWhhHs",
        "colab": {
          "base_uri": "https://localhost:8080/"
        },
        "outputId": "2331658c-e5a1-4f9b-b547-bf27926e0f31"
      },
      "execution_count": 22,
      "outputs": [
        {
          "output_type": "execute_result",
          "data": {
            "text/plain": [
              "airline                1\n",
              "overall             1783\n",
              "author                 1\n",
              "review_date            1\n",
              "customer_review        1\n",
              "aircraft           42696\n",
              "traveller_type     23644\n",
              "cabin               2479\n",
              "route              23671\n",
              "date_flown         23750\n",
              "seat_comfort        4973\n",
              "cabin_service       4944\n",
              "food_bev           12843\n",
              "entertainment      20954\n",
              "ground_service     24015\n",
              "value_for_money     1857\n",
              "recommended         1423\n",
              "dtype: int64"
            ]
          },
          "metadata": {},
          "execution_count": 22
        }
      ]
    },
    {
      "cell_type": "code",
      "source": [
        "#Overall discription of data\n",
        "airline_df.describe().T"
      ],
      "metadata": {
        "id": "h5sn3RdiHozp",
        "colab": {
          "base_uri": "https://localhost:8080/",
          "height": 269
        },
        "outputId": "3f245ad1-b87a-4f1f-abce-d47a76e36057"
      },
      "execution_count": 23,
      "outputs": [
        {
          "output_type": "execute_result",
          "data": {
            "text/plain": [
              "                   count      mean       std  min  25%  50%  75%   max\n",
              "overall          59401.0  5.164863  3.483701  1.0  1.0  5.0  9.0  10.0\n",
              "seat_comfort     56211.0  2.959278  1.436467  1.0  2.0  3.0  4.0   5.0\n",
              "cabin_service    56240.0  3.200231  1.568429  1.0  2.0  3.0  5.0   5.0\n",
              "food_bev         48341.0  2.926956  1.483122  1.0  1.0  3.0  4.0   5.0\n",
              "entertainment    40230.0  2.887994  1.504452  1.0  1.0  3.0  4.0   5.0\n",
              "ground_service   37169.0  2.681347  1.613995  1.0  1.0  3.0  4.0   5.0\n",
              "value_for_money  59327.0  2.950849  1.588433  1.0  1.0  3.0  4.0   5.0"
            ],
            "text/html": [
              "\n",
              "  <div id=\"df-713c1c93-0d82-4fa0-83c5-499e971a9269\">\n",
              "    <div class=\"colab-df-container\">\n",
              "      <div>\n",
              "<style scoped>\n",
              "    .dataframe tbody tr th:only-of-type {\n",
              "        vertical-align: middle;\n",
              "    }\n",
              "\n",
              "    .dataframe tbody tr th {\n",
              "        vertical-align: top;\n",
              "    }\n",
              "\n",
              "    .dataframe thead th {\n",
              "        text-align: right;\n",
              "    }\n",
              "</style>\n",
              "<table border=\"1\" class=\"dataframe\">\n",
              "  <thead>\n",
              "    <tr style=\"text-align: right;\">\n",
              "      <th></th>\n",
              "      <th>count</th>\n",
              "      <th>mean</th>\n",
              "      <th>std</th>\n",
              "      <th>min</th>\n",
              "      <th>25%</th>\n",
              "      <th>50%</th>\n",
              "      <th>75%</th>\n",
              "      <th>max</th>\n",
              "    </tr>\n",
              "  </thead>\n",
              "  <tbody>\n",
              "    <tr>\n",
              "      <th>overall</th>\n",
              "      <td>59401.0</td>\n",
              "      <td>5.164863</td>\n",
              "      <td>3.483701</td>\n",
              "      <td>1.0</td>\n",
              "      <td>1.0</td>\n",
              "      <td>5.0</td>\n",
              "      <td>9.0</td>\n",
              "      <td>10.0</td>\n",
              "    </tr>\n",
              "    <tr>\n",
              "      <th>seat_comfort</th>\n",
              "      <td>56211.0</td>\n",
              "      <td>2.959278</td>\n",
              "      <td>1.436467</td>\n",
              "      <td>1.0</td>\n",
              "      <td>2.0</td>\n",
              "      <td>3.0</td>\n",
              "      <td>4.0</td>\n",
              "      <td>5.0</td>\n",
              "    </tr>\n",
              "    <tr>\n",
              "      <th>cabin_service</th>\n",
              "      <td>56240.0</td>\n",
              "      <td>3.200231</td>\n",
              "      <td>1.568429</td>\n",
              "      <td>1.0</td>\n",
              "      <td>2.0</td>\n",
              "      <td>3.0</td>\n",
              "      <td>5.0</td>\n",
              "      <td>5.0</td>\n",
              "    </tr>\n",
              "    <tr>\n",
              "      <th>food_bev</th>\n",
              "      <td>48341.0</td>\n",
              "      <td>2.926956</td>\n",
              "      <td>1.483122</td>\n",
              "      <td>1.0</td>\n",
              "      <td>1.0</td>\n",
              "      <td>3.0</td>\n",
              "      <td>4.0</td>\n",
              "      <td>5.0</td>\n",
              "    </tr>\n",
              "    <tr>\n",
              "      <th>entertainment</th>\n",
              "      <td>40230.0</td>\n",
              "      <td>2.887994</td>\n",
              "      <td>1.504452</td>\n",
              "      <td>1.0</td>\n",
              "      <td>1.0</td>\n",
              "      <td>3.0</td>\n",
              "      <td>4.0</td>\n",
              "      <td>5.0</td>\n",
              "    </tr>\n",
              "    <tr>\n",
              "      <th>ground_service</th>\n",
              "      <td>37169.0</td>\n",
              "      <td>2.681347</td>\n",
              "      <td>1.613995</td>\n",
              "      <td>1.0</td>\n",
              "      <td>1.0</td>\n",
              "      <td>3.0</td>\n",
              "      <td>4.0</td>\n",
              "      <td>5.0</td>\n",
              "    </tr>\n",
              "    <tr>\n",
              "      <th>value_for_money</th>\n",
              "      <td>59327.0</td>\n",
              "      <td>2.950849</td>\n",
              "      <td>1.588433</td>\n",
              "      <td>1.0</td>\n",
              "      <td>1.0</td>\n",
              "      <td>3.0</td>\n",
              "      <td>4.0</td>\n",
              "      <td>5.0</td>\n",
              "    </tr>\n",
              "  </tbody>\n",
              "</table>\n",
              "</div>\n",
              "      <button class=\"colab-df-convert\" onclick=\"convertToInteractive('df-713c1c93-0d82-4fa0-83c5-499e971a9269')\"\n",
              "              title=\"Convert this dataframe to an interactive table.\"\n",
              "              style=\"display:none;\">\n",
              "        \n",
              "  <svg xmlns=\"http://www.w3.org/2000/svg\" height=\"24px\"viewBox=\"0 0 24 24\"\n",
              "       width=\"24px\">\n",
              "    <path d=\"M0 0h24v24H0V0z\" fill=\"none\"/>\n",
              "    <path d=\"M18.56 5.44l.94 2.06.94-2.06 2.06-.94-2.06-.94-.94-2.06-.94 2.06-2.06.94zm-11 1L8.5 8.5l.94-2.06 2.06-.94-2.06-.94L8.5 2.5l-.94 2.06-2.06.94zm10 10l.94 2.06.94-2.06 2.06-.94-2.06-.94-.94-2.06-.94 2.06-2.06.94z\"/><path d=\"M17.41 7.96l-1.37-1.37c-.4-.4-.92-.59-1.43-.59-.52 0-1.04.2-1.43.59L10.3 9.45l-7.72 7.72c-.78.78-.78 2.05 0 2.83L4 21.41c.39.39.9.59 1.41.59.51 0 1.02-.2 1.41-.59l7.78-7.78 2.81-2.81c.8-.78.8-2.07 0-2.86zM5.41 20L4 18.59l7.72-7.72 1.47 1.35L5.41 20z\"/>\n",
              "  </svg>\n",
              "      </button>\n",
              "      \n",
              "  <style>\n",
              "    .colab-df-container {\n",
              "      display:flex;\n",
              "      flex-wrap:wrap;\n",
              "      gap: 12px;\n",
              "    }\n",
              "\n",
              "    .colab-df-convert {\n",
              "      background-color: #E8F0FE;\n",
              "      border: none;\n",
              "      border-radius: 50%;\n",
              "      cursor: pointer;\n",
              "      display: none;\n",
              "      fill: #1967D2;\n",
              "      height: 32px;\n",
              "      padding: 0 0 0 0;\n",
              "      width: 32px;\n",
              "    }\n",
              "\n",
              "    .colab-df-convert:hover {\n",
              "      background-color: #E2EBFA;\n",
              "      box-shadow: 0px 1px 2px rgba(60, 64, 67, 0.3), 0px 1px 3px 1px rgba(60, 64, 67, 0.15);\n",
              "      fill: #174EA6;\n",
              "    }\n",
              "\n",
              "    [theme=dark] .colab-df-convert {\n",
              "      background-color: #3B4455;\n",
              "      fill: #D2E3FC;\n",
              "    }\n",
              "\n",
              "    [theme=dark] .colab-df-convert:hover {\n",
              "      background-color: #434B5C;\n",
              "      box-shadow: 0px 1px 3px 1px rgba(0, 0, 0, 0.15);\n",
              "      filter: drop-shadow(0px 1px 2px rgba(0, 0, 0, 0.3));\n",
              "      fill: #FFFFFF;\n",
              "    }\n",
              "  </style>\n",
              "\n",
              "      <script>\n",
              "        const buttonEl =\n",
              "          document.querySelector('#df-713c1c93-0d82-4fa0-83c5-499e971a9269 button.colab-df-convert');\n",
              "        buttonEl.style.display =\n",
              "          google.colab.kernel.accessAllowed ? 'block' : 'none';\n",
              "\n",
              "        async function convertToInteractive(key) {\n",
              "          const element = document.querySelector('#df-713c1c93-0d82-4fa0-83c5-499e971a9269');\n",
              "          const dataTable =\n",
              "            await google.colab.kernel.invokeFunction('convertToInteractive',\n",
              "                                                     [key], {});\n",
              "          if (!dataTable) return;\n",
              "\n",
              "          const docLinkHtml = 'Like what you see? Visit the ' +\n",
              "            '<a target=\"_blank\" href=https://colab.research.google.com/notebooks/data_table.ipynb>data table notebook</a>'\n",
              "            + ' to learn more about interactive tables.';\n",
              "          element.innerHTML = '';\n",
              "          dataTable['output_type'] = 'display_data';\n",
              "          await google.colab.output.renderOutput(dataTable, element);\n",
              "          const docLink = document.createElement('div');\n",
              "          docLink.innerHTML = docLinkHtml;\n",
              "          element.appendChild(docLink);\n",
              "        }\n",
              "      </script>\n",
              "    </div>\n",
              "  </div>\n",
              "  "
            ]
          },
          "metadata": {},
          "execution_count": 23
        }
      ]
    },
    {
      "cell_type": "markdown",
      "metadata": {
        "id": "NhfcoBfgK3Uu"
      },
      "source": [
        "#**Exploratory Data Analysis And Visualization**"
      ]
    },
    {
      "cell_type": "markdown",
      "source": [
        "#**Questions-**\n",
        "\n",
        "**1.Which Traveller_type has more ratings?**\n",
        "\n",
        "**2.Which type of Cabin has more recommendation?**\n",
        "\n",
        "**3.Is it Solo Leisure worth for Money?**\n",
        "\n",
        "**4.In Economy Class what is the average ratings of Food_bev and entertainment given by passenger?**\n",
        "\n",
        "**5.Which cabin type has more service ratings?**\n",
        "\n",
        "**6.Which cabin type has overall service ratings?**\n",
        "\n",
        "**7.Which travellers_type has overall service ratings?**\n",
        "\n",
        "**8.Which airline made highest trips?**\n",
        "\n",
        "**9.Comparison of all independent variable/features?**"
      ],
      "metadata": {
        "id": "NvIDb9lbNVZO"
      }
    },
    {
      "cell_type": "markdown",
      "source": [
        "###**1) Which Traveller_type has more ratings?**"
      ],
      "metadata": {
        "id": "EUq36ewJgpx-"
      }
    },
    {
      "cell_type": "code",
      "source": [
        "#setting the figure size and plotting the graph\n",
        "plt.figure(figsize=(8,6))\n",
        "sns.countplot(airline_df['traveller_type'])"
      ],
      "metadata": {
        "id": "j_5KLyzOgpKY",
        "colab": {
          "base_uri": "https://localhost:8080/",
          "height": 407
        },
        "outputId": "dc4e894a-4a91-4fc1-bf63-2129300c71a2"
      },
      "execution_count": 24,
      "outputs": [
        {
          "output_type": "execute_result",
          "data": {
            "text/plain": [
              "<matplotlib.axes._subplots.AxesSubplot at 0x7f5b664f8d90>"
            ]
          },
          "metadata": {},
          "execution_count": 24
        },
        {
          "output_type": "display_data",
          "data": {
            "text/plain": [
              "<Figure size 576x432 with 1 Axes>"
            ],
            "image/png": "[encoded data removed]"
          },
          "metadata": {
            "needs_background": "light"
          }
        }
      ]
    },
    {
      "cell_type": "markdown",
      "source": [
        "\n",
        "\n",
        "From above plot\n",
        "\n",
        "* Travelling type of Solo Leisure has more ratings\n",
        "\n"
      ],
      "metadata": {
        "id": "xo_tq6JChLcl"
      }
    },
    {
      "cell_type": "markdown",
      "source": [
        "###**2) Which type of Cabin has more recommendation?**\n"
      ],
      "metadata": {
        "id": "fveXtWClhkvd"
      }
    },
    {
      "cell_type": "code",
      "source": [
        "#setting the figure size and plotting the graph\n",
        "plt.figure(figsize=(8,6))\n",
        "sns.countplot(airline_df['cabin'],hue=airline_df['recommended'])"
      ],
      "metadata": {
        "id": "iDWt80pOgovE",
        "colab": {
          "base_uri": "https://localhost:8080/",
          "height": 406
        },
        "outputId": "19d05680-26be-4875-9b9b-8b893e8abbae"
      },
      "execution_count": 25,
      "outputs": [
        {
          "output_type": "execute_result",
          "data": {
            "text/plain": [
              "<matplotlib.axes._subplots.AxesSubplot at 0x7f5b6655a810>"
            ]
          },
          "metadata": {},
          "execution_count": 25
        },
        {
          "output_type": "display_data",
          "data": {
            "text/plain": [
              "<Figure size 576x432 with 1 Axes>"
            ],
            "image/png": "[encoded data removed]"
          },
          "metadata": {
            "needs_background": "light"
          }
        }
      ]
    },
    {
      "cell_type": "markdown",
      "source": [
        "On the basis of graph -\n",
        "\n",
        "* Economy class has highest recommendation with bad reviews.\n",
        "\n",
        "* Business class has second most recommended cabin type with good reviews.\n",
        "\n",
        "* premium economy has equal reviews.\n",
        "\n",
        "* first class is least recommend cabin type with good reviews."
      ],
      "metadata": {
        "id": "7mGJvik9lx4O"
      }
    },
    {
      "cell_type": "markdown",
      "source": [
        "###**3) Is it Solo Leisure worth for Money?**\n"
      ],
      "metadata": {
        "id": "kjDDnTczR1OI"
      }
    },
    {
      "cell_type": "code",
      "source": [
        "#setting the figure size and plotting the grap\n",
        "plt.figure(figsize=(8,6))\n",
        "sns.barplot(x=airline_df['traveller_type'],y=airline_df['value_for_money'])"
      ],
      "metadata": {
        "id": "sUn8Icofgn_w",
        "colab": {
          "base_uri": "https://localhost:8080/",
          "height": 407
        },
        "outputId": "d7ffc534-13d6-4a9c-e9b9-bb6e87b8ed91"
      },
      "execution_count": 26,
      "outputs": [
        {
          "output_type": "execute_result",
          "data": {
            "text/plain": [
              "<matplotlib.axes._subplots.AxesSubplot at 0x7f5b64bbcfd0>"
            ]
          },
          "metadata": {},
          "execution_count": 26
        },
        {
          "output_type": "display_data",
          "data": {
            "text/plain": [
              "<Figure size 576x432 with 1 Axes>"
            ],
            "image/png": "[encoded data removed]"
          },
          "metadata": {
            "needs_background": "light"
          }
        }
      ]
    },
    {
      "cell_type": "markdown",
      "source": [
        "\n",
        "\n",
        "From above plot\n",
        "\n",
        "  Yes,Travelling Type of Solo Leisure worth of Money compare to other type of travelling.\n",
        "\n"
      ],
      "metadata": {
        "id": "yzG5FN2HTvN4"
      }
    },
    {
      "cell_type": "markdown",
      "source": [
        "###**4) In Economy Class what is the average ratings of Food_bev and entertainment given by passenger?**\n"
      ],
      "metadata": {
        "id": "zWJQA871Ty88"
      }
    },
    {
      "cell_type": "code",
      "source": [
        "#performing the grouphby method \n",
        "eda_4=airline_df.groupby('cabin')[['food_bev','entertainment']].mean().reset_index()\n",
        "eda_4"
      ],
      "metadata": {
        "id": "vmRImBvBTyik",
        "colab": {
          "base_uri": "https://localhost:8080/",
          "height": 175
        },
        "outputId": "7846c6cf-49c0-418d-deb0-02f1d2ac0d67"
      },
      "execution_count": 27,
      "outputs": [
        {
          "output_type": "execute_result",
          "data": {
            "text/plain": [
              "             cabin  food_bev  entertainment\n",
              "0   Business Class  3.525108       3.356407\n",
              "1    Economy Class  2.776919       2.758083\n",
              "2      First Class  3.384295       3.280827\n",
              "3  Premium Economy  2.919603       3.038980"
            ],
            "text/html": [
              "\n",
              "  <div id=\"df-2ab02bf9-49aa-48e4-8907-2cac355c0016\">\n",
              "    <div class=\"colab-df-container\">\n",
              "      <div>\n",
              "<style scoped>\n",
              "    .dataframe tbody tr th:only-of-type {\n",
              "        vertical-align: middle;\n",
              "    }\n",
              "\n",
              "    .dataframe tbody tr th {\n",
              "        vertical-align: top;\n",
              "    }\n",
              "\n",
              "    .dataframe thead th {\n",
              "        text-align: right;\n",
              "    }\n",
              "</style>\n",
              "<table border=\"1\" class=\"dataframe\">\n",
              "  <thead>\n",
              "    <tr style=\"text-align: right;\">\n",
              "      <th></th>\n",
              "      <th>cabin</th>\n",
              "      <th>food_bev</th>\n",
              "      <th>entertainment</th>\n",
              "    </tr>\n",
              "  </thead>\n",
              "  <tbody>\n",
              "    <tr>\n",
              "      <th>0</th>\n",
              "      <td>Business Class</td>\n",
              "      <td>3.525108</td>\n",
              "      <td>3.356407</td>\n",
              "    </tr>\n",
              "    <tr>\n",
              "      <th>1</th>\n",
              "      <td>Economy Class</td>\n",
              "      <td>2.776919</td>\n",
              "      <td>2.758083</td>\n",
              "    </tr>\n",
              "    <tr>\n",
              "      <th>2</th>\n",
              "      <td>First Class</td>\n",
              "      <td>3.384295</td>\n",
              "      <td>3.280827</td>\n",
              "    </tr>\n",
              "    <tr>\n",
              "      <th>3</th>\n",
              "      <td>Premium Economy</td>\n",
              "      <td>2.919603</td>\n",
              "      <td>3.038980</td>\n",
              "    </tr>\n",
              "  </tbody>\n",
              "</table>\n",
              "</div>\n",
              "      <button class=\"colab-df-convert\" onclick=\"convertToInteractive('df-2ab02bf9-49aa-48e4-8907-2cac355c0016')\"\n",
              "              title=\"Convert this dataframe to an interactive table.\"\n",
              "              style=\"display:none;\">\n",
              "        \n",
              "  <svg xmlns=\"http://www.w3.org/2000/svg\" height=\"24px\"viewBox=\"0 0 24 24\"\n",
              "       width=\"24px\">\n",
              "    <path d=\"M0 0h24v24H0V0z\" fill=\"none\"/>\n",
              "    <path d=\"M18.56 5.44l.94 2.06.94-2.06 2.06-.94-2.06-.94-.94-2.06-.94 2.06-2.06.94zm-11 1L8.5 8.5l.94-2.06 2.06-.94-2.06-.94L8.5 2.5l-.94 2.06-2.06.94zm10 10l.94 2.06.94-2.06 2.06-.94-2.06-.94-.94-2.06-.94 2.06-2.06.94z\"/><path d=\"M17.41 7.96l-1.37-1.37c-.4-.4-.92-.59-1.43-.59-.52 0-1.04.2-1.43.59L10.3 9.45l-7.72 7.72c-.78.78-.78 2.05 0 2.83L4 21.41c.39.39.9.59 1.41.59.51 0 1.02-.2 1.41-.59l7.78-7.78 2.81-2.81c.8-.78.8-2.07 0-2.86zM5.41 20L4 18.59l7.72-7.72 1.47 1.35L5.41 20z\"/>\n",
              "  </svg>\n",
              "      </button>\n",
              "      \n",
              "  <style>\n",
              "    .colab-df-container {\n",
              "      display:flex;\n",
              "      flex-wrap:wrap;\n",
              "      gap: 12px;\n",
              "    }\n",
              "\n",
              "    .colab-df-convert {\n",
              "      background-color: #E8F0FE;\n",
              "      border: none;\n",
              "      border-radius: 50%;\n",
              "      cursor: pointer;\n",
              "      display: none;\n",
              "      fill: #1967D2;\n",
              "      height: 32px;\n",
              "      padding: 0 0 0 0;\n",
              "      width: 32px;\n",
              "    }\n",
              "\n",
              "    .colab-df-convert:hover {\n",
              "      background-color: #E2EBFA;\n",
              "      box-shadow: 0px 1px 2px rgba(60, 64, 67, 0.3), 0px 1px 3px 1px rgba(60, 64, 67, 0.15);\n",
              "      fill: #174EA6;\n",
              "    }\n",
              "\n",
              "    [theme=dark] .colab-df-convert {\n",
              "      background-color: #3B4455;\n",
              "      fill: #D2E3FC;\n",
              "    }\n",
              "\n",
              "    [theme=dark] .colab-df-convert:hover {\n",
              "      background-color: #434B5C;\n",
              "      box-shadow: 0px 1px 3px 1px rgba(0, 0, 0, 0.15);\n",
              "      filter: drop-shadow(0px 1px 2px rgba(0, 0, 0, 0.3));\n",
              "      fill: #FFFFFF;\n",
              "    }\n",
              "  </style>\n",
              "\n",
              "      <script>\n",
              "        const buttonEl =\n",
              "          document.querySelector('#df-2ab02bf9-49aa-48e4-8907-2cac355c0016 button.colab-df-convert');\n",
              "        buttonEl.style.display =\n",
              "          google.colab.kernel.accessAllowed ? 'block' : 'none';\n",
              "\n",
              "        async function convertToInteractive(key) {\n",
              "          const element = document.querySelector('#df-2ab02bf9-49aa-48e4-8907-2cac355c0016');\n",
              "          const dataTable =\n",
              "            await google.colab.kernel.invokeFunction('convertToInteractive',\n",
              "                                                     [key], {});\n",
              "          if (!dataTable) return;\n",
              "\n",
              "          const docLinkHtml = 'Like what you see? Visit the ' +\n",
              "            '<a target=\"_blank\" href=https://colab.research.google.com/notebooks/data_table.ipynb>data table notebook</a>'\n",
              "            + ' to learn more about interactive tables.';\n",
              "          element.innerHTML = '';\n",
              "          dataTable['output_type'] = 'display_data';\n",
              "          await google.colab.output.renderOutput(dataTable, element);\n",
              "          const docLink = document.createElement('div');\n",
              "          docLink.innerHTML = docLinkHtml;\n",
              "          element.appendChild(docLink);\n",
              "        }\n",
              "      </script>\n",
              "    </div>\n",
              "  </div>\n",
              "  "
            ]
          },
          "metadata": {},
          "execution_count": 27
        }
      ]
    },
    {
      "cell_type": "code",
      "source": [
        "plt.rcParams['figure.figsize']=(10,7)\n",
        "eda_4.plot(x=\"cabin\", y=[\"food_bev\", \"entertainment\"], kind=\"bar\")"
      ],
      "metadata": {
        "id": "yUA-iqrNUSw0",
        "colab": {
          "base_uri": "https://localhost:8080/",
          "height": 544
        },
        "outputId": "ebafe999-40d3-4c89-ace5-e50d38012fb0"
      },
      "execution_count": 28,
      "outputs": [
        {
          "output_type": "execute_result",
          "data": {
            "text/plain": [
              "<matplotlib.axes._subplots.AxesSubplot at 0x7f5b66757310>"
            ]
          },
          "metadata": {},
          "execution_count": 28
        },
        {
          "output_type": "display_data",
          "data": {
            "text/plain": [
              "<Figure size 720x504 with 1 Axes>"
            ],
            "image/png": "[encoded data removed]"
          },
          "metadata": {
            "needs_background": "light"
          }
        }
      ]
    },
    {
      "cell_type": "markdown",
      "source": [
        "\n",
        "\n",
        "From above plot\n",
        "\n",
        "In Economy Class the average ratings of Food_bev and entertainment given by passenger is lowest compared to other cabin classes.\n",
        "\n"
      ],
      "metadata": {
        "id": "7Gf7OquTaFHs"
      }
    },
    {
      "cell_type": "markdown",
      "source": [
        "###**4) Which cabin type has more service ratings?**"
      ],
      "metadata": {
        "id": "pryp9QEPb1z_"
      }
    },
    {
      "cell_type": "code",
      "source": [
        "#Cabin type and cabin service ratings\n",
        "plt.figure(figsize=(10,5))\n",
        "sns.boxplot(airline_df.cabin, airline_df.cabin_service, hue = airline_df['recommended'], palette= ['orange','purple'])"
      ],
      "metadata": {
        "id": "-PVtOCQNkOWf",
        "colab": {
          "base_uri": "https://localhost:8080/",
          "height": 352
        },
        "outputId": "09e482ed-c450-4818-e02e-3246f8cd4427"
      },
      "execution_count": 29,
      "outputs": [
        {
          "output_type": "execute_result",
          "data": {
            "text/plain": [
              "<matplotlib.axes._subplots.AxesSubplot at 0x7f5b64e69610>"
            ]
          },
          "metadata": {},
          "execution_count": 29
        },
        {
          "output_type": "display_data",
          "data": {
            "text/plain": [
              "<Figure size 720x360 with 1 Axes>"
            ],
            "image/png": "[encoded data removed]"
          },
          "metadata": {
            "needs_background": "light"
          }
        }
      ]
    },
    {
      "cell_type": "markdown",
      "source": [
        "\n",
        "\n",
        "* First class travellers are least likely to recommend the  airlines.\n",
        "\n",
        "* Recommendation is most probable when the cabin service is given full star rating ie 5 out of 5 here.\n",
        "\n",
        "* In economy class if we got ratings between 4 to 5 that means airlines recommended.\n",
        "\n"
      ],
      "metadata": {
        "id": "tbD5HvJJlNGK"
      }
    },
    {
      "cell_type": "markdown",
      "source": [
        "###**5) Which cabin type has overall service ratings?** "
      ],
      "metadata": {
        "id": "58W0ojqPcPwx"
      }
    },
    {
      "cell_type": "code",
      "source": [
        "#Cabin type and overall service ratings (out of 10)\n",
        "plt.figure(figsize=(10,5))\n",
        "sns.barplot(airline_df.cabin, airline_df.overall, hue = airline_df['recommended'], palette= ['red','yellow'])"
      ],
      "metadata": {
        "id": "_xhXWzA8kORX",
        "colab": {
          "base_uri": "https://localhost:8080/",
          "height": 352
        },
        "outputId": "9fcfb731-f978-423f-c7c1-ef3deb1230e7"
      },
      "execution_count": 30,
      "outputs": [
        {
          "output_type": "execute_result",
          "data": {
            "text/plain": [
              "<matplotlib.axes._subplots.AxesSubplot at 0x7f5b66438050>"
            ]
          },
          "metadata": {},
          "execution_count": 30
        },
        {
          "output_type": "display_data",
          "data": {
            "text/plain": [
              "<Figure size 720x360 with 1 Axes>"
            ],
            "image/png": "[encoded data removed]"
          },
          "metadata": {
            "needs_background": "light"
          }
        }
      ]
    },
    {
      "cell_type": "markdown",
      "source": [
        "\n",
        "* If the trip is rated above 8 for overall section, the trip is most likely be recommended by the travellers.\n",
        "    \n",
        "* If it is below 3 , the unhappy travellers has not referred the airlines to their friends irrespective of their cabin type.\n",
        "\n"
      ],
      "metadata": {
        "id": "65I0dqwbl4Ge"
      }
    },
    {
      "cell_type": "markdown",
      "source": [
        "###**7) Which travellers_type has overall service ratings?**"
      ],
      "metadata": {
        "id": "aSc7HxZ8y4VF"
      }
    },
    {
      "cell_type": "code",
      "source": [
        "#Traveller type and overall service ratings (out of 10 )\n",
        "plt.figure(figsize=(10,5))\n",
        "sns.scatterplot(airline_df.traveller_type, airline_df.overall, hue = airline_df['recommended'], palette= ['indigo','orange'])"
      ],
      "metadata": {
        "id": "n1-XT8ufkOMT",
        "colab": {
          "base_uri": "https://localhost:8080/",
          "height": 353
        },
        "outputId": "764a3bc0-814b-4848-cf72-044dc3034c13"
      },
      "execution_count": 31,
      "outputs": [
        {
          "output_type": "execute_result",
          "data": {
            "text/plain": [
              "<matplotlib.axes._subplots.AxesSubplot at 0x7f5b654ddbd0>"
            ]
          },
          "metadata": {},
          "execution_count": 31
        },
        {
          "output_type": "display_data",
          "data": {
            "text/plain": [
              "<Figure size 720x360 with 1 Axes>"
            ],
            "image/png": "[encoded data removed]"
          },
          "metadata": {
            "needs_background": "light"
          }
        }
      ]
    },
    {
      "cell_type": "code",
      "source": [
        "#Traveller type and value for money ratings (out of 5 )\n",
        "plt.figure(figsize=(10,5))\n",
        "sns.barplot(airline_df.traveller_type, airline_df.value_for_money, hue = airline_df['recommended'], palette= ['blue','yellow'])"
      ],
      "metadata": {
        "id": "cD-_8M2bkOLH",
        "colab": {
          "base_uri": "https://localhost:8080/",
          "height": 353
        },
        "outputId": "b55f6b08-9ea0-4e82-de7e-76b05ff12d33"
      },
      "execution_count": 32,
      "outputs": [
        {
          "output_type": "execute_result",
          "data": {
            "text/plain": [
              "<matplotlib.axes._subplots.AxesSubplot at 0x7f5b6418b1d0>"
            ]
          },
          "metadata": {},
          "execution_count": 32
        },
        {
          "output_type": "display_data",
          "data": {
            "text/plain": [
              "<Figure size 720x360 with 1 Axes>"
            ],
            "image/png": "[encoded data removed]"
          },
          "metadata": {
            "needs_background": "light"
          }
        }
      ]
    },
    {
      "cell_type": "markdown",
      "source": [
        "\n",
        "\n",
        "* When the cabin_Service is rated 5, it is highly likely that the reviewer has recommended the airlines to travel irrespective of the type of cabin.\n",
        "\n",
        "* Economy class is the most recommended cabin type, whereas business class is the least recommended one\n"
      ],
      "metadata": {
        "id": "XUMnrYARm-vg"
      }
    },
    {
      "cell_type": "markdown",
      "source": [
        "##**8)Which airline made highest trips?**"
      ],
      "metadata": {
        "id": "2ZHpnb5gSXFe"
      }
    },
    {
      "cell_type": "code",
      "source": [
        "# Get the number of trips each airline make.\n",
        "trip_by_airlines = airline_df['airline'].value_counts()\n",
        "trip_by_airlines"
      ],
      "metadata": {
        "id": "TcYqbMMNSjDG",
        "colab": {
          "base_uri": "https://localhost:8080/"
        },
        "outputId": "d4fd658b-5c94-415e-9418-7b7e26a747d1"
      },
      "execution_count": 33,
      "outputs": [
        {
          "output_type": "execute_result",
          "data": {
            "text/plain": [
              "Spirit Airlines       2871\n",
              "American Airlines     2846\n",
              "United Airlines       2774\n",
              "British Airways       2731\n",
              "Emirates              1763\n",
              "                      ... \n",
              "QantasLink             104\n",
              "Adria Airways           85\n",
              "Air Arabia              80\n",
              "Tunisair                71\n",
              "Thai Smile Airways      48\n",
              "Name: airline, Length: 81, dtype: int64"
            ]
          },
          "metadata": {},
          "execution_count": 33
        }
      ]
    },
    {
      "cell_type": "markdown",
      "source": [
        "Getting more visualized view of top 10 airlines trip through graph."
      ],
      "metadata": {
        "id": "aKDi0YrNiHTj"
      }
    },
    {
      "cell_type": "code",
      "source": [
        "# Visualize the top 10 airlines with most trips\n",
        "plt.figure(figsize=(20,5))\n",
        "trip_by_airlines[:10].plot(kind='bar',color = 'purple')\n",
        "plt.xlabel('Airline Type',fontsize=12)\n",
        "plt.ylabel('Count',fontsize=12)\n",
        "plt.title('Top 10 Airline ',fontsize=15)\n",
        "plt.xticks(rotation='horizontal')\n",
        "plt.show()"
      ],
      "metadata": {
        "id": "xBWjYsz1SxHK",
        "colab": {
          "base_uri": "https://localhost:8080/",
          "height": 353
        },
        "outputId": "5be4a77e-0cf2-4467-99d1-ad344ea4bad5"
      },
      "execution_count": 34,
      "outputs": [
        {
          "output_type": "display_data",
          "data": {
            "text/plain": [
              "<Figure size 1440x360 with 1 Axes>"
            ],
            "image/png": "[encoded data removed]"
          },
          "metadata": {
            "needs_background": "light"
          }
        }
      ]
    },
    {
      "cell_type": "markdown",
      "source": [
        "We have observed that the top 10 airlines with most trips are-\n",
        "\n",
        "* Spirit Airlines  \n",
        "* American Airlines \n",
        "\n",
        "* United Airlines \n",
        "\n",
        "* British Airways\n",
        "\n",
        "* Emirates \n",
        "\n",
        "* china southern airline \n",
        "\n",
        "* frontier airlines \n",
        "\n",
        "* ryanair \n",
        "\n",
        "* delta air lines \n",
        "\n",
        "* turkish airlines"
      ],
      "metadata": {
        "id": "NLcZnYJEj8hO"
      }
    },
    {
      "cell_type": "markdown",
      "source": [
        "##**9) Comparison of all independent variable/features?**"
      ],
      "metadata": {
        "id": "k3qI5BHwRrEK"
      }
    },
    {
      "cell_type": "code",
      "source": [
        "#frequency distribution using histgram\n",
        "airline_df.hist(bins=50, figsize=(20,15),color = 'blue')\n",
        "plt.show()"
      ],
      "metadata": {
        "id": "mQvkhoAoRugp",
        "colab": {
          "base_uri": "https://localhost:8080/",
          "height": 879
        },
        "outputId": "7eb18971-3c8f-470b-fe3c-d53f71bff16b"
      },
      "execution_count": 35,
      "outputs": [
        {
          "output_type": "display_data",
          "data": {
            "text/plain": [
              "<Figure size 1440x1080 with 9 Axes>"
            ],
            "image/png": "[encoded data removed]"
          },
          "metadata": {
            "needs_background": "light"
          }
        }
      ]
    },
    {
      "cell_type": "markdown",
      "source": [
        "From above plot\n",
        "\n",
        "* The overall feature ratings of 1 to 2 occur more frequently. \n",
        "From Seat comfort feature, We can say that rating of 1 is highest and rating of 4 is the second highest.\n",
        "\n",
        "\n",
        "* From cabin service feature, We can say that rating of 5 is highest and rating of 1 is the second highest.\n",
        "\n",
        "* The food bev feature ratings of 2,4 and 5 are varies equally.Which means their frequency are approximately equal.\n",
        "\n",
        "* The features of both the entertainment & ground service, We can say that ratings of 3 is highest and ratings of 1 is the second highest.\n",
        "\n",
        "* From value for money feature, It clearly shows that most of the passenger gives ratings of 1 as highest. From this we can say that most of the airline does not provide good service to passenger."
      ],
      "metadata": {
        "id": "6qFgqFI24YCU"
      }
    },
    {
      "cell_type": "markdown",
      "metadata": {
        "id": "YsIEhxJt2u-S"
      },
      "source": [
        "#**Droping Unnecessary columns**"
      ]
    },
    {
      "cell_type": "code",
      "source": [
        "#Checking Percentage wise missing values.\n",
        "def missing_values_per_check(df):\n",
        "    percent_missing = airline_df.isnull().sum() * 100 / len(airline_df)\n",
        "    missing_values_df = pd.DataFrame({'column_name': airline_df.columns,\n",
        "                                     'percent_missing': percent_missing})\n",
        "    return missing_values_df.sort_values('percent_missing',ascending=False)"
      ],
      "metadata": {
        "id": "tCE3_z1fhjt7"
      },
      "execution_count": 36,
      "outputs": []
    },
    {
      "cell_type": "code",
      "source": [
        "#Checking Percentage wise missing values.\n",
        "missing_values_per_check(airline_df)"
      ],
      "metadata": {
        "id": "liWtA54_hjpL",
        "colab": {
          "base_uri": "https://localhost:8080/",
          "height": 582
        },
        "outputId": "3abb5568-a336-4733-e443-54ee25a003c9"
      },
      "execution_count": 37,
      "outputs": [
        {
          "output_type": "execute_result",
          "data": {
            "text/plain": [
              "                     column_name  percent_missing\n",
              "aircraft                aircraft        69.782950\n",
              "ground_service    ground_service        39.250458\n",
              "date_flown            date_flown        38.817338\n",
              "route                      route        38.688219\n",
              "traveller_type    traveller_type        38.644090\n",
              "entertainment      entertainment        34.247516\n",
              "food_bev                food_bev        20.990782\n",
              "seat_comfort        seat_comfort         8.127942\n",
              "cabin_service      cabin_service         8.080544\n",
              "cabin                      cabin         4.051713\n",
              "value_for_money  value_for_money         3.035107\n",
              "overall                  overall         2.914161\n",
              "recommended          recommended         2.325771\n",
              "customer_review  customer_review         0.001634\n",
              "review_date          review_date         0.001634\n",
              "author                    author         0.001634\n",
              "airline                  airline         0.001634"
            ],
            "text/html": [
              "\n",
              "  <div id=\"df-53e07ade-4ef1-4c11-95cd-8dc8d12d898b\">\n",
              "    <div class=\"colab-df-container\">\n",
              "      <div>\n",
              "<style scoped>\n",
              "    .dataframe tbody tr th:only-of-type {\n",
              "        vertical-align: middle;\n",
              "    }\n",
              "\n",
              "    .dataframe tbody tr th {\n",
              "        vertical-align: top;\n",
              "    }\n",
              "\n",
              "    .dataframe thead th {\n",
              "        text-align: right;\n",
              "    }\n",
              "</style>\n",
              "<table border=\"1\" class=\"dataframe\">\n",
              "  <thead>\n",
              "    <tr style=\"text-align: right;\">\n",
              "      <th></th>\n",
              "      <th>column_name</th>\n",
              "      <th>percent_missing</th>\n",
              "    </tr>\n",
              "  </thead>\n",
              "  <tbody>\n",
              "    <tr>\n",
              "      <th>aircraft</th>\n",
              "      <td>aircraft</td>\n",
              "      <td>69.782950</td>\n",
              "    </tr>\n",
              "    <tr>\n",
              "      <th>ground_service</th>\n",
              "      <td>ground_service</td>\n",
              "      <td>39.250458</td>\n",
              "    </tr>\n",
              "    <tr>\n",
              "      <th>date_flown</th>\n",
              "      <td>date_flown</td>\n",
              "      <td>38.817338</td>\n",
              "    </tr>\n",
              "    <tr>\n",
              "      <th>route</th>\n",
              "      <td>route</td>\n",
              "      <td>38.688219</td>\n",
              "    </tr>\n",
              "    <tr>\n",
              "      <th>traveller_type</th>\n",
              "      <td>traveller_type</td>\n",
              "      <td>38.644090</td>\n",
              "    </tr>\n",
              "    <tr>\n",
              "      <th>entertainment</th>\n",
              "      <td>entertainment</td>\n",
              "      <td>34.247516</td>\n",
              "    </tr>\n",
              "    <tr>\n",
              "      <th>food_bev</th>\n",
              "      <td>food_bev</td>\n",
              "      <td>20.990782</td>\n",
              "    </tr>\n",
              "    <tr>\n",
              "      <th>seat_comfort</th>\n",
              "      <td>seat_comfort</td>\n",
              "      <td>8.127942</td>\n",
              "    </tr>\n",
              "    <tr>\n",
              "      <th>cabin_service</th>\n",
              "      <td>cabin_service</td>\n",
              "      <td>8.080544</td>\n",
              "    </tr>\n",
              "    <tr>\n",
              "      <th>cabin</th>\n",
              "      <td>cabin</td>\n",
              "      <td>4.051713</td>\n",
              "    </tr>\n",
              "    <tr>\n",
              "      <th>value_for_money</th>\n",
              "      <td>value_for_money</td>\n",
              "      <td>3.035107</td>\n",
              "    </tr>\n",
              "    <tr>\n",
              "      <th>overall</th>\n",
              "      <td>overall</td>\n",
              "      <td>2.914161</td>\n",
              "    </tr>\n",
              "    <tr>\n",
              "      <th>recommended</th>\n",
              "      <td>recommended</td>\n",
              "      <td>2.325771</td>\n",
              "    </tr>\n",
              "    <tr>\n",
              "      <th>customer_review</th>\n",
              "      <td>customer_review</td>\n",
              "      <td>0.001634</td>\n",
              "    </tr>\n",
              "    <tr>\n",
              "      <th>review_date</th>\n",
              "      <td>review_date</td>\n",
              "      <td>0.001634</td>\n",
              "    </tr>\n",
              "    <tr>\n",
              "      <th>author</th>\n",
              "      <td>author</td>\n",
              "      <td>0.001634</td>\n",
              "    </tr>\n",
              "    <tr>\n",
              "      <th>airline</th>\n",
              "      <td>airline</td>\n",
              "      <td>0.001634</td>\n",
              "    </tr>\n",
              "  </tbody>\n",
              "</table>\n",
              "</div>\n",
              "      <button class=\"colab-df-convert\" onclick=\"convertToInteractive('df-53e07ade-4ef1-4c11-95cd-8dc8d12d898b')\"\n",
              "              title=\"Convert this dataframe to an interactive table.\"\n",
              "              style=\"display:none;\">\n",
              "        \n",
              "  <svg xmlns=\"http://www.w3.org/2000/svg\" height=\"24px\"viewBox=\"0 0 24 24\"\n",
              "       width=\"24px\">\n",
              "    <path d=\"M0 0h24v24H0V0z\" fill=\"none\"/>\n",
              "    <path d=\"M18.56 5.44l.94 2.06.94-2.06 2.06-.94-2.06-.94-.94-2.06-.94 2.06-2.06.94zm-11 1L8.5 8.5l.94-2.06 2.06-.94-2.06-.94L8.5 2.5l-.94 2.06-2.06.94zm10 10l.94 2.06.94-2.06 2.06-.94-2.06-.94-.94-2.06-.94 2.06-2.06.94z\"/><path d=\"M17.41 7.96l-1.37-1.37c-.4-.4-.92-.59-1.43-.59-.52 0-1.04.2-1.43.59L10.3 9.45l-7.72 7.72c-.78.78-.78 2.05 0 2.83L4 21.41c.39.39.9.59 1.41.59.51 0 1.02-.2 1.41-.59l7.78-7.78 2.81-2.81c.8-.78.8-2.07 0-2.86zM5.41 20L4 18.59l7.72-7.72 1.47 1.35L5.41 20z\"/>\n",
              "  </svg>\n",
              "      </button>\n",
              "      \n",
              "  <style>\n",
              "    .colab-df-container {\n",
              "      display:flex;\n",
              "      flex-wrap:wrap;\n",
              "      gap: 12px;\n",
              "    }\n",
              "\n",
              "    .colab-df-convert {\n",
              "      background-color: #E8F0FE;\n",
              "      border: none;\n",
              "      border-radius: 50%;\n",
              "      cursor: pointer;\n",
              "      display: none;\n",
              "      fill: #1967D2;\n",
              "      height: 32px;\n",
              "      padding: 0 0 0 0;\n",
              "      width: 32px;\n",
              "    }\n",
              "\n",
              "    .colab-df-convert:hover {\n",
              "      background-color: #E2EBFA;\n",
              "      box-shadow: 0px 1px 2px rgba(60, 64, 67, 0.3), 0px 1px 3px 1px rgba(60, 64, 67, 0.15);\n",
              "      fill: #174EA6;\n",
              "    }\n",
              "\n",
              "    [theme=dark] .colab-df-convert {\n",
              "      background-color: #3B4455;\n",
              "      fill: #D2E3FC;\n",
              "    }\n",
              "\n",
              "    [theme=dark] .colab-df-convert:hover {\n",
              "      background-color: #434B5C;\n",
              "      box-shadow: 0px 1px 3px 1px rgba(0, 0, 0, 0.15);\n",
              "      filter: drop-shadow(0px 1px 2px rgba(0, 0, 0, 0.3));\n",
              "      fill: #FFFFFF;\n",
              "    }\n",
              "  </style>\n",
              "\n",
              "      <script>\n",
              "        const buttonEl =\n",
              "          document.querySelector('#df-53e07ade-4ef1-4c11-95cd-8dc8d12d898b button.colab-df-convert');\n",
              "        buttonEl.style.display =\n",
              "          google.colab.kernel.accessAllowed ? 'block' : 'none';\n",
              "\n",
              "        async function convertToInteractive(key) {\n",
              "          const element = document.querySelector('#df-53e07ade-4ef1-4c11-95cd-8dc8d12d898b');\n",
              "          const dataTable =\n",
              "            await google.colab.kernel.invokeFunction('convertToInteractive',\n",
              "                                                     [key], {});\n",
              "          if (!dataTable) return;\n",
              "\n",
              "          const docLinkHtml = 'Like what you see? Visit the ' +\n",
              "            '<a target=\"_blank\" href=https://colab.research.google.com/notebooks/data_table.ipynb>data table notebook</a>'\n",
              "            + ' to learn more about interactive tables.';\n",
              "          element.innerHTML = '';\n",
              "          dataTable['output_type'] = 'display_data';\n",
              "          await google.colab.output.renderOutput(dataTable, element);\n",
              "          const docLink = document.createElement('div');\n",
              "          docLink.innerHTML = docLinkHtml;\n",
              "          element.appendChild(docLink);\n",
              "        }\n",
              "      </script>\n",
              "    </div>\n",
              "  </div>\n",
              "  "
            ]
          },
          "metadata": {},
          "execution_count": 37
        }
      ]
    },
    {
      "cell_type": "code",
      "source": [
        "#Showing the unique aircraft names\n",
        "airline_df.aircraft.unique()"
      ],
      "metadata": {
        "id": "0RcLrzjdjZ0h",
        "colab": {
          "base_uri": "https://localhost:8080/"
        },
        "outputId": "4c54dbfe-eb5e-464f-f0c8-e5be5ec5f90b"
      },
      "execution_count": 38,
      "outputs": [
        {
          "output_type": "execute_result",
          "data": {
            "text/plain": [
              "array([nan, 'A330', 'Boeing 737-800 / A330-300', ...,\n",
              "       'Boeing 737-800 and Embraer 190', 'Boeing 737-400/ 737-800',\n",
              "       'boeing 767'], dtype=object)"
            ]
          },
          "metadata": {},
          "execution_count": 38
        }
      ]
    },
    {
      "cell_type": "code",
      "source": [
        "#checking the number of unique aircrafts\n",
        "airline_df.aircraft.nunique()"
      ],
      "metadata": {
        "id": "GHbjKeq4jBH8",
        "colab": {
          "base_uri": "https://localhost:8080/"
        },
        "outputId": "3f7240b2-6a83-46f0-dfc9-3cd5162f8ff7"
      },
      "execution_count": 39,
      "outputs": [
        {
          "output_type": "execute_result",
          "data": {
            "text/plain": [
              "2088"
            ]
          },
          "metadata": {},
          "execution_count": 39
        }
      ]
    },
    {
      "cell_type": "markdown",
      "metadata": {
        "id": "hapsNbM3-8MX"
      },
      "source": [
        "Droping the aircraft column from data as it have highest null values."
      ]
    },
    {
      "cell_type": "code",
      "execution_count": 40,
      "metadata": {
        "id": "AqrR2YNu-4sV"
      },
      "outputs": [],
      "source": [
        "airline_df = airline_df.drop(['aircraft'],axis = 1)"
      ]
    },
    {
      "cell_type": "code",
      "execution_count": 41,
      "metadata": {
        "id": "2MX_uS6i2sxC",
        "colab": {
          "base_uri": "https://localhost:8080/",
          "height": 319
        },
        "outputId": "b8158f31-456f-4262-8727-8724bbbad4a4"
      },
      "outputs": [
        {
          "output_type": "execute_result",
          "data": {
            "text/plain": [
              "            airline  overall  traveller_type          cabin  seat_comfort  \\\n",
              "0               NaN      NaN             NaN            NaN           NaN   \n",
              "1  Turkish Airlines      7.0        Business  Economy Class           4.0   \n",
              "3  Turkish Airlines      2.0  Family Leisure  Economy Class           4.0   \n",
              "5  Turkish Airlines      3.0        Business  Economy Class           1.0   \n",
              "7  Turkish Airlines     10.0    Solo Leisure  Economy Class           4.0   \n",
              "\n",
              "   cabin_service  food_bev  entertainment  ground_service  value_for_money  \\\n",
              "0            NaN       NaN            NaN             NaN              NaN   \n",
              "1            5.0       4.0            4.0             2.0              4.0   \n",
              "3            1.0       1.0            1.0             1.0              1.0   \n",
              "5            4.0       1.0            3.0             1.0              2.0   \n",
              "7            5.0       5.0            5.0             5.0              5.0   \n",
              "\n",
              "  recommended  \n",
              "0         NaN  \n",
              "1         yes  \n",
              "3          no  \n",
              "5          no  \n",
              "7         yes  "
            ],
            "text/html": [
              "\n",
              "  <div id=\"df-a67c038c-efc4-4734-be4d-2353a1e7e4f7\">\n",
              "    <div class=\"colab-df-container\">\n",
              "      <div>\n",
              "<style scoped>\n",
              "    .dataframe tbody tr th:only-of-type {\n",
              "        vertical-align: middle;\n",
              "    }\n",
              "\n",
              "    .dataframe tbody tr th {\n",
              "        vertical-align: top;\n",
              "    }\n",
              "\n",
              "    .dataframe thead th {\n",
              "        text-align: right;\n",
              "    }\n",
              "</style>\n",
              "<table border=\"1\" class=\"dataframe\">\n",
              "  <thead>\n",
              "    <tr style=\"text-align: right;\">\n",
              "      <th></th>\n",
              "      <th>airline</th>\n",
              "      <th>overall</th>\n",
              "      <th>traveller_type</th>\n",
              "      <th>cabin</th>\n",
              "      <th>seat_comfort</th>\n",
              "      <th>cabin_service</th>\n",
              "      <th>food_bev</th>\n",
              "      <th>entertainment</th>\n",
              "      <th>ground_service</th>\n",
              "      <th>value_for_money</th>\n",
              "      <th>recommended</th>\n",
              "    </tr>\n",
              "  </thead>\n",
              "  <tbody>\n",
              "    <tr>\n",
              "      <th>0</th>\n",
              "      <td>NaN</td>\n",
              "      <td>NaN</td>\n",
              "      <td>NaN</td>\n",
              "      <td>NaN</td>\n",
              "      <td>NaN</td>\n",
              "      <td>NaN</td>\n",
              "      <td>NaN</td>\n",
              "      <td>NaN</td>\n",
              "      <td>NaN</td>\n",
              "      <td>NaN</td>\n",
              "      <td>NaN</td>\n",
              "    </tr>\n",
              "    <tr>\n",
              "      <th>1</th>\n",
              "      <td>Turkish Airlines</td>\n",
              "      <td>7.0</td>\n",
              "      <td>Business</td>\n",
              "      <td>Economy Class</td>\n",
              "      <td>4.0</td>\n",
              "      <td>5.0</td>\n",
              "      <td>4.0</td>\n",
              "      <td>4.0</td>\n",
              "      <td>2.0</td>\n",
              "      <td>4.0</td>\n",
              "      <td>yes</td>\n",
              "    </tr>\n",
              "    <tr>\n",
              "      <th>3</th>\n",
              "      <td>Turkish Airlines</td>\n",
              "      <td>2.0</td>\n",
              "      <td>Family Leisure</td>\n",
              "      <td>Economy Class</td>\n",
              "      <td>4.0</td>\n",
              "      <td>1.0</td>\n",
              "      <td>1.0</td>\n",
              "      <td>1.0</td>\n",
              "      <td>1.0</td>\n",
              "      <td>1.0</td>\n",
              "      <td>no</td>\n",
              "    </tr>\n",
              "    <tr>\n",
              "      <th>5</th>\n",
              "      <td>Turkish Airlines</td>\n",
              "      <td>3.0</td>\n",
              "      <td>Business</td>\n",
              "      <td>Economy Class</td>\n",
              "      <td>1.0</td>\n",
              "      <td>4.0</td>\n",
              "      <td>1.0</td>\n",
              "      <td>3.0</td>\n",
              "      <td>1.0</td>\n",
              "      <td>2.0</td>\n",
              "      <td>no</td>\n",
              "    </tr>\n",
              "    <tr>\n",
              "      <th>7</th>\n",
              "      <td>Turkish Airlines</td>\n",
              "      <td>10.0</td>\n",
              "      <td>Solo Leisure</td>\n",
              "      <td>Economy Class</td>\n",
              "      <td>4.0</td>\n",
              "      <td>5.0</td>\n",
              "      <td>5.0</td>\n",
              "      <td>5.0</td>\n",
              "      <td>5.0</td>\n",
              "      <td>5.0</td>\n",
              "      <td>yes</td>\n",
              "    </tr>\n",
              "  </tbody>\n",
              "</table>\n",
              "</div>\n",
              "      <button class=\"colab-df-convert\" onclick=\"convertToInteractive('df-a67c038c-efc4-4734-be4d-2353a1e7e4f7')\"\n",
              "              title=\"Convert this dataframe to an interactive table.\"\n",
              "              style=\"display:none;\">\n",
              "        \n",
              "  <svg xmlns=\"http://www.w3.org/2000/svg\" height=\"24px\"viewBox=\"0 0 24 24\"\n",
              "       width=\"24px\">\n",
              "    <path d=\"M0 0h24v24H0V0z\" fill=\"none\"/>\n",
              "    <path d=\"M18.56 5.44l.94 2.06.94-2.06 2.06-.94-2.06-.94-.94-2.06-.94 2.06-2.06.94zm-11 1L8.5 8.5l.94-2.06 2.06-.94-2.06-.94L8.5 2.5l-.94 2.06-2.06.94zm10 10l.94 2.06.94-2.06 2.06-.94-2.06-.94-.94-2.06-.94 2.06-2.06.94z\"/><path d=\"M17.41 7.96l-1.37-1.37c-.4-.4-.92-.59-1.43-.59-.52 0-1.04.2-1.43.59L10.3 9.45l-7.72 7.72c-.78.78-.78 2.05 0 2.83L4 21.41c.39.39.9.59 1.41.59.51 0 1.02-.2 1.41-.59l7.78-7.78 2.81-2.81c.8-.78.8-2.07 0-2.86zM5.41 20L4 18.59l7.72-7.72 1.47 1.35L5.41 20z\"/>\n",
              "  </svg>\n",
              "      </button>\n",
              "      \n",
              "  <style>\n",
              "    .colab-df-container {\n",
              "      display:flex;\n",
              "      flex-wrap:wrap;\n",
              "      gap: 12px;\n",
              "    }\n",
              "\n",
              "    .colab-df-convert {\n",
              "      background-color: #E8F0FE;\n",
              "      border: none;\n",
              "      border-radius: 50%;\n",
              "      cursor: pointer;\n",
              "      display: none;\n",
              "      fill: #1967D2;\n",
              "      height: 32px;\n",
              "      padding: 0 0 0 0;\n",
              "      width: 32px;\n",
              "    }\n",
              "\n",
              "    .colab-df-convert:hover {\n",
              "      background-color: #E2EBFA;\n",
              "      box-shadow: 0px 1px 2px rgba(60, 64, 67, 0.3), 0px 1px 3px 1px rgba(60, 64, 67, 0.15);\n",
              "      fill: #174EA6;\n",
              "    }\n",
              "\n",
              "    [theme=dark] .colab-df-convert {\n",
              "      background-color: #3B4455;\n",
              "      fill: #D2E3FC;\n",
              "    }\n",
              "\n",
              "    [theme=dark] .colab-df-convert:hover {\n",
              "      background-color: #434B5C;\n",
              "      box-shadow: 0px 1px 3px 1px rgba(0, 0, 0, 0.15);\n",
              "      filter: drop-shadow(0px 1px 2px rgba(0, 0, 0, 0.3));\n",
              "      fill: #FFFFFF;\n",
              "    }\n",
              "  </style>\n",
              "\n",
              "      <script>\n",
              "        const buttonEl =\n",
              "          document.querySelector('#df-a67c038c-efc4-4734-be4d-2353a1e7e4f7 button.colab-df-convert');\n",
              "        buttonEl.style.display =\n",
              "          google.colab.kernel.accessAllowed ? 'block' : 'none';\n",
              "\n",
              "        async function convertToInteractive(key) {\n",
              "          const element = document.querySelector('#df-a67c038c-efc4-4734-be4d-2353a1e7e4f7');\n",
              "          const dataTable =\n",
              "            await google.colab.kernel.invokeFunction('convertToInteractive',\n",
              "                                                     [key], {});\n",
              "          if (!dataTable) return;\n",
              "\n",
              "          const docLinkHtml = 'Like what you see? Visit the ' +\n",
              "            '<a target=\"_blank\" href=https://colab.research.google.com/notebooks/data_table.ipynb>data table notebook</a>'\n",
              "            + ' to learn more about interactive tables.';\n",
              "          element.innerHTML = '';\n",
              "          dataTable['output_type'] = 'display_data';\n",
              "          await google.colab.output.renderOutput(dataTable, element);\n",
              "          const docLink = document.createElement('div');\n",
              "          docLink.innerHTML = docLinkHtml;\n",
              "          element.appendChild(docLink);\n",
              "        }\n",
              "      </script>\n",
              "    </div>\n",
              "  </div>\n",
              "  "
            ]
          },
          "metadata": {},
          "execution_count": 41
        }
      ],
      "source": [
        "#droping the columns from data which are not for our use\n",
        "airline_df = airline_df.drop(['author','review_date','route','date_flown','customer_review'],axis = 1)\n",
        "airline_df.head()"
      ]
    },
    {
      "cell_type": "markdown",
      "metadata": {
        "id": "09_Ty1yY6uVu"
      },
      "source": [
        "Reason of droping columns--\n",
        "\n",
        "\n",
        "* Author - Being the categorical with high Variability not required for prediction.\n",
        "* Route - Not needed for building a model as it is independent of the Services and Quality of travel.\n",
        "* Date_flown - Not needed for building a model as it is not a time series data, also some common time period is there between 2 dates. \n",
        "* Review_date - Similar to Date_flown\n",
        "* Customer_review - As it is related to overall review feature of the datasets."
      ]
    },
    {
      "cell_type": "markdown",
      "metadata": {
        "id": "oIqKm3ABxwU9"
      },
      "source": [
        "On the basis of null value percentage we divide our data in two parts-\n",
        "\n",
        "* high_null = columns which have high percentage of null values.\n",
        "* low_null = columns which have low percentage of null values."
      ]
    },
    {
      "cell_type": "code",
      "execution_count": 42,
      "metadata": {
        "id": "XGhnDafn_WR7"
      },
      "outputs": [],
      "source": [
        "#Splitting the Numeric column\n",
        "low_null = ['overall','seat_comfort','cabin_service','value_for_money']\n",
        "high_null = ['food_bev','entertainment','ground_service']"
      ]
    },
    {
      "cell_type": "code",
      "execution_count": 43,
      "metadata": {
        "id": "LFIO24QQBAyP"
      },
      "outputs": [],
      "source": [
        "#Imputation technique using Quantile-1 value\n",
        "def impute_by_q1_values(df,column):\n",
        "  Q1=np.percentile(np.sort(df[column].dropna()),25)\n",
        "  df[column].fillna(Q1,inplace=True)"
      ]
    },
    {
      "cell_type": "code",
      "execution_count": 44,
      "metadata": {
        "id": "EWAx10BJBGWd"
      },
      "outputs": [],
      "source": [
        "#Looping the null value column\n",
        "for col in low_null:\n",
        "  impute_by_q1_values(airline_df,col)"
      ]
    },
    {
      "cell_type": "markdown",
      "metadata": {
        "id": "zcQ9HPJNBVva"
      },
      "source": [
        "Imputed null values by Quantile-1 for the columns have low null value percentage."
      ]
    },
    {
      "cell_type": "code",
      "execution_count": 45,
      "metadata": {
        "id": "kCcUhI2PBrd2"
      },
      "outputs": [],
      "source": [
        "#Imputation technique using Median Imputation\n",
        "def median_imputation(df,column):\n",
        "  df[column].fillna(df[column].median(),inplace=True)"
      ]
    },
    {
      "cell_type": "code",
      "execution_count": 46,
      "metadata": {
        "id": "jqIad1C7Bw_X"
      },
      "outputs": [],
      "source": [
        "#Looping the null value column\n",
        "for col in high_null:\n",
        "  median_imputation(airline_df,col)"
      ]
    },
    {
      "cell_type": "markdown",
      "metadata": {
        "id": "hgHE7mSFB5pX"
      },
      "source": [
        "Imputed null values by Median Imputaion for the columns have high percetage."
      ]
    },
    {
      "cell_type": "code",
      "execution_count": 47,
      "metadata": {
        "id": "ukMHc3TBcd1Z",
        "colab": {
          "base_uri": "https://localhost:8080/",
          "height": 80
        },
        "outputId": "12423872-6965-4bcf-dd5b-b1d71e90b2f5"
      },
      "outputs": [
        {
          "output_type": "execute_result",
          "data": {
            "text/plain": [
              "  airline  overall traveller_type cabin  seat_comfort  cabin_service  \\\n",
              "0     NaN      1.0            NaN   NaN           2.0            2.0   \n",
              "\n",
              "   food_bev  entertainment  ground_service  value_for_money recommended  \n",
              "0       3.0            3.0             3.0              1.0         NaN  "
            ],
            "text/html": [
              "\n",
              "  <div id=\"df-e20e69be-f9df-4c63-9f89-3e97063870d8\">\n",
              "    <div class=\"colab-df-container\">\n",
              "      <div>\n",
              "<style scoped>\n",
              "    .dataframe tbody tr th:only-of-type {\n",
              "        vertical-align: middle;\n",
              "    }\n",
              "\n",
              "    .dataframe tbody tr th {\n",
              "        vertical-align: top;\n",
              "    }\n",
              "\n",
              "    .dataframe thead th {\n",
              "        text-align: right;\n",
              "    }\n",
              "</style>\n",
              "<table border=\"1\" class=\"dataframe\">\n",
              "  <thead>\n",
              "    <tr style=\"text-align: right;\">\n",
              "      <th></th>\n",
              "      <th>airline</th>\n",
              "      <th>overall</th>\n",
              "      <th>traveller_type</th>\n",
              "      <th>cabin</th>\n",
              "      <th>seat_comfort</th>\n",
              "      <th>cabin_service</th>\n",
              "      <th>food_bev</th>\n",
              "      <th>entertainment</th>\n",
              "      <th>ground_service</th>\n",
              "      <th>value_for_money</th>\n",
              "      <th>recommended</th>\n",
              "    </tr>\n",
              "  </thead>\n",
              "  <tbody>\n",
              "    <tr>\n",
              "      <th>0</th>\n",
              "      <td>NaN</td>\n",
              "      <td>1.0</td>\n",
              "      <td>NaN</td>\n",
              "      <td>NaN</td>\n",
              "      <td>2.0</td>\n",
              "      <td>2.0</td>\n",
              "      <td>3.0</td>\n",
              "      <td>3.0</td>\n",
              "      <td>3.0</td>\n",
              "      <td>1.0</td>\n",
              "      <td>NaN</td>\n",
              "    </tr>\n",
              "  </tbody>\n",
              "</table>\n",
              "</div>\n",
              "      <button class=\"colab-df-convert\" onclick=\"convertToInteractive('df-e20e69be-f9df-4c63-9f89-3e97063870d8')\"\n",
              "              title=\"Convert this dataframe to an interactive table.\"\n",
              "              style=\"display:none;\">\n",
              "        \n",
              "  <svg xmlns=\"http://www.w3.org/2000/svg\" height=\"24px\"viewBox=\"0 0 24 24\"\n",
              "       width=\"24px\">\n",
              "    <path d=\"M0 0h24v24H0V0z\" fill=\"none\"/>\n",
              "    <path d=\"M18.56 5.44l.94 2.06.94-2.06 2.06-.94-2.06-.94-.94-2.06-.94 2.06-2.06.94zm-11 1L8.5 8.5l.94-2.06 2.06-.94-2.06-.94L8.5 2.5l-.94 2.06-2.06.94zm10 10l.94 2.06.94-2.06 2.06-.94-2.06-.94-.94-2.06-.94 2.06-2.06.94z\"/><path d=\"M17.41 7.96l-1.37-1.37c-.4-.4-.92-.59-1.43-.59-.52 0-1.04.2-1.43.59L10.3 9.45l-7.72 7.72c-.78.78-.78 2.05 0 2.83L4 21.41c.39.39.9.59 1.41.59.51 0 1.02-.2 1.41-.59l7.78-7.78 2.81-2.81c.8-.78.8-2.07 0-2.86zM5.41 20L4 18.59l7.72-7.72 1.47 1.35L5.41 20z\"/>\n",
              "  </svg>\n",
              "      </button>\n",
              "      \n",
              "  <style>\n",
              "    .colab-df-container {\n",
              "      display:flex;\n",
              "      flex-wrap:wrap;\n",
              "      gap: 12px;\n",
              "    }\n",
              "\n",
              "    .colab-df-convert {\n",
              "      background-color: #E8F0FE;\n",
              "      border: none;\n",
              "      border-radius: 50%;\n",
              "      cursor: pointer;\n",
              "      display: none;\n",
              "      fill: #1967D2;\n",
              "      height: 32px;\n",
              "      padding: 0 0 0 0;\n",
              "      width: 32px;\n",
              "    }\n",
              "\n",
              "    .colab-df-convert:hover {\n",
              "      background-color: #E2EBFA;\n",
              "      box-shadow: 0px 1px 2px rgba(60, 64, 67, 0.3), 0px 1px 3px 1px rgba(60, 64, 67, 0.15);\n",
              "      fill: #174EA6;\n",
              "    }\n",
              "\n",
              "    [theme=dark] .colab-df-convert {\n",
              "      background-color: #3B4455;\n",
              "      fill: #D2E3FC;\n",
              "    }\n",
              "\n",
              "    [theme=dark] .colab-df-convert:hover {\n",
              "      background-color: #434B5C;\n",
              "      box-shadow: 0px 1px 3px 1px rgba(0, 0, 0, 0.15);\n",
              "      filter: drop-shadow(0px 1px 2px rgba(0, 0, 0, 0.3));\n",
              "      fill: #FFFFFF;\n",
              "    }\n",
              "  </style>\n",
              "\n",
              "      <script>\n",
              "        const buttonEl =\n",
              "          document.querySelector('#df-e20e69be-f9df-4c63-9f89-3e97063870d8 button.colab-df-convert');\n",
              "        buttonEl.style.display =\n",
              "          google.colab.kernel.accessAllowed ? 'block' : 'none';\n",
              "\n",
              "        async function convertToInteractive(key) {\n",
              "          const element = document.querySelector('#df-e20e69be-f9df-4c63-9f89-3e97063870d8');\n",
              "          const dataTable =\n",
              "            await google.colab.kernel.invokeFunction('convertToInteractive',\n",
              "                                                     [key], {});\n",
              "          if (!dataTable) return;\n",
              "\n",
              "          const docLinkHtml = 'Like what you see? Visit the ' +\n",
              "            '<a target=\"_blank\" href=https://colab.research.google.com/notebooks/data_table.ipynb>data table notebook</a>'\n",
              "            + ' to learn more about interactive tables.';\n",
              "          element.innerHTML = '';\n",
              "          dataTable['output_type'] = 'display_data';\n",
              "          await google.colab.output.renderOutput(dataTable, element);\n",
              "          const docLink = document.createElement('div');\n",
              "          docLink.innerHTML = docLinkHtml;\n",
              "          element.appendChild(docLink);\n",
              "        }\n",
              "      </script>\n",
              "    </div>\n",
              "  </div>\n",
              "  "
            ]
          },
          "metadata": {},
          "execution_count": 47
        }
      ],
      "source": [
        "#after imputed null values\n",
        "airline_df.head(1)"
      ]
    },
    {
      "cell_type": "markdown",
      "metadata": {
        "id": "bevOSPNqcwHy"
      },
      "source": [
        "Now we are left with null values in **traveller_type , cabin , recommeded** column."
      ]
    },
    {
      "cell_type": "code",
      "execution_count": 48,
      "metadata": {
        "id": "VkFtKA4jd0ng"
      },
      "outputs": [],
      "source": [
        "#Remove recommended null value row\n",
        "airline_df.dropna(subset=['recommended'],inplace=True)"
      ]
    },
    {
      "cell_type": "code",
      "execution_count": 49,
      "metadata": {
        "id": "P7KqA04WeCDW"
      },
      "outputs": [],
      "source": [
        "airline_df['traveller_type'].fillna(method=\"ffill\",inplace=True)"
      ]
    },
    {
      "cell_type": "code",
      "execution_count": 50,
      "metadata": {
        "id": "CpOetcOFeJdB"
      },
      "outputs": [],
      "source": [
        "airline_df['cabin'].fillna(airline_df['cabin'].mode().values[0],inplace=True)"
      ]
    },
    {
      "cell_type": "markdown",
      "metadata": {
        "id": "PLcF43ideRLA"
      },
      "source": [
        "Filling **traveller_type** column with **Mode Imputation** \n",
        "\n",
        "**cabin** column with **Forward fill method.**"
      ]
    },
    {
      "cell_type": "code",
      "execution_count": 51,
      "metadata": {
        "id": "ZdWBldksfA7Y",
        "colab": {
          "base_uri": "https://localhost:8080/",
          "height": 142
        },
        "outputId": "6e5beec2-f094-45ac-f131-8eaeccee0480"
      },
      "outputs": [
        {
          "output_type": "execute_result",
          "data": {
            "text/plain": [
              "            airline  overall traveller_type          cabin  seat_comfort  \\\n",
              "1  Turkish Airlines      7.0       Business  Economy Class           4.0   \n",
              "\n",
              "   cabin_service  food_bev  entertainment  ground_service  value_for_money  \\\n",
              "1            5.0       4.0            4.0             2.0              4.0   \n",
              "\n",
              "  recommended  \n",
              "1         yes  "
            ],
            "text/html": [
              "\n",
              "  <div id=\"df-37b983fb-cb38-4361-85e5-baa2a08425d7\">\n",
              "    <div class=\"colab-df-container\">\n",
              "      <div>\n",
              "<style scoped>\n",
              "    .dataframe tbody tr th:only-of-type {\n",
              "        vertical-align: middle;\n",
              "    }\n",
              "\n",
              "    .dataframe tbody tr th {\n",
              "        vertical-align: top;\n",
              "    }\n",
              "\n",
              "    .dataframe thead th {\n",
              "        text-align: right;\n",
              "    }\n",
              "</style>\n",
              "<table border=\"1\" class=\"dataframe\">\n",
              "  <thead>\n",
              "    <tr style=\"text-align: right;\">\n",
              "      <th></th>\n",
              "      <th>airline</th>\n",
              "      <th>overall</th>\n",
              "      <th>traveller_type</th>\n",
              "      <th>cabin</th>\n",
              "      <th>seat_comfort</th>\n",
              "      <th>cabin_service</th>\n",
              "      <th>food_bev</th>\n",
              "      <th>entertainment</th>\n",
              "      <th>ground_service</th>\n",
              "      <th>value_for_money</th>\n",
              "      <th>recommended</th>\n",
              "    </tr>\n",
              "  </thead>\n",
              "  <tbody>\n",
              "    <tr>\n",
              "      <th>1</th>\n",
              "      <td>Turkish Airlines</td>\n",
              "      <td>7.0</td>\n",
              "      <td>Business</td>\n",
              "      <td>Economy Class</td>\n",
              "      <td>4.0</td>\n",
              "      <td>5.0</td>\n",
              "      <td>4.0</td>\n",
              "      <td>4.0</td>\n",
              "      <td>2.0</td>\n",
              "      <td>4.0</td>\n",
              "      <td>yes</td>\n",
              "    </tr>\n",
              "  </tbody>\n",
              "</table>\n",
              "</div>\n",
              "      <button class=\"colab-df-convert\" onclick=\"convertToInteractive('df-37b983fb-cb38-4361-85e5-baa2a08425d7')\"\n",
              "              title=\"Convert this dataframe to an interactive table.\"\n",
              "              style=\"display:none;\">\n",
              "        \n",
              "  <svg xmlns=\"http://www.w3.org/2000/svg\" height=\"24px\"viewBox=\"0 0 24 24\"\n",
              "       width=\"24px\">\n",
              "    <path d=\"M0 0h24v24H0V0z\" fill=\"none\"/>\n",
              "    <path d=\"M18.56 5.44l.94 2.06.94-2.06 2.06-.94-2.06-.94-.94-2.06-.94 2.06-2.06.94zm-11 1L8.5 8.5l.94-2.06 2.06-.94-2.06-.94L8.5 2.5l-.94 2.06-2.06.94zm10 10l.94 2.06.94-2.06 2.06-.94-2.06-.94-.94-2.06-.94 2.06-2.06.94z\"/><path d=\"M17.41 7.96l-1.37-1.37c-.4-.4-.92-.59-1.43-.59-.52 0-1.04.2-1.43.59L10.3 9.45l-7.72 7.72c-.78.78-.78 2.05 0 2.83L4 21.41c.39.39.9.59 1.41.59.51 0 1.02-.2 1.41-.59l7.78-7.78 2.81-2.81c.8-.78.8-2.07 0-2.86zM5.41 20L4 18.59l7.72-7.72 1.47 1.35L5.41 20z\"/>\n",
              "  </svg>\n",
              "      </button>\n",
              "      \n",
              "  <style>\n",
              "    .colab-df-container {\n",
              "      display:flex;\n",
              "      flex-wrap:wrap;\n",
              "      gap: 12px;\n",
              "    }\n",
              "\n",
              "    .colab-df-convert {\n",
              "      background-color: #E8F0FE;\n",
              "      border: none;\n",
              "      border-radius: 50%;\n",
              "      cursor: pointer;\n",
              "      display: none;\n",
              "      fill: #1967D2;\n",
              "      height: 32px;\n",
              "      padding: 0 0 0 0;\n",
              "      width: 32px;\n",
              "    }\n",
              "\n",
              "    .colab-df-convert:hover {\n",
              "      background-color: #E2EBFA;\n",
              "      box-shadow: 0px 1px 2px rgba(60, 64, 67, 0.3), 0px 1px 3px 1px rgba(60, 64, 67, 0.15);\n",
              "      fill: #174EA6;\n",
              "    }\n",
              "\n",
              "    [theme=dark] .colab-df-convert {\n",
              "      background-color: #3B4455;\n",
              "      fill: #D2E3FC;\n",
              "    }\n",
              "\n",
              "    [theme=dark] .colab-df-convert:hover {\n",
              "      background-color: #434B5C;\n",
              "      box-shadow: 0px 1px 3px 1px rgba(0, 0, 0, 0.15);\n",
              "      filter: drop-shadow(0px 1px 2px rgba(0, 0, 0, 0.3));\n",
              "      fill: #FFFFFF;\n",
              "    }\n",
              "  </style>\n",
              "\n",
              "      <script>\n",
              "        const buttonEl =\n",
              "          document.querySelector('#df-37b983fb-cb38-4361-85e5-baa2a08425d7 button.colab-df-convert');\n",
              "        buttonEl.style.display =\n",
              "          google.colab.kernel.accessAllowed ? 'block' : 'none';\n",
              "\n",
              "        async function convertToInteractive(key) {\n",
              "          const element = document.querySelector('#df-37b983fb-cb38-4361-85e5-baa2a08425d7');\n",
              "          const dataTable =\n",
              "            await google.colab.kernel.invokeFunction('convertToInteractive',\n",
              "                                                     [key], {});\n",
              "          if (!dataTable) return;\n",
              "\n",
              "          const docLinkHtml = 'Like what you see? Visit the ' +\n",
              "            '<a target=\"_blank\" href=https://colab.research.google.com/notebooks/data_table.ipynb>data table notebook</a>'\n",
              "            + ' to learn more about interactive tables.';\n",
              "          element.innerHTML = '';\n",
              "          dataTable['output_type'] = 'display_data';\n",
              "          await google.colab.output.renderOutput(dataTable, element);\n",
              "          const docLink = document.createElement('div');\n",
              "          docLink.innerHTML = docLinkHtml;\n",
              "          element.appendChild(docLink);\n",
              "        }\n",
              "      </script>\n",
              "    </div>\n",
              "  </div>\n",
              "  "
            ]
          },
          "metadata": {},
          "execution_count": 51
        }
      ],
      "source": [
        "airline_df.head(1)"
      ]
    },
    {
      "cell_type": "code",
      "source": [
        "#Checking the new null value percentage\n",
        "missing_values_per_check(airline_df)"
      ],
      "metadata": {
        "id": "d4c8nXByL2nn",
        "colab": {
          "base_uri": "https://localhost:8080/",
          "height": 394
        },
        "outputId": "43386c10-5a2c-49d6-8249-d11d56a7ec47"
      },
      "execution_count": 52,
      "outputs": [
        {
          "output_type": "execute_result",
          "data": {
            "text/plain": [
              "                     column_name  percent_missing\n",
              "airline                  airline              0.0\n",
              "overall                  overall              0.0\n",
              "traveller_type    traveller_type              0.0\n",
              "cabin                      cabin              0.0\n",
              "seat_comfort        seat_comfort              0.0\n",
              "cabin_service      cabin_service              0.0\n",
              "food_bev                food_bev              0.0\n",
              "entertainment      entertainment              0.0\n",
              "ground_service    ground_service              0.0\n",
              "value_for_money  value_for_money              0.0\n",
              "recommended          recommended              0.0"
            ],
            "text/html": [
              "\n",
              "  <div id=\"df-b35632b3-358e-413e-8f8b-3ee238ce7b5e\">\n",
              "    <div class=\"colab-df-container\">\n",
              "      <div>\n",
              "<style scoped>\n",
              "    .dataframe tbody tr th:only-of-type {\n",
              "        vertical-align: middle;\n",
              "    }\n",
              "\n",
              "    .dataframe tbody tr th {\n",
              "        vertical-align: top;\n",
              "    }\n",
              "\n",
              "    .dataframe thead th {\n",
              "        text-align: right;\n",
              "    }\n",
              "</style>\n",
              "<table border=\"1\" class=\"dataframe\">\n",
              "  <thead>\n",
              "    <tr style=\"text-align: right;\">\n",
              "      <th></th>\n",
              "      <th>column_name</th>\n",
              "      <th>percent_missing</th>\n",
              "    </tr>\n",
              "  </thead>\n",
              "  <tbody>\n",
              "    <tr>\n",
              "      <th>airline</th>\n",
              "      <td>airline</td>\n",
              "      <td>0.0</td>\n",
              "    </tr>\n",
              "    <tr>\n",
              "      <th>overall</th>\n",
              "      <td>overall</td>\n",
              "      <td>0.0</td>\n",
              "    </tr>\n",
              "    <tr>\n",
              "      <th>traveller_type</th>\n",
              "      <td>traveller_type</td>\n",
              "      <td>0.0</td>\n",
              "    </tr>\n",
              "    <tr>\n",
              "      <th>cabin</th>\n",
              "      <td>cabin</td>\n",
              "      <td>0.0</td>\n",
              "    </tr>\n",
              "    <tr>\n",
              "      <th>seat_comfort</th>\n",
              "      <td>seat_comfort</td>\n",
              "      <td>0.0</td>\n",
              "    </tr>\n",
              "    <tr>\n",
              "      <th>cabin_service</th>\n",
              "      <td>cabin_service</td>\n",
              "      <td>0.0</td>\n",
              "    </tr>\n",
              "    <tr>\n",
              "      <th>food_bev</th>\n",
              "      <td>food_bev</td>\n",
              "      <td>0.0</td>\n",
              "    </tr>\n",
              "    <tr>\n",
              "      <th>entertainment</th>\n",
              "      <td>entertainment</td>\n",
              "      <td>0.0</td>\n",
              "    </tr>\n",
              "    <tr>\n",
              "      <th>ground_service</th>\n",
              "      <td>ground_service</td>\n",
              "      <td>0.0</td>\n",
              "    </tr>\n",
              "    <tr>\n",
              "      <th>value_for_money</th>\n",
              "      <td>value_for_money</td>\n",
              "      <td>0.0</td>\n",
              "    </tr>\n",
              "    <tr>\n",
              "      <th>recommended</th>\n",
              "      <td>recommended</td>\n",
              "      <td>0.0</td>\n",
              "    </tr>\n",
              "  </tbody>\n",
              "</table>\n",
              "</div>\n",
              "      <button class=\"colab-df-convert\" onclick=\"convertToInteractive('df-b35632b3-358e-413e-8f8b-3ee238ce7b5e')\"\n",
              "              title=\"Convert this dataframe to an interactive table.\"\n",
              "              style=\"display:none;\">\n",
              "        \n",
              "  <svg xmlns=\"http://www.w3.org/2000/svg\" height=\"24px\"viewBox=\"0 0 24 24\"\n",
              "       width=\"24px\">\n",
              "    <path d=\"M0 0h24v24H0V0z\" fill=\"none\"/>\n",
              "    <path d=\"M18.56 5.44l.94 2.06.94-2.06 2.06-.94-2.06-.94-.94-2.06-.94 2.06-2.06.94zm-11 1L8.5 8.5l.94-2.06 2.06-.94-2.06-.94L8.5 2.5l-.94 2.06-2.06.94zm10 10l.94 2.06.94-2.06 2.06-.94-2.06-.94-.94-2.06-.94 2.06-2.06.94z\"/><path d=\"M17.41 7.96l-1.37-1.37c-.4-.4-.92-.59-1.43-.59-.52 0-1.04.2-1.43.59L10.3 9.45l-7.72 7.72c-.78.78-.78 2.05 0 2.83L4 21.41c.39.39.9.59 1.41.59.51 0 1.02-.2 1.41-.59l7.78-7.78 2.81-2.81c.8-.78.8-2.07 0-2.86zM5.41 20L4 18.59l7.72-7.72 1.47 1.35L5.41 20z\"/>\n",
              "  </svg>\n",
              "      </button>\n",
              "      \n",
              "  <style>\n",
              "    .colab-df-container {\n",
              "      display:flex;\n",
              "      flex-wrap:wrap;\n",
              "      gap: 12px;\n",
              "    }\n",
              "\n",
              "    .colab-df-convert {\n",
              "      background-color: #E8F0FE;\n",
              "      border: none;\n",
              "      border-radius: 50%;\n",
              "      cursor: pointer;\n",
              "      display: none;\n",
              "      fill: #1967D2;\n",
              "      height: 32px;\n",
              "      padding: 0 0 0 0;\n",
              "      width: 32px;\n",
              "    }\n",
              "\n",
              "    .colab-df-convert:hover {\n",
              "      background-color: #E2EBFA;\n",
              "      box-shadow: 0px 1px 2px rgba(60, 64, 67, 0.3), 0px 1px 3px 1px rgba(60, 64, 67, 0.15);\n",
              "      fill: #174EA6;\n",
              "    }\n",
              "\n",
              "    [theme=dark] .colab-df-convert {\n",
              "      background-color: #3B4455;\n",
              "      fill: #D2E3FC;\n",
              "    }\n",
              "\n",
              "    [theme=dark] .colab-df-convert:hover {\n",
              "      background-color: #434B5C;\n",
              "      box-shadow: 0px 1px 3px 1px rgba(0, 0, 0, 0.15);\n",
              "      filter: drop-shadow(0px 1px 2px rgba(0, 0, 0, 0.3));\n",
              "      fill: #FFFFFF;\n",
              "    }\n",
              "  </style>\n",
              "\n",
              "      <script>\n",
              "        const buttonEl =\n",
              "          document.querySelector('#df-b35632b3-358e-413e-8f8b-3ee238ce7b5e button.colab-df-convert');\n",
              "        buttonEl.style.display =\n",
              "          google.colab.kernel.accessAllowed ? 'block' : 'none';\n",
              "\n",
              "        async function convertToInteractive(key) {\n",
              "          const element = document.querySelector('#df-b35632b3-358e-413e-8f8b-3ee238ce7b5e');\n",
              "          const dataTable =\n",
              "            await google.colab.kernel.invokeFunction('convertToInteractive',\n",
              "                                                     [key], {});\n",
              "          if (!dataTable) return;\n",
              "\n",
              "          const docLinkHtml = 'Like what you see? Visit the ' +\n",
              "            '<a target=\"_blank\" href=https://colab.research.google.com/notebooks/data_table.ipynb>data table notebook</a>'\n",
              "            + ' to learn more about interactive tables.';\n",
              "          element.innerHTML = '';\n",
              "          dataTable['output_type'] = 'display_data';\n",
              "          await google.colab.output.renderOutput(dataTable, element);\n",
              "          const docLink = document.createElement('div');\n",
              "          docLink.innerHTML = docLinkHtml;\n",
              "          element.appendChild(docLink);\n",
              "        }\n",
              "      </script>\n",
              "    </div>\n",
              "  </div>\n",
              "  "
            ]
          },
          "metadata": {},
          "execution_count": 52
        }
      ]
    },
    {
      "cell_type": "code",
      "source": [
        "airline_df.shape"
      ],
      "metadata": {
        "id": "7VyVxEbz1pPI",
        "colab": {
          "base_uri": "https://localhost:8080/"
        },
        "outputId": "7f484c9a-2bb2-4e61-f03e-a36f82fd82d2"
      },
      "execution_count": 53,
      "outputs": [
        {
          "output_type": "execute_result",
          "data": {
            "text/plain": [
              "(59761, 11)"
            ]
          },
          "metadata": {},
          "execution_count": 53
        }
      ]
    },
    {
      "cell_type": "markdown",
      "source": [
        "It is better to work with clean data for prediction rather than huge corrupt data."
      ],
      "metadata": {
        "id": "39YzyETcMLCw"
      }
    },
    {
      "cell_type": "markdown",
      "source": [
        "#**Converting target as categorical data into numerical data: 'Label Encoding'**"
      ],
      "metadata": {
        "id": "e0yUr6EKC77O"
      }
    },
    {
      "cell_type": "code",
      "source": [
        "#converting targeted column\n",
        "airline_df['recommended'].replace({'yes':1,'no':0},inplace=True)"
      ],
      "metadata": {
        "id": "XEJ_gxTCC7f0"
      },
      "execution_count": 54,
      "outputs": []
    },
    {
      "cell_type": "code",
      "source": [
        "airline_df.head(2)"
      ],
      "metadata": {
        "id": "xLhxhyQX725V",
        "colab": {
          "base_uri": "https://localhost:8080/",
          "height": 191
        },
        "outputId": "a96a5ff7-048d-4618-9fdb-2abe0c408e6b"
      },
      "execution_count": 55,
      "outputs": [
        {
          "output_type": "execute_result",
          "data": {
            "text/plain": [
              "            airline  overall  traveller_type          cabin  seat_comfort  \\\n",
              "1  Turkish Airlines      7.0        Business  Economy Class           4.0   \n",
              "3  Turkish Airlines      2.0  Family Leisure  Economy Class           4.0   \n",
              "\n",
              "   cabin_service  food_bev  entertainment  ground_service  value_for_money  \\\n",
              "1            5.0       4.0            4.0             2.0              4.0   \n",
              "3            1.0       1.0            1.0             1.0              1.0   \n",
              "\n",
              "   recommended  \n",
              "1            1  \n",
              "3            0  "
            ],
            "text/html": [
              "\n",
              "  <div id=\"df-c44c54b1-d077-4266-a6b3-44e6c5567ef6\">\n",
              "    <div class=\"colab-df-container\">\n",
              "      <div>\n",
              "<style scoped>\n",
              "    .dataframe tbody tr th:only-of-type {\n",
              "        vertical-align: middle;\n",
              "    }\n",
              "\n",
              "    .dataframe tbody tr th {\n",
              "        vertical-align: top;\n",
              "    }\n",
              "\n",
              "    .dataframe thead th {\n",
              "        text-align: right;\n",
              "    }\n",
              "</style>\n",
              "<table border=\"1\" class=\"dataframe\">\n",
              "  <thead>\n",
              "    <tr style=\"text-align: right;\">\n",
              "      <th></th>\n",
              "      <th>airline</th>\n",
              "      <th>overall</th>\n",
              "      <th>traveller_type</th>\n",
              "      <th>cabin</th>\n",
              "      <th>seat_comfort</th>\n",
              "      <th>cabin_service</th>\n",
              "      <th>food_bev</th>\n",
              "      <th>entertainment</th>\n",
              "      <th>ground_service</th>\n",
              "      <th>value_for_money</th>\n",
              "      <th>recommended</th>\n",
              "    </tr>\n",
              "  </thead>\n",
              "  <tbody>\n",
              "    <tr>\n",
              "      <th>1</th>\n",
              "      <td>Turkish Airlines</td>\n",
              "      <td>7.0</td>\n",
              "      <td>Business</td>\n",
              "      <td>Economy Class</td>\n",
              "      <td>4.0</td>\n",
              "      <td>5.0</td>\n",
              "      <td>4.0</td>\n",
              "      <td>4.0</td>\n",
              "      <td>2.0</td>\n",
              "      <td>4.0</td>\n",
              "      <td>1</td>\n",
              "    </tr>\n",
              "    <tr>\n",
              "      <th>3</th>\n",
              "      <td>Turkish Airlines</td>\n",
              "      <td>2.0</td>\n",
              "      <td>Family Leisure</td>\n",
              "      <td>Economy Class</td>\n",
              "      <td>4.0</td>\n",
              "      <td>1.0</td>\n",
              "      <td>1.0</td>\n",
              "      <td>1.0</td>\n",
              "      <td>1.0</td>\n",
              "      <td>1.0</td>\n",
              "      <td>0</td>\n",
              "    </tr>\n",
              "  </tbody>\n",
              "</table>\n",
              "</div>\n",
              "      <button class=\"colab-df-convert\" onclick=\"convertToInteractive('df-c44c54b1-d077-4266-a6b3-44e6c5567ef6')\"\n",
              "              title=\"Convert this dataframe to an interactive table.\"\n",
              "              style=\"display:none;\">\n",
              "        \n",
              "  <svg xmlns=\"http://www.w3.org/2000/svg\" height=\"24px\"viewBox=\"0 0 24 24\"\n",
              "       width=\"24px\">\n",
              "    <path d=\"M0 0h24v24H0V0z\" fill=\"none\"/>\n",
              "    <path d=\"M18.56 5.44l.94 2.06.94-2.06 2.06-.94-2.06-.94-.94-2.06-.94 2.06-2.06.94zm-11 1L8.5 8.5l.94-2.06 2.06-.94-2.06-.94L8.5 2.5l-.94 2.06-2.06.94zm10 10l.94 2.06.94-2.06 2.06-.94-2.06-.94-.94-2.06-.94 2.06-2.06.94z\"/><path d=\"M17.41 7.96l-1.37-1.37c-.4-.4-.92-.59-1.43-.59-.52 0-1.04.2-1.43.59L10.3 9.45l-7.72 7.72c-.78.78-.78 2.05 0 2.83L4 21.41c.39.39.9.59 1.41.59.51 0 1.02-.2 1.41-.59l7.78-7.78 2.81-2.81c.8-.78.8-2.07 0-2.86zM5.41 20L4 18.59l7.72-7.72 1.47 1.35L5.41 20z\"/>\n",
              "  </svg>\n",
              "      </button>\n",
              "      \n",
              "  <style>\n",
              "    .colab-df-container {\n",
              "      display:flex;\n",
              "      flex-wrap:wrap;\n",
              "      gap: 12px;\n",
              "    }\n",
              "\n",
              "    .colab-df-convert {\n",
              "      background-color: #E8F0FE;\n",
              "      border: none;\n",
              "      border-radius: 50%;\n",
              "      cursor: pointer;\n",
              "      display: none;\n",
              "      fill: #1967D2;\n",
              "      height: 32px;\n",
              "      padding: 0 0 0 0;\n",
              "      width: 32px;\n",
              "    }\n",
              "\n",
              "    .colab-df-convert:hover {\n",
              "      background-color: #E2EBFA;\n",
              "      box-shadow: 0px 1px 2px rgba(60, 64, 67, 0.3), 0px 1px 3px 1px rgba(60, 64, 67, 0.15);\n",
              "      fill: #174EA6;\n",
              "    }\n",
              "\n",
              "    [theme=dark] .colab-df-convert {\n",
              "      background-color: #3B4455;\n",
              "      fill: #D2E3FC;\n",
              "    }\n",
              "\n",
              "    [theme=dark] .colab-df-convert:hover {\n",
              "      background-color: #434B5C;\n",
              "      box-shadow: 0px 1px 3px 1px rgba(0, 0, 0, 0.15);\n",
              "      filter: drop-shadow(0px 1px 2px rgba(0, 0, 0, 0.3));\n",
              "      fill: #FFFFFF;\n",
              "    }\n",
              "  </style>\n",
              "\n",
              "      <script>\n",
              "        const buttonEl =\n",
              "          document.querySelector('#df-c44c54b1-d077-4266-a6b3-44e6c5567ef6 button.colab-df-convert');\n",
              "        buttonEl.style.display =\n",
              "          google.colab.kernel.accessAllowed ? 'block' : 'none';\n",
              "\n",
              "        async function convertToInteractive(key) {\n",
              "          const element = document.querySelector('#df-c44c54b1-d077-4266-a6b3-44e6c5567ef6');\n",
              "          const dataTable =\n",
              "            await google.colab.kernel.invokeFunction('convertToInteractive',\n",
              "                                                     [key], {});\n",
              "          if (!dataTable) return;\n",
              "\n",
              "          const docLinkHtml = 'Like what you see? Visit the ' +\n",
              "            '<a target=\"_blank\" href=https://colab.research.google.com/notebooks/data_table.ipynb>data table notebook</a>'\n",
              "            + ' to learn more about interactive tables.';\n",
              "          element.innerHTML = '';\n",
              "          dataTable['output_type'] = 'display_data';\n",
              "          await google.colab.output.renderOutput(dataTable, element);\n",
              "          const docLink = document.createElement('div');\n",
              "          docLink.innerHTML = docLinkHtml;\n",
              "          element.appendChild(docLink);\n",
              "        }\n",
              "      </script>\n",
              "    </div>\n",
              "  </div>\n",
              "  "
            ]
          },
          "metadata": {},
          "execution_count": 55
        }
      ]
    },
    {
      "cell_type": "code",
      "source": [
        "plt.figure(figsize=(12,10))\n",
        "sns.heatmap(airline_df.corr(), annot=True)"
      ],
      "metadata": {
        "id": "0l-kJTpl_wA4",
        "colab": {
          "base_uri": "https://localhost:8080/",
          "height": 689
        },
        "outputId": "45ab93c2-7647-44ad-d93a-35087d7f10c0"
      },
      "execution_count": 56,
      "outputs": [
        {
          "output_type": "execute_result",
          "data": {
            "text/plain": [
              "<matplotlib.axes._subplots.AxesSubplot at 0x7f5b658f1110>"
            ]
          },
          "metadata": {},
          "execution_count": 56
        },
        {
          "output_type": "display_data",
          "data": {
            "text/plain": [
              "<Figure size 864x720 with 2 Axes>"
            ],
            "image/png": "[encoded data removed]"
          },
          "metadata": {
            "needs_background": "light"
          }
        }
      ]
    },
    {
      "cell_type": "markdown",
      "source": [
        "###**Correlation plot**"
      ],
      "metadata": {
        "id": "5aNAzeXT1LsP"
      }
    },
    {
      "cell_type": "markdown",
      "source": [
        "Drop overall column as it has highest correlation value than others."
      ],
      "metadata": {
        "id": "5dVLxv-YB_G9"
      }
    },
    {
      "cell_type": "markdown",
      "source": [
        "**Removing Multicollinearity features**"
      ],
      "metadata": {
        "id": "EMrw10bKs5V9"
      }
    },
    {
      "cell_type": "code",
      "source": [
        "#Creating a function to remove multicollinear\n",
        "def calc_vif(X):\n",
        " \n",
        "   # Calculating VIF\n",
        "   vif = pd.DataFrame()\n",
        "   vif[\"variables\"] = X.columns\n",
        "   vif[\"VIF\"] = [variance_inflation_factor(X.values, i) for i in range(X.shape[1])]\n",
        " \n",
        "   return(vif)"
      ],
      "metadata": {
        "id": "ZayTVukR4JxU"
      },
      "execution_count": 57,
      "outputs": []
    },
    {
      "cell_type": "code",
      "source": [
        "calc_vif(airline_df[[i for i in airline_df.describe().columns if i not in ['recommended','value_for_money','overall']]])"
      ],
      "metadata": {
        "id": "bAkZJork4Jwn",
        "colab": {
          "base_uri": "https://localhost:8080/",
          "height": 206
        },
        "outputId": "69c579ff-2433-46ac-d36f-c7a97b993ea2"
      },
      "execution_count": 58,
      "outputs": [
        {
          "output_type": "execute_result",
          "data": {
            "text/plain": [
              "        variables        VIF\n",
              "0    seat_comfort  12.743652\n",
              "1   cabin_service  12.939449\n",
              "2        food_bev  13.023156\n",
              "3   entertainment   9.669901\n",
              "4  ground_service   8.380607"
            ],
            "text/html": [
              "\n",
              "  <div id=\"df-d81ce208-a97f-4ec2-bf3e-444a9e2121ee\">\n",
              "    <div class=\"colab-df-container\">\n",
              "      <div>\n",
              "<style scoped>\n",
              "    .dataframe tbody tr th:only-of-type {\n",
              "        vertical-align: middle;\n",
              "    }\n",
              "\n",
              "    .dataframe tbody tr th {\n",
              "        vertical-align: top;\n",
              "    }\n",
              "\n",
              "    .dataframe thead th {\n",
              "        text-align: right;\n",
              "    }\n",
              "</style>\n",
              "<table border=\"1\" class=\"dataframe\">\n",
              "  <thead>\n",
              "    <tr style=\"text-align: right;\">\n",
              "      <th></th>\n",
              "      <th>variables</th>\n",
              "      <th>VIF</th>\n",
              "    </tr>\n",
              "  </thead>\n",
              "  <tbody>\n",
              "    <tr>\n",
              "      <th>0</th>\n",
              "      <td>seat_comfort</td>\n",
              "      <td>12.743652</td>\n",
              "    </tr>\n",
              "    <tr>\n",
              "      <th>1</th>\n",
              "      <td>cabin_service</td>\n",
              "      <td>12.939449</td>\n",
              "    </tr>\n",
              "    <tr>\n",
              "      <th>2</th>\n",
              "      <td>food_bev</td>\n",
              "      <td>13.023156</td>\n",
              "    </tr>\n",
              "    <tr>\n",
              "      <th>3</th>\n",
              "      <td>entertainment</td>\n",
              "      <td>9.669901</td>\n",
              "    </tr>\n",
              "    <tr>\n",
              "      <th>4</th>\n",
              "      <td>ground_service</td>\n",
              "      <td>8.380607</td>\n",
              "    </tr>\n",
              "  </tbody>\n",
              "</table>\n",
              "</div>\n",
              "      <button class=\"colab-df-convert\" onclick=\"convertToInteractive('df-d81ce208-a97f-4ec2-bf3e-444a9e2121ee')\"\n",
              "              title=\"Convert this dataframe to an interactive table.\"\n",
              "              style=\"display:none;\">\n",
              "        \n",
              "  <svg xmlns=\"http://www.w3.org/2000/svg\" height=\"24px\"viewBox=\"0 0 24 24\"\n",
              "       width=\"24px\">\n",
              "    <path d=\"M0 0h24v24H0V0z\" fill=\"none\"/>\n",
              "    <path d=\"M18.56 5.44l.94 2.06.94-2.06 2.06-.94-2.06-.94-.94-2.06-.94 2.06-2.06.94zm-11 1L8.5 8.5l.94-2.06 2.06-.94-2.06-.94L8.5 2.5l-.94 2.06-2.06.94zm10 10l.94 2.06.94-2.06 2.06-.94-2.06-.94-.94-2.06-.94 2.06-2.06.94z\"/><path d=\"M17.41 7.96l-1.37-1.37c-.4-.4-.92-.59-1.43-.59-.52 0-1.04.2-1.43.59L10.3 9.45l-7.72 7.72c-.78.78-.78 2.05 0 2.83L4 21.41c.39.39.9.59 1.41.59.51 0 1.02-.2 1.41-.59l7.78-7.78 2.81-2.81c.8-.78.8-2.07 0-2.86zM5.41 20L4 18.59l7.72-7.72 1.47 1.35L5.41 20z\"/>\n",
              "  </svg>\n",
              "      </button>\n",
              "      \n",
              "  <style>\n",
              "    .colab-df-container {\n",
              "      display:flex;\n",
              "      flex-wrap:wrap;\n",
              "      gap: 12px;\n",
              "    }\n",
              "\n",
              "    .colab-df-convert {\n",
              "      background-color: #E8F0FE;\n",
              "      border: none;\n",
              "      border-radius: 50%;\n",
              "      cursor: pointer;\n",
              "      display: none;\n",
              "      fill: #1967D2;\n",
              "      height: 32px;\n",
              "      padding: 0 0 0 0;\n",
              "      width: 32px;\n",
              "    }\n",
              "\n",
              "    .colab-df-convert:hover {\n",
              "      background-color: #E2EBFA;\n",
              "      box-shadow: 0px 1px 2px rgba(60, 64, 67, 0.3), 0px 1px 3px 1px rgba(60, 64, 67, 0.15);\n",
              "      fill: #174EA6;\n",
              "    }\n",
              "\n",
              "    [theme=dark] .colab-df-convert {\n",
              "      background-color: #3B4455;\n",
              "      fill: #D2E3FC;\n",
              "    }\n",
              "\n",
              "    [theme=dark] .colab-df-convert:hover {\n",
              "      background-color: #434B5C;\n",
              "      box-shadow: 0px 1px 3px 1px rgba(0, 0, 0, 0.15);\n",
              "      filter: drop-shadow(0px 1px 2px rgba(0, 0, 0, 0.3));\n",
              "      fill: #FFFFFF;\n",
              "    }\n",
              "  </style>\n",
              "\n",
              "      <script>\n",
              "        const buttonEl =\n",
              "          document.querySelector('#df-d81ce208-a97f-4ec2-bf3e-444a9e2121ee button.colab-df-convert');\n",
              "        buttonEl.style.display =\n",
              "          google.colab.kernel.accessAllowed ? 'block' : 'none';\n",
              "\n",
              "        async function convertToInteractive(key) {\n",
              "          const element = document.querySelector('#df-d81ce208-a97f-4ec2-bf3e-444a9e2121ee');\n",
              "          const dataTable =\n",
              "            await google.colab.kernel.invokeFunction('convertToInteractive',\n",
              "                                                     [key], {});\n",
              "          if (!dataTable) return;\n",
              "\n",
              "          const docLinkHtml = 'Like what you see? Visit the ' +\n",
              "            '<a target=\"_blank\" href=https://colab.research.google.com/notebooks/data_table.ipynb>data table notebook</a>'\n",
              "            + ' to learn more about interactive tables.';\n",
              "          element.innerHTML = '';\n",
              "          dataTable['output_type'] = 'display_data';\n",
              "          await google.colab.output.renderOutput(dataTable, element);\n",
              "          const docLink = document.createElement('div');\n",
              "          docLink.innerHTML = docLinkHtml;\n",
              "          element.appendChild(docLink);\n",
              "        }\n",
              "      </script>\n",
              "    </div>\n",
              "  </div>\n",
              "  "
            ]
          },
          "metadata": {},
          "execution_count": 58
        }
      ]
    },
    {
      "cell_type": "code",
      "source": [
        "#drop overall column \n",
        "airline_df.drop([\"overall\"], axis = 1, inplace = True)"
      ],
      "metadata": {
        "id": "qy0sF1i4B-h8"
      },
      "execution_count": 59,
      "outputs": []
    },
    {
      "cell_type": "code",
      "source": [
        "airline_df.drop([\"airline\"], axis = 1, inplace = True)"
      ],
      "metadata": {
        "id": "hNnRLf_WG6sb"
      },
      "execution_count": 60,
      "outputs": []
    },
    {
      "cell_type": "markdown",
      "source": [
        "Here we are dropping airline column from our data as it is no usecase further."
      ],
      "metadata": {
        "id": "qpAyhpoxUqy9"
      }
    },
    {
      "cell_type": "markdown",
      "source": [
        "#**Defining the dependent and independent variables.**"
      ],
      "metadata": {
        "id": "bApC1z5DFA7B"
      }
    },
    {
      "cell_type": "code",
      "source": [
        "#separating the dependent and independent variables\n",
        "y = airline_df['recommended']\n",
        "x = airline_df.drop(columns = 'recommended')"
      ],
      "metadata": {
        "id": "BPoNabBaFAWM"
      },
      "execution_count": 61,
      "outputs": []
    },
    {
      "cell_type": "code",
      "source": [
        "x.columns"
      ],
      "metadata": {
        "id": "fTgSHA5NFqHc",
        "colab": {
          "base_uri": "https://localhost:8080/"
        },
        "outputId": "43bc93fd-a50a-454d-fc96-4df45cc451b4"
      },
      "execution_count": 62,
      "outputs": [
        {
          "output_type": "execute_result",
          "data": {
            "text/plain": [
              "Index(['traveller_type', 'cabin', 'seat_comfort', 'cabin_service', 'food_bev',\n",
              "       'entertainment', 'ground_service', 'value_for_money'],\n",
              "      dtype='object')"
            ]
          },
          "metadata": {},
          "execution_count": 62
        }
      ]
    },
    {
      "cell_type": "markdown",
      "source": [
        "#**One hot encoding**"
      ],
      "metadata": {
        "id": "O8Em9XrEEK_u"
      }
    },
    {
      "cell_type": "code",
      "source": [
        "x = pd.get_dummies(x)"
      ],
      "metadata": {
        "id": "syaQS8ajEYSL"
      },
      "execution_count": 63,
      "outputs": []
    },
    {
      "cell_type": "code",
      "source": [
        "x.shape"
      ],
      "metadata": {
        "id": "NFmL_DJ1F7Xs",
        "colab": {
          "base_uri": "https://localhost:8080/"
        },
        "outputId": "bd190279-14d0-4b79-c7c5-1b942beb21fa"
      },
      "execution_count": 64,
      "outputs": [
        {
          "output_type": "execute_result",
          "data": {
            "text/plain": [
              "(59761, 14)"
            ]
          },
          "metadata": {},
          "execution_count": 64
        }
      ]
    },
    {
      "cell_type": "code",
      "source": [
        "x.head(2)"
      ],
      "metadata": {
        "id": "xT08HcNvGDsi",
        "colab": {
          "base_uri": "https://localhost:8080/",
          "height": 193
        },
        "outputId": "861e75a8-154e-4963-a50f-5bb31de6de3f"
      },
      "execution_count": 65,
      "outputs": [
        {
          "output_type": "execute_result",
          "data": {
            "text/plain": [
              "   seat_comfort  cabin_service  food_bev  entertainment  ground_service  \\\n",
              "1           4.0            5.0       4.0            4.0             2.0   \n",
              "3           4.0            1.0       1.0            1.0             1.0   \n",
              "\n",
              "   value_for_money  traveller_type_Business  traveller_type_Couple Leisure  \\\n",
              "1              4.0                        1                              0   \n",
              "3              1.0                        0                              0   \n",
              "\n",
              "   traveller_type_Family Leisure  traveller_type_Solo Leisure  \\\n",
              "1                              0                            0   \n",
              "3                              1                            0   \n",
              "\n",
              "   cabin_Business Class  cabin_Economy Class  cabin_First Class  \\\n",
              "1                     0                    1                  0   \n",
              "3                     0                    1                  0   \n",
              "\n",
              "   cabin_Premium Economy  \n",
              "1                      0  \n",
              "3                      0  "
            ],
            "text/html": [
              "\n",
              "  <div id=\"df-96c78bbd-04f4-4401-a30a-939209b9e639\">\n",
              "    <div class=\"colab-df-container\">\n",
              "      <div>\n",
              "<style scoped>\n",
              "    .dataframe tbody tr th:only-of-type {\n",
              "        vertical-align: middle;\n",
              "    }\n",
              "\n",
              "    .dataframe tbody tr th {\n",
              "        vertical-align: top;\n",
              "    }\n",
              "\n",
              "    .dataframe thead th {\n",
              "        text-align: right;\n",
              "    }\n",
              "</style>\n",
              "<table border=\"1\" class=\"dataframe\">\n",
              "  <thead>\n",
              "    <tr style=\"text-align: right;\">\n",
              "      <th></th>\n",
              "      <th>seat_comfort</th>\n",
              "      <th>cabin_service</th>\n",
              "      <th>food_bev</th>\n",
              "      <th>entertainment</th>\n",
              "      <th>ground_service</th>\n",
              "      <th>value_for_money</th>\n",
              "      <th>traveller_type_Business</th>\n",
              "      <th>traveller_type_Couple Leisure</th>\n",
              "      <th>traveller_type_Family Leisure</th>\n",
              "      <th>traveller_type_Solo Leisure</th>\n",
              "      <th>cabin_Business Class</th>\n",
              "      <th>cabin_Economy Class</th>\n",
              "      <th>cabin_First Class</th>\n",
              "      <th>cabin_Premium Economy</th>\n",
              "    </tr>\n",
              "  </thead>\n",
              "  <tbody>\n",
              "    <tr>\n",
              "      <th>1</th>\n",
              "      <td>4.0</td>\n",
              "      <td>5.0</td>\n",
              "      <td>4.0</td>\n",
              "      <td>4.0</td>\n",
              "      <td>2.0</td>\n",
              "      <td>4.0</td>\n",
              "      <td>1</td>\n",
              "      <td>0</td>\n",
              "      <td>0</td>\n",
              "      <td>0</td>\n",
              "      <td>0</td>\n",
              "      <td>1</td>\n",
              "      <td>0</td>\n",
              "      <td>0</td>\n",
              "    </tr>\n",
              "    <tr>\n",
              "      <th>3</th>\n",
              "      <td>4.0</td>\n",
              "      <td>1.0</td>\n",
              "      <td>1.0</td>\n",
              "      <td>1.0</td>\n",
              "      <td>1.0</td>\n",
              "      <td>1.0</td>\n",
              "      <td>0</td>\n",
              "      <td>0</td>\n",
              "      <td>1</td>\n",
              "      <td>0</td>\n",
              "      <td>0</td>\n",
              "      <td>1</td>\n",
              "      <td>0</td>\n",
              "      <td>0</td>\n",
              "    </tr>\n",
              "  </tbody>\n",
              "</table>\n",
              "</div>\n",
              "      <button class=\"colab-df-convert\" onclick=\"convertToInteractive('df-96c78bbd-04f4-4401-a30a-939209b9e639')\"\n",
              "              title=\"Convert this dataframe to an interactive table.\"\n",
              "              style=\"display:none;\">\n",
              "        \n",
              "  <svg xmlns=\"http://www.w3.org/2000/svg\" height=\"24px\"viewBox=\"0 0 24 24\"\n",
              "       width=\"24px\">\n",
              "    <path d=\"M0 0h24v24H0V0z\" fill=\"none\"/>\n",
              "    <path d=\"M18.56 5.44l.94 2.06.94-2.06 2.06-.94-2.06-.94-.94-2.06-.94 2.06-2.06.94zm-11 1L8.5 8.5l.94-2.06 2.06-.94-2.06-.94L8.5 2.5l-.94 2.06-2.06.94zm10 10l.94 2.06.94-2.06 2.06-.94-2.06-.94-.94-2.06-.94 2.06-2.06.94z\"/><path d=\"M17.41 7.96l-1.37-1.37c-.4-.4-.92-.59-1.43-.59-.52 0-1.04.2-1.43.59L10.3 9.45l-7.72 7.72c-.78.78-.78 2.05 0 2.83L4 21.41c.39.39.9.59 1.41.59.51 0 1.02-.2 1.41-.59l7.78-7.78 2.81-2.81c.8-.78.8-2.07 0-2.86zM5.41 20L4 18.59l7.72-7.72 1.47 1.35L5.41 20z\"/>\n",
              "  </svg>\n",
              "      </button>\n",
              "      \n",
              "  <style>\n",
              "    .colab-df-container {\n",
              "      display:flex;\n",
              "      flex-wrap:wrap;\n",
              "      gap: 12px;\n",
              "    }\n",
              "\n",
              "    .colab-df-convert {\n",
              "      background-color: #E8F0FE;\n",
              "      border: none;\n",
              "      border-radius: 50%;\n",
              "      cursor: pointer;\n",
              "      display: none;\n",
              "      fill: #1967D2;\n",
              "      height: 32px;\n",
              "      padding: 0 0 0 0;\n",
              "      width: 32px;\n",
              "    }\n",
              "\n",
              "    .colab-df-convert:hover {\n",
              "      background-color: #E2EBFA;\n",
              "      box-shadow: 0px 1px 2px rgba(60, 64, 67, 0.3), 0px 1px 3px 1px rgba(60, 64, 67, 0.15);\n",
              "      fill: #174EA6;\n",
              "    }\n",
              "\n",
              "    [theme=dark] .colab-df-convert {\n",
              "      background-color: #3B4455;\n",
              "      fill: #D2E3FC;\n",
              "    }\n",
              "\n",
              "    [theme=dark] .colab-df-convert:hover {\n",
              "      background-color: #434B5C;\n",
              "      box-shadow: 0px 1px 3px 1px rgba(0, 0, 0, 0.15);\n",
              "      filter: drop-shadow(0px 1px 2px rgba(0, 0, 0, 0.3));\n",
              "      fill: #FFFFFF;\n",
              "    }\n",
              "  </style>\n",
              "\n",
              "      <script>\n",
              "        const buttonEl =\n",
              "          document.querySelector('#df-96c78bbd-04f4-4401-a30a-939209b9e639 button.colab-df-convert');\n",
              "        buttonEl.style.display =\n",
              "          google.colab.kernel.accessAllowed ? 'block' : 'none';\n",
              "\n",
              "        async function convertToInteractive(key) {\n",
              "          const element = document.querySelector('#df-96c78bbd-04f4-4401-a30a-939209b9e639');\n",
              "          const dataTable =\n",
              "            await google.colab.kernel.invokeFunction('convertToInteractive',\n",
              "                                                     [key], {});\n",
              "          if (!dataTable) return;\n",
              "\n",
              "          const docLinkHtml = 'Like what you see? Visit the ' +\n",
              "            '<a target=\"_blank\" href=https://colab.research.google.com/notebooks/data_table.ipynb>data table notebook</a>'\n",
              "            + ' to learn more about interactive tables.';\n",
              "          element.innerHTML = '';\n",
              "          dataTable['output_type'] = 'display_data';\n",
              "          await google.colab.output.renderOutput(dataTable, element);\n",
              "          const docLink = document.createElement('div');\n",
              "          docLink.innerHTML = docLinkHtml;\n",
              "          element.appendChild(docLink);\n",
              "        }\n",
              "      </script>\n",
              "    </div>\n",
              "  </div>\n",
              "  "
            ]
          },
          "metadata": {},
          "execution_count": 65
        }
      ]
    },
    {
      "cell_type": "code",
      "source": [
        "print(\"The Percentage of No labels of Target Variable is\",np.round(y.value_counts()[0]/len(y)*100))\n",
        "print(\"The Percentage of Yes labels of Target Variable is\",np.round(y.value_counts()[1]/len(y)*100))\n"
      ],
      "metadata": {
        "id": "J-MPCOfr4Jii",
        "colab": {
          "base_uri": "https://localhost:8080/"
        },
        "outputId": "a7af7067-9504-40e1-daf7-9fed12a3c27e"
      },
      "execution_count": 66,
      "outputs": [
        {
          "output_type": "stream",
          "name": "stdout",
          "text": [
            "The Percentage of No labels of Target Variable is 52.0\n",
            "The Percentage of Yes labels of Target Variable is 48.0\n"
          ]
        }
      ]
    },
    {
      "cell_type": "markdown",
      "source": [
        "The Percentage of both labels('yes','no) is approximately equal. So no need of Handling Class Imbalance technique."
      ],
      "metadata": {
        "id": "UsoRox_HxgDK"
      }
    },
    {
      "cell_type": "markdown",
      "source": [
        "#**Splitting Train and Test Data**"
      ],
      "metadata": {
        "id": "A3yYo4Z4H0PK"
      }
    },
    {
      "cell_type": "code",
      "source": [
        "#train and test split\n",
        "x_train, x_test, y_train, y_test = train_test_split( x,y , test_size = 0.2, random_state = 42)"
      ],
      "metadata": {
        "id": "69HmxcHCH6BE"
      },
      "execution_count": 67,
      "outputs": []
    },
    {
      "cell_type": "code",
      "source": [
        "#shape of x_train and x_test data\n",
        "print(x_train.shape)\n",
        "print(x_test.shape)"
      ],
      "metadata": {
        "id": "6qH_bKy3IMRQ",
        "colab": {
          "base_uri": "https://localhost:8080/"
        },
        "outputId": "936d8577-883f-4be9-fe4a-f7c41a07d431"
      },
      "execution_count": 68,
      "outputs": [
        {
          "output_type": "stream",
          "name": "stdout",
          "text": [
            "(47808, 14)\n",
            "(11953, 14)\n"
          ]
        }
      ]
    },
    {
      "cell_type": "code",
      "source": [
        "#shape of y_train and y_test data\n",
        "print(y_train.shape)\n",
        "print(y_test.shape)"
      ],
      "metadata": {
        "id": "WW1BNWxCISLD",
        "colab": {
          "base_uri": "https://localhost:8080/"
        },
        "outputId": "7dc29271-b28e-4205-f276-02e4bfbbd527"
      },
      "execution_count": 69,
      "outputs": [
        {
          "output_type": "stream",
          "name": "stdout",
          "text": [
            "(47808,)\n",
            "(11953,)\n"
          ]
        }
      ]
    },
    {
      "cell_type": "markdown",
      "source": [
        "#**Model-1:Fitting Logistic Regression**"
      ],
      "metadata": {
        "id": "inx93QalygpV"
      }
    },
    {
      "cell_type": "code",
      "source": [
        "#logistic regression fitting \n",
        "log_reg = LogisticRegression(fit_intercept=True, max_iter=10000)\n",
        "log_reg.fit(x_train, y_train)"
      ],
      "metadata": {
        "id": "KpQ4cn-UMMeM",
        "colab": {
          "base_uri": "https://localhost:8080/"
        },
        "outputId": "8f2dc33e-70a9-402e-dab4-b7b6ef95b225"
      },
      "execution_count": 70,
      "outputs": [
        {
          "output_type": "execute_result",
          "data": {
            "text/plain": [
              "LogisticRegression(max_iter=10000)"
            ]
          },
          "metadata": {},
          "execution_count": 70
        }
      ]
    },
    {
      "cell_type": "code",
      "source": [
        "log_reg.coef_"
      ],
      "metadata": {
        "id": "T_fdwc4Y4JXG",
        "colab": {
          "base_uri": "https://localhost:8080/"
        },
        "outputId": "bb664577-ae0c-4000-91cb-37d1b5abeb97"
      },
      "execution_count": 71,
      "outputs": [
        {
          "output_type": "execute_result",
          "data": {
            "text/plain": [
              "array([[ 0.29470838,  0.54968868,  0.43532953,  0.24885675,  0.72106364,\n",
              "         1.63397577,  0.14717863, -0.05302362, -0.16246925,  0.063547  ,\n",
              "         0.1459788 , -0.06847132,  0.11168624, -0.19396096]])"
            ]
          },
          "metadata": {},
          "execution_count": 71
        }
      ]
    },
    {
      "cell_type": "code",
      "source": [
        "log_reg.intercept_"
      ],
      "metadata": {
        "id": "2h83Psmh4JSG",
        "colab": {
          "base_uri": "https://localhost:8080/"
        },
        "outputId": "77762489-e1e7-4af0-b280-6505379c901f"
      },
      "execution_count": 72,
      "outputs": [
        {
          "output_type": "execute_result",
          "data": {
            "text/plain": [
              "array([-11.83828652])"
            ]
          },
          "metadata": {},
          "execution_count": 72
        }
      ]
    },
    {
      "cell_type": "code",
      "source": [
        "log_reg.score(x_test,y_test)"
      ],
      "metadata": {
        "id": "Q-0lVA6bNqS0",
        "colab": {
          "base_uri": "https://localhost:8080/"
        },
        "outputId": "0963165d-fee9-4d50-ed3a-ece2a9e27756"
      },
      "execution_count": 73,
      "outputs": [
        {
          "output_type": "execute_result",
          "data": {
            "text/plain": [
              "0.9324019074709278"
            ]
          },
          "metadata": {},
          "execution_count": 73
        }
      ]
    },
    {
      "cell_type": "code",
      "source": [
        "y_pred = log_reg.predict(x_test)"
      ],
      "metadata": {
        "id": "BGtUDWTISUUN"
      },
      "execution_count": 74,
      "outputs": []
    },
    {
      "cell_type": "code",
      "source": [
        "#report of logistic regression \n",
        "report_lR = classification_report(y_test, y_pred)\n",
        "print(report_lR)"
      ],
      "metadata": {
        "id": "cTc3Mk6CT5EY",
        "colab": {
          "base_uri": "https://localhost:8080/"
        },
        "outputId": "21fd1cc5-30a6-44b7-9d25-465ee3650bd0"
      },
      "execution_count": 75,
      "outputs": [
        {
          "output_type": "stream",
          "name": "stdout",
          "text": [
            "              precision    recall  f1-score   support\n",
            "\n",
            "           0       0.94      0.93      0.93      6225\n",
            "           1       0.92      0.94      0.93      5728\n",
            "\n",
            "    accuracy                           0.93     11953\n",
            "   macro avg       0.93      0.93      0.93     11953\n",
            "weighted avg       0.93      0.93      0.93     11953\n",
            "\n"
          ]
        }
      ]
    },
    {
      "cell_type": "markdown",
      "source": [
        "**93%** accuracy with **Logistic Regression**"
      ],
      "metadata": {
        "id": "03k9lxw67VP4"
      }
    },
    {
      "cell_type": "code",
      "source": [
        "#cofusion matrix of logistic regression \n",
        "confuse_matrix_lr = confusion_matrix( y_test,y_pred)\n",
        "#plooting confusion matrix\n",
        "sns.heatmap(confuse_matrix_lr, annot=True, fmt = \".1f\")"
      ],
      "metadata": {
        "id": "zLVyOM41Vr2c",
        "colab": {
          "base_uri": "https://localhost:8080/",
          "height": 446
        },
        "outputId": "0518d812-d53c-4ff0-97f3-6a1e451ecc9b"
      },
      "execution_count": 76,
      "outputs": [
        {
          "output_type": "execute_result",
          "data": {
            "text/plain": [
              "<matplotlib.axes._subplots.AxesSubplot at 0x7f5b6549ae50>"
            ]
          },
          "metadata": {},
          "execution_count": 76
        },
        {
          "output_type": "display_data",
          "data": {
            "text/plain": [
              "<Figure size 720x504 with 2 Axes>"
            ],
            "image/png": "[encoded data removed]"
          },
          "metadata": {
            "needs_background": "light"
          }
        }
      ]
    },
    {
      "cell_type": "markdown",
      "source": [
        "#Implementing Cross-validated Logistic Regression"
      ],
      "metadata": {
        "id": "BsXX7sfUWtMf"
      }
    },
    {
      "cell_type": "code",
      "source": [
        "logistic = LogisticRegression()"
      ],
      "metadata": {
        "id": "FKa29J3vWwiM"
      },
      "execution_count": 77,
      "outputs": []
    },
    {
      "cell_type": "code",
      "source": [
        "from sklearn.model_selection import cross_val_score"
      ],
      "metadata": {
        "id": "qekOLiLa5m9c"
      },
      "execution_count": 78,
      "outputs": []
    },
    {
      "cell_type": "code",
      "source": [
        "scores = cross_val_score(log_reg, x_train, y_train, cv=10)\n",
        "print('Cross-Validation Accuracy Scores', scores)"
      ],
      "metadata": {
        "id": "INarbLU55cnW",
        "colab": {
          "base_uri": "https://localhost:8080/"
        },
        "outputId": "391c72b6-5850-4b7d-ddf1-11edcc6caf16"
      },
      "execution_count": 79,
      "outputs": [
        {
          "output_type": "stream",
          "name": "stdout",
          "text": [
            "Cross-Validation Accuracy Scores [0.9405982  0.94415394 0.93766994 0.94122569 0.93913407 0.93474169\n",
            " 0.94080736 0.94143485 0.93284519 0.93702929]\n"
          ]
        }
      ]
    },
    {
      "cell_type": "code",
      "source": [
        "scores = pd.Series(scores)\n",
        "scores.min(), scores.mean(), scores.max()"
      ],
      "metadata": {
        "id": "9ompANkd57Vu",
        "colab": {
          "base_uri": "https://localhost:8080/"
        },
        "outputId": "c2338209-7413-4cfd-ba57-4bf3b9346930"
      },
      "execution_count": 80,
      "outputs": [
        {
          "output_type": "execute_result",
          "data": {
            "text/plain": [
              "(0.9328451882845188, 0.9389640216372515, 0.9441539426898139)"
            ]
          },
          "metadata": {},
          "execution_count": 80
        }
      ]
    },
    {
      "cell_type": "markdown",
      "source": [
        "#**Model-2:Fitting Decision Tree Classifer**"
      ],
      "metadata": {
        "id": "602REaFpON14"
      }
    },
    {
      "cell_type": "code",
      "source": [
        "#Initializing Decision Tree Model object\n",
        "tree_classify=DecisionTreeClassifier()\n",
        "#Taining a model with x and y\n",
        "tree_classify.fit(x_train,y_train)"
      ],
      "metadata": {
        "id": "eboLwM-D4JRX",
        "colab": {
          "base_uri": "https://localhost:8080/"
        },
        "outputId": "84f75bf5-bbda-4f04-f755-2a1baddc8bc2"
      },
      "execution_count": 81,
      "outputs": [
        {
          "output_type": "execute_result",
          "data": {
            "text/plain": [
              "DecisionTreeClassifier()"
            ]
          },
          "metadata": {},
          "execution_count": 81
        }
      ]
    },
    {
      "cell_type": "code",
      "source": [
        "print(\"Training Accuracy of Decision Tree Model is\",tree_classify.score(x_train,y_train))\n",
        "print(\"Testing Accuracy of Decision Tree Model is\",tree_classify.score(x_test,y_test))"
      ],
      "metadata": {
        "id": "zhpfejWF4Iwb",
        "colab": {
          "base_uri": "https://localhost:8080/"
        },
        "outputId": "3706fddb-5822-43ea-d2ad-3fe54ee00523"
      },
      "execution_count": 82,
      "outputs": [
        {
          "output_type": "stream",
          "name": "stdout",
          "text": [
            "Training Accuracy of Decision Tree Model is 0.9745440093708166\n",
            "Testing Accuracy of Decision Tree Model is 0.9167572994227391\n"
          ]
        }
      ]
    },
    {
      "cell_type": "code",
      "source": [
        "y_pred = tree_classify.predict(x_test)"
      ],
      "metadata": {
        "id": "a0A83Gsa7xBP"
      },
      "execution_count": 83,
      "outputs": []
    },
    {
      "cell_type": "code",
      "source": [
        "#report of decision tree \n",
        "report_dec_tree = classification_report(y_test, y_pred)\n",
        "print(report_dec_tree)"
      ],
      "metadata": {
        "id": "cRkJWbGf7-C3",
        "colab": {
          "base_uri": "https://localhost:8080/"
        },
        "outputId": "bcc4d5ad-5243-4de0-d7f7-f765d16878b5"
      },
      "execution_count": 84,
      "outputs": [
        {
          "output_type": "stream",
          "name": "stdout",
          "text": [
            "              precision    recall  f1-score   support\n",
            "\n",
            "           0       0.92      0.92      0.92      6225\n",
            "           1       0.92      0.91      0.91      5728\n",
            "\n",
            "    accuracy                           0.92     11953\n",
            "   macro avg       0.92      0.92      0.92     11953\n",
            "weighted avg       0.92      0.92      0.92     11953\n",
            "\n"
          ]
        }
      ]
    },
    {
      "cell_type": "markdown",
      "source": [
        "Here our model is Overfitted. So Hyperparameter tuning is done to prune a Decision tree to preserve Generalized Model."
      ],
      "metadata": {
        "id": "9-xr5AIZPHzV"
      }
    },
    {
      "cell_type": "markdown",
      "source": [
        "#Hyperparameter Tuning For Decision Tree"
      ],
      "metadata": {
        "id": "uGr6RJPzPSmh"
      }
    },
    {
      "cell_type": "code",
      "source": [
        "#setting the parameters and scoring metric\n",
        "parameters = {\"criterion\":[\"gini\",\"entropy\"],\"max_depth\":[5,7],\"min_samples_split\":[5,7],\"min_samples_leaf\":[2,3]}\n",
        "scoring_=['f1','recall','precision','accuracy']"
      ],
      "metadata": {
        "id": "1Ccf2ryBPBPV"
      },
      "execution_count": 85,
      "outputs": []
    },
    {
      "cell_type": "code",
      "source": [
        "#performing hyperparameter tuning using gridsearchcv\n",
        "\n",
        "#setting an estimator,and crossvalidation\n",
        "tree_cv = GridSearchCV(estimator=tree_classify, param_grid=parameters, scoring=scoring_, cv=5,refit='accuracy')\n",
        "\n",
        "#Fitting x and y to gridsearchcv model using an estimator Decision tree classifier\n",
        "tree_cv.fit(x_train, y_train)"
      ],
      "metadata": {
        "id": "EO2-AZNVUVD-",
        "colab": {
          "base_uri": "https://localhost:8080/"
        },
        "outputId": "73d980fa-7857-41b3-bb4a-19c5b17d0647"
      },
      "execution_count": 86,
      "outputs": [
        {
          "output_type": "execute_result",
          "data": {
            "text/plain": [
              "GridSearchCV(cv=5, estimator=DecisionTreeClassifier(),\n",
              "             param_grid={'criterion': ['gini', 'entropy'], 'max_depth': [5, 7],\n",
              "                         'min_samples_leaf': [2, 3],\n",
              "                         'min_samples_split': [5, 7]},\n",
              "             refit='accuracy',\n",
              "             scoring=['f1', 'recall', 'precision', 'accuracy'])"
            ]
          },
          "metadata": {},
          "execution_count": 86
        }
      ]
    },
    {
      "cell_type": "code",
      "source": [
        "#calling an best params\n",
        "tree_cv.best_params_"
      ],
      "metadata": {
        "id": "sYQKo8fpUU_m",
        "colab": {
          "base_uri": "https://localhost:8080/"
        },
        "outputId": "023b3535-30ac-4b42-f1bc-846b48dedda0"
      },
      "execution_count": 87,
      "outputs": [
        {
          "output_type": "execute_result",
          "data": {
            "text/plain": [
              "{'criterion': 'gini',\n",
              " 'max_depth': 7,\n",
              " 'min_samples_leaf': 3,\n",
              " 'min_samples_split': 7}"
            ]
          },
          "metadata": {},
          "execution_count": 87
        }
      ]
    },
    {
      "cell_type": "code",
      "source": [
        "#calling an best score\n",
        "tree_cv.best_score_"
      ],
      "metadata": {
        "id": "A8oBq2npUU9e",
        "colab": {
          "base_uri": "https://localhost:8080/"
        },
        "outputId": "8f8a364c-a882-4c5b-f5f0-6e5ad41c913a"
      },
      "execution_count": 88,
      "outputs": [
        {
          "output_type": "execute_result",
          "data": {
            "text/plain": [
              "0.9371652678720052"
            ]
          },
          "metadata": {},
          "execution_count": 88
        }
      ]
    },
    {
      "cell_type": "markdown",
      "source": [
        "**93%** accuracy of **Decision Tree** with the help of hypermatring tunning."
      ],
      "metadata": {
        "id": "8N3AmZAV8bMt"
      }
    },
    {
      "cell_type": "markdown",
      "source": [
        "#**Model-3:Fitting Random Forest**"
      ],
      "metadata": {
        "id": "33zSA3kxcsnc"
      }
    },
    {
      "cell_type": "code",
      "source": [
        "random_forest = RandomForestClassifier()\n",
        "random_forest.fit(x_train,y_train)"
      ],
      "metadata": {
        "id": "3JSTeHbD-57a",
        "colab": {
          "base_uri": "https://localhost:8080/"
        },
        "outputId": "cdca912a-bfba-4996-e13a-e15d768e7618"
      },
      "execution_count": 89,
      "outputs": [
        {
          "output_type": "execute_result",
          "data": {
            "text/plain": [
              "RandomForestClassifier()"
            ]
          },
          "metadata": {},
          "execution_count": 89
        }
      ]
    },
    {
      "cell_type": "code",
      "source": [
        "random_forest.score(x_test,y_test)"
      ],
      "metadata": {
        "id": "EZ8YjxFK_NHx",
        "colab": {
          "base_uri": "https://localhost:8080/"
        },
        "outputId": "d21371ca-d7b9-4d6f-8bef-c100f2b30f79"
      },
      "execution_count": 90,
      "outputs": [
        {
          "output_type": "execute_result",
          "data": {
            "text/plain": [
              "0.9293064502635322"
            ]
          },
          "metadata": {},
          "execution_count": 90
        }
      ]
    },
    {
      "cell_type": "code",
      "source": [
        "#report of decision tree \n",
        "report_ran_forest = classification_report(y_test, y_pred)\n",
        "print(report_ran_forest)"
      ],
      "metadata": {
        "id": "sWsVGocx_c0s",
        "colab": {
          "base_uri": "https://localhost:8080/"
        },
        "outputId": "02eeb629-6bf2-402e-c832-b3fffc6236d3"
      },
      "execution_count": 91,
      "outputs": [
        {
          "output_type": "stream",
          "name": "stdout",
          "text": [
            "              precision    recall  f1-score   support\n",
            "\n",
            "           0       0.92      0.92      0.92      6225\n",
            "           1       0.92      0.91      0.91      5728\n",
            "\n",
            "    accuracy                           0.92     11953\n",
            "   macro avg       0.92      0.92      0.92     11953\n",
            "weighted avg       0.92      0.92      0.92     11953\n",
            "\n"
          ]
        }
      ]
    },
    {
      "cell_type": "markdown",
      "source": [
        "**92%** accuracy with **Random Forest**"
      ],
      "metadata": {
        "id": "62X504mi_zZ5"
      }
    },
    {
      "cell_type": "markdown",
      "source": [
        "#Implementing Cross-validated Random Forest"
      ],
      "metadata": {
        "id": "1tGjPMQJPzV-"
      }
    },
    {
      "cell_type": "code",
      "source": [
        "random_forest_gridcv = GridSearchCV(estimator=random_forest,\n",
        "                       param_grid = parameters,\n",
        "                       cv = 5, verbose=2)"
      ],
      "metadata": {
        "id": "ptGVhYx2QQPH"
      },
      "execution_count": 92,
      "outputs": []
    },
    {
      "cell_type": "code",
      "source": [
        "random_forest_gridcv.fit(x_train,y_train)"
      ],
      "metadata": {
        "id": "UXko_0wNRCD5",
        "colab": {
          "base_uri": "https://localhost:8080/"
        },
        "outputId": "489989bb-4d43-4571-ed17-15b9a1e3b989"
      },
      "execution_count": 93,
      "outputs": [
        {
          "output_type": "stream",
          "name": "stdout",
          "text": [
            "Fitting 5 folds for each of 16 candidates, totalling 80 fits\n",
            "[CV] END criterion=gini, max_depth=5, min_samples_leaf=2, min_samples_split=5; total time=   1.3s\n",
            "[CV] END criterion=gini, max_depth=5, min_samples_leaf=2, min_samples_split=5; total time=   1.4s\n",
            "[CV] END criterion=gini, max_depth=5, min_samples_leaf=2, min_samples_split=5; total time=   1.3s\n",
            "[CV] END criterion=gini, max_depth=5, min_samples_leaf=2, min_samples_split=5; total time=   1.4s\n",
            "[CV] END criterion=gini, max_depth=5, min_samples_leaf=2, min_samples_split=5; total time=   1.3s\n",
            "[CV] END criterion=gini, max_depth=5, min_samples_leaf=2, min_samples_split=7; total time=   1.3s\n",
            "[CV] END criterion=gini, max_depth=5, min_samples_leaf=2, min_samples_split=7; total time=   1.4s\n",
            "[CV] END criterion=gini, max_depth=5, min_samples_leaf=2, min_samples_split=7; total time=   1.3s\n",
            "[CV] END criterion=gini, max_depth=5, min_samples_leaf=2, min_samples_split=7; total time=   1.3s\n",
            "[CV] END criterion=gini, max_depth=5, min_samples_leaf=2, min_samples_split=7; total time=   1.3s\n",
            "[CV] END criterion=gini, max_depth=5, min_samples_leaf=3, min_samples_split=5; total time=   1.4s\n",
            "[CV] END criterion=gini, max_depth=5, min_samples_leaf=3, min_samples_split=5; total time=   1.4s\n",
            "[CV] END criterion=gini, max_depth=5, min_samples_leaf=3, min_samples_split=5; total time=   1.4s\n",
            "[CV] END criterion=gini, max_depth=5, min_samples_leaf=3, min_samples_split=5; total time=   1.3s\n",
            "[CV] END criterion=gini, max_depth=5, min_samples_leaf=3, min_samples_split=5; total time=   1.3s\n",
            "[CV] END criterion=gini, max_depth=5, min_samples_leaf=3, min_samples_split=7; total time=   1.3s\n",
            "[CV] END criterion=gini, max_depth=5, min_samples_leaf=3, min_samples_split=7; total time=   1.3s\n",
            "[CV] END criterion=gini, max_depth=5, min_samples_leaf=3, min_samples_split=7; total time=   1.3s\n",
            "[CV] END criterion=gini, max_depth=5, min_samples_leaf=3, min_samples_split=7; total time=   1.3s\n",
            "[CV] END criterion=gini, max_depth=5, min_samples_leaf=3, min_samples_split=7; total time=   1.4s\n",
            "[CV] END criterion=gini, max_depth=7, min_samples_leaf=2, min_samples_split=5; total time=   1.5s\n",
            "[CV] END criterion=gini, max_depth=7, min_samples_leaf=2, min_samples_split=5; total time=   1.5s\n",
            "[CV] END criterion=gini, max_depth=7, min_samples_leaf=2, min_samples_split=5; total time=   1.5s\n",
            "[CV] END criterion=gini, max_depth=7, min_samples_leaf=2, min_samples_split=5; total time=   1.5s\n",
            "[CV] END criterion=gini, max_depth=7, min_samples_leaf=2, min_samples_split=5; total time=   1.5s\n",
            "[CV] END criterion=gini, max_depth=7, min_samples_leaf=2, min_samples_split=7; total time=   1.5s\n",
            "[CV] END criterion=gini, max_depth=7, min_samples_leaf=2, min_samples_split=7; total time=   1.6s\n",
            "[CV] END criterion=gini, max_depth=7, min_samples_leaf=2, min_samples_split=7; total time=   1.6s\n",
            "[CV] END criterion=gini, max_depth=7, min_samples_leaf=2, min_samples_split=7; total time=   1.5s\n",
            "[CV] END criterion=gini, max_depth=7, min_samples_leaf=2, min_samples_split=7; total time=   1.6s\n",
            "[CV] END criterion=gini, max_depth=7, min_samples_leaf=3, min_samples_split=5; total time=   1.6s\n",
            "[CV] END criterion=gini, max_depth=7, min_samples_leaf=3, min_samples_split=5; total time=   1.5s\n",
            "[CV] END criterion=gini, max_depth=7, min_samples_leaf=3, min_samples_split=5; total time=   1.5s\n",
            "[CV] END criterion=gini, max_depth=7, min_samples_leaf=3, min_samples_split=5; total time=   1.6s\n",
            "[CV] END criterion=gini, max_depth=7, min_samples_leaf=3, min_samples_split=5; total time=   1.6s\n",
            "[CV] END criterion=gini, max_depth=7, min_samples_leaf=3, min_samples_split=7; total time=   1.5s\n",
            "[CV] END criterion=gini, max_depth=7, min_samples_leaf=3, min_samples_split=7; total time=   1.5s\n",
            "[CV] END criterion=gini, max_depth=7, min_samples_leaf=3, min_samples_split=7; total time=   1.5s\n",
            "[CV] END criterion=gini, max_depth=7, min_samples_leaf=3, min_samples_split=7; total time=   1.5s\n",
            "[CV] END criterion=gini, max_depth=7, min_samples_leaf=3, min_samples_split=7; total time=   1.6s\n",
            "[CV] END criterion=entropy, max_depth=5, min_samples_leaf=2, min_samples_split=5; total time=   1.4s\n",
            "[CV] END criterion=entropy, max_depth=5, min_samples_leaf=2, min_samples_split=5; total time=   1.4s\n",
            "[CV] END criterion=entropy, max_depth=5, min_samples_leaf=2, min_samples_split=5; total time=   1.4s\n",
            "[CV] END criterion=entropy, max_depth=5, min_samples_leaf=2, min_samples_split=5; total time=   1.3s\n",
            "[CV] END criterion=entropy, max_depth=5, min_samples_leaf=2, min_samples_split=5; total time=   1.4s\n",
            "[CV] END criterion=entropy, max_depth=5, min_samples_leaf=2, min_samples_split=7; total time=   1.3s\n",
            "[CV] END criterion=entropy, max_depth=5, min_samples_leaf=2, min_samples_split=7; total time=   1.3s\n",
            "[CV] END criterion=entropy, max_depth=5, min_samples_leaf=2, min_samples_split=7; total time=   1.4s\n",
            "[CV] END criterion=entropy, max_depth=5, min_samples_leaf=2, min_samples_split=7; total time=   1.4s\n",
            "[CV] END criterion=entropy, max_depth=5, min_samples_leaf=2, min_samples_split=7; total time=   1.3s\n",
            "[CV] END criterion=entropy, max_depth=5, min_samples_leaf=3, min_samples_split=5; total time=   1.3s\n",
            "[CV] END criterion=entropy, max_depth=5, min_samples_leaf=3, min_samples_split=5; total time=   1.3s\n",
            "[CV] END criterion=entropy, max_depth=5, min_samples_leaf=3, min_samples_split=5; total time=   1.3s\n",
            "[CV] END criterion=entropy, max_depth=5, min_samples_leaf=3, min_samples_split=5; total time=   1.3s\n",
            "[CV] END criterion=entropy, max_depth=5, min_samples_leaf=3, min_samples_split=5; total time=   1.4s\n",
            "[CV] END criterion=entropy, max_depth=5, min_samples_leaf=3, min_samples_split=7; total time=   1.4s\n",
            "[CV] END criterion=entropy, max_depth=5, min_samples_leaf=3, min_samples_split=7; total time=   1.4s\n",
            "[CV] END criterion=entropy, max_depth=5, min_samples_leaf=3, min_samples_split=7; total time=   1.4s\n",
            "[CV] END criterion=entropy, max_depth=5, min_samples_leaf=3, min_samples_split=7; total time=   1.3s\n",
            "[CV] END criterion=entropy, max_depth=5, min_samples_leaf=3, min_samples_split=7; total time=   1.3s\n",
            "[CV] END criterion=entropy, max_depth=7, min_samples_leaf=2, min_samples_split=5; total time=   3.0s\n",
            "[CV] END criterion=entropy, max_depth=7, min_samples_leaf=2, min_samples_split=5; total time=   1.6s\n",
            "[CV] END criterion=entropy, max_depth=7, min_samples_leaf=2, min_samples_split=5; total time=   1.6s\n",
            "[CV] END criterion=entropy, max_depth=7, min_samples_leaf=2, min_samples_split=5; total time=   1.6s\n",
            "[CV] END criterion=entropy, max_depth=7, min_samples_leaf=2, min_samples_split=5; total time=   1.6s\n",
            "[CV] END criterion=entropy, max_depth=7, min_samples_leaf=2, min_samples_split=7; total time=   1.6s\n",
            "[CV] END criterion=entropy, max_depth=7, min_samples_leaf=2, min_samples_split=7; total time=   1.6s\n",
            "[CV] END criterion=entropy, max_depth=7, min_samples_leaf=2, min_samples_split=7; total time=   1.6s\n",
            "[CV] END criterion=entropy, max_depth=7, min_samples_leaf=2, min_samples_split=7; total time=   1.6s\n",
            "[CV] END criterion=entropy, max_depth=7, min_samples_leaf=2, min_samples_split=7; total time=   1.6s\n",
            "[CV] END criterion=entropy, max_depth=7, min_samples_leaf=3, min_samples_split=5; total time=   1.6s\n",
            "[CV] END criterion=entropy, max_depth=7, min_samples_leaf=3, min_samples_split=5; total time=   1.6s\n",
            "[CV] END criterion=entropy, max_depth=7, min_samples_leaf=3, min_samples_split=5; total time=   1.6s\n",
            "[CV] END criterion=entropy, max_depth=7, min_samples_leaf=3, min_samples_split=5; total time=   1.6s\n",
            "[CV] END criterion=entropy, max_depth=7, min_samples_leaf=3, min_samples_split=5; total time=   1.6s\n",
            "[CV] END criterion=entropy, max_depth=7, min_samples_leaf=3, min_samples_split=7; total time=   1.6s\n",
            "[CV] END criterion=entropy, max_depth=7, min_samples_leaf=3, min_samples_split=7; total time=   1.5s\n",
            "[CV] END criterion=entropy, max_depth=7, min_samples_leaf=3, min_samples_split=7; total time=   1.5s\n",
            "[CV] END criterion=entropy, max_depth=7, min_samples_leaf=3, min_samples_split=7; total time=   1.6s\n",
            "[CV] END criterion=entropy, max_depth=7, min_samples_leaf=3, min_samples_split=7; total time=   1.6s\n"
          ]
        },
        {
          "output_type": "execute_result",
          "data": {
            "text/plain": [
              "GridSearchCV(cv=5, estimator=RandomForestClassifier(),\n",
              "             param_grid={'criterion': ['gini', 'entropy'], 'max_depth': [5, 7],\n",
              "                         'min_samples_leaf': [2, 3],\n",
              "                         'min_samples_split': [5, 7]},\n",
              "             verbose=2)"
            ]
          },
          "metadata": {},
          "execution_count": 93
        }
      ]
    },
    {
      "cell_type": "code",
      "source": [
        "random_forest_gridcv.best_params_"
      ],
      "metadata": {
        "id": "iTL28JyeSJy4",
        "colab": {
          "base_uri": "https://localhost:8080/"
        },
        "outputId": "bfadb65f-8079-4031-8c6b-801a732c5e74"
      },
      "execution_count": 94,
      "outputs": [
        {
          "output_type": "execute_result",
          "data": {
            "text/plain": [
              "{'criterion': 'gini',\n",
              " 'max_depth': 7,\n",
              " 'min_samples_leaf': 2,\n",
              " 'min_samples_split': 5}"
            ]
          },
          "metadata": {},
          "execution_count": 94
        }
      ]
    },
    {
      "cell_type": "markdown",
      "source": [
        "#**Model-4:K-Nearest Neighbour**"
      ],
      "metadata": {
        "id": "kmYIV_wGG4Zc"
      }
    },
    {
      "cell_type": "code",
      "source": [
        "k_neighbor = KNeighborsClassifier()\n",
        "k_neighbor.fit(x_train, y_train)"
      ],
      "metadata": {
        "id": "bv2L0nCfH1ql",
        "colab": {
          "base_uri": "https://localhost:8080/"
        },
        "outputId": "6d4b8759-d91a-4a52-ef80-f3afb6f1a8f2"
      },
      "execution_count": 95,
      "outputs": [
        {
          "output_type": "execute_result",
          "data": {
            "text/plain": [
              "KNeighborsClassifier()"
            ]
          },
          "metadata": {},
          "execution_count": 95
        }
      ]
    },
    {
      "cell_type": "code",
      "source": [
        "y_pred = k_neighbor.predict(x_test)"
      ],
      "metadata": {
        "id": "QZJJYi6JJE9d"
      },
      "execution_count": 96,
      "outputs": []
    },
    {
      "cell_type": "code",
      "source": [
        "# Compute accuracy on the training set\n",
        "train_accuracy = k_neighbor.score(x_train, y_train)\n",
        "print(train_accuracy)\n",
        "# Compute accuracy on the test set\n",
        "test_accuracy = k_neighbor.score(x_test, y_test) \n",
        "print(test_accuracy)"
      ],
      "metadata": {
        "id": "qxq0Bkf4OWPB",
        "colab": {
          "base_uri": "https://localhost:8080/"
        },
        "outputId": "49c9532b-b33c-41b9-ba16-c775f4f194f1"
      },
      "execution_count": 97,
      "outputs": [
        {
          "output_type": "stream",
          "name": "stdout",
          "text": [
            "0.9493390227576974\n",
            "0.9293901112691375\n"
          ]
        }
      ]
    },
    {
      "cell_type": "markdown",
      "source": [
        "**92%** accuracy with **K-Nearest-Neighbor**"
      ],
      "metadata": {
        "id": "FV4W-A5YLF3C"
      }
    },
    {
      "cell_type": "code",
      "source": [
        "#cofusion matrix of k_neighbor  \n",
        "confuse_matrix_k_neighbor  = confusion_matrix(y_test,y_pred)\n",
        "confuse_matrix_k_neighbor"
      ],
      "metadata": {
        "id": "dpaBi0YRKf2p",
        "colab": {
          "base_uri": "https://localhost:8080/"
        },
        "outputId": "27f8c531-462e-4cc0-a558-2f7d145f9044"
      },
      "execution_count": 98,
      "outputs": [
        {
          "output_type": "execute_result",
          "data": {
            "text/plain": [
              "array([[5815,  410],\n",
              "       [ 434, 5294]])"
            ]
          },
          "metadata": {},
          "execution_count": 98
        }
      ]
    },
    {
      "cell_type": "code",
      "source": [
        "# Area under ROC curve\n",
        "roc_auc_score(y_test,y_pred)"
      ],
      "metadata": {
        "id": "MIKOTnGPM7Vr",
        "colab": {
          "base_uri": "https://localhost:8080/"
        },
        "outputId": "96536ccd-3d1d-4c52-e075-8ed08c113173"
      },
      "execution_count": 99,
      "outputs": [
        {
          "output_type": "execute_result",
          "data": {
            "text/plain": [
              "0.9291841948800791"
            ]
          },
          "metadata": {},
          "execution_count": 99
        }
      ]
    },
    {
      "cell_type": "markdown",
      "source": [
        "#**Model-5:Support Vector Machine**"
      ],
      "metadata": {
        "id": "SKOa_E_rUxDR"
      }
    },
    {
      "cell_type": "code",
      "source": [
        "support_vector = SVC(kernel='linear')\n",
        "support_vector.fit(x_train, y_train)"
      ],
      "metadata": {
        "id": "5Ng7fNN2U6hV",
        "colab": {
          "base_uri": "https://localhost:8080/"
        },
        "outputId": "a289e8c0-4798-4c2f-90e2-443a48d24871"
      },
      "execution_count": 100,
      "outputs": [
        {
          "output_type": "execute_result",
          "data": {
            "text/plain": [
              "SVC(kernel='linear')"
            ]
          },
          "metadata": {},
          "execution_count": 100
        }
      ]
    },
    {
      "cell_type": "code",
      "source": [
        "#score for support vector machine\n",
        "support_vector.score(x_test, y_test)"
      ],
      "metadata": {
        "id": "oj0MqkADVdG_",
        "colab": {
          "base_uri": "https://localhost:8080/"
        },
        "outputId": "c8863751-c4b7-4618-ce37-77b2233f8864"
      },
      "execution_count": 101,
      "outputs": [
        {
          "output_type": "execute_result",
          "data": {
            "text/plain": [
              "0.9318162804316907"
            ]
          },
          "metadata": {},
          "execution_count": 101
        }
      ]
    },
    {
      "cell_type": "markdown",
      "source": [
        "**93%** accuracy with **support vector machine**"
      ],
      "metadata": {
        "id": "1nqWLCGCf_dU"
      }
    },
    {
      "cell_type": "code",
      "source": [
        "y_pred = support_vector.predict(x_test)"
      ],
      "metadata": {
        "id": "AKIxC7vvV2zL"
      },
      "execution_count": 102,
      "outputs": []
    },
    {
      "cell_type": "code",
      "source": [
        "#confusion matrix\n",
        "support_vector_con_mat = confusion_matrix( y_test,y_pred)\n",
        "support_vector_con_mat"
      ],
      "metadata": {
        "id": "xe2DF3NKV-_d",
        "colab": {
          "base_uri": "https://localhost:8080/"
        },
        "outputId": "f5d23d0f-186f-46b7-b955-db774eafa8ef"
      },
      "execution_count": 103,
      "outputs": [
        {
          "output_type": "execute_result",
          "data": {
            "text/plain": [
              "array([[5747,  478],\n",
              "       [ 337, 5391]])"
            ]
          },
          "metadata": {},
          "execution_count": 103
        }
      ]
    },
    {
      "cell_type": "markdown",
      "source": [
        "#**Model-6:Naïve Bayes Classifier**"
      ],
      "metadata": {
        "id": "nq5X45mtB9Bx"
      }
    },
    {
      "cell_type": "code",
      "source": [
        "#Implimanting naive bayes model\n",
        "naive_bayes = GaussianNB()\n",
        "naive_bayes.fit(x_train, y_train)"
      ],
      "metadata": {
        "id": "y9bqUHdEB72p",
        "colab": {
          "base_uri": "https://localhost:8080/"
        },
        "outputId": "61c3b006-19b1-4051-98e5-603c2a8256b0"
      },
      "execution_count": 104,
      "outputs": [
        {
          "output_type": "execute_result",
          "data": {
            "text/plain": [
              "GaussianNB()"
            ]
          },
          "metadata": {},
          "execution_count": 104
        }
      ]
    },
    {
      "cell_type": "code",
      "source": [
        "#score for naive bayes\n",
        "naive_bayes.score(x_train,y_train)"
      ],
      "metadata": {
        "id": "RZtWKSfCC4bz",
        "colab": {
          "base_uri": "https://localhost:8080/"
        },
        "outputId": "f0d7aef2-ab1a-4541-da1a-c9720f8b9b8f"
      },
      "execution_count": 105,
      "outputs": [
        {
          "output_type": "execute_result",
          "data": {
            "text/plain": [
              "0.9177543507362784"
            ]
          },
          "metadata": {},
          "execution_count": 105
        }
      ]
    },
    {
      "cell_type": "markdown",
      "source": [
        "**91%** accuracy with **naive bayes classifier**"
      ],
      "metadata": {
        "id": "NxltwJ3tgRV0"
      }
    },
    {
      "cell_type": "code",
      "source": [
        "# making predictions on the testing set\n",
        "y_pred = naive_bayes.predict(x_test)"
      ],
      "metadata": {
        "id": "glmajXY9EIbu"
      },
      "execution_count": 106,
      "outputs": []
    },
    {
      "cell_type": "code",
      "source": [
        "# comparing actual response values (y_test) with predicted response values (y_pred)\n",
        "from sklearn import metrics\n",
        "print(\"Gaussian Naive Bayes model accuracy(in %):\", metrics.accuracy_score(y_test, y_pred)*100)"
      ],
      "metadata": {
        "id": "mtw2iR-qEaYU",
        "colab": {
          "base_uri": "https://localhost:8080/"
        },
        "outputId": "232e6eae-ef48-4cc7-cd7e-9b5888860f1a"
      },
      "execution_count": 107,
      "outputs": [
        {
          "output_type": "stream",
          "name": "stdout",
          "text": [
            "Gaussian Naive Bayes model accuracy(in %): 91.0901029030369\n"
          ]
        }
      ]
    },
    {
      "cell_type": "markdown",
      "source": [
        "###**Accuracy Metrics for All Fitted Model**"
      ],
      "metadata": {
        "id": "YvCtV0POWr_d"
      }
    },
    {
      "cell_type": "code",
      "source": [
        "#Creating a function to return all Models Accuracy Score \n",
        "\n",
        "def accuracy_of_each_model(model,X_train,X_test):\n",
        "\n",
        "  #predicting a train datas\n",
        "  y_train_preds=model.predict(X_train)\n",
        "\n",
        "  #predicting a test datas\n",
        "  y_test_preds=model.predict(X_test)\n",
        "\n",
        "  #storing all training scores\n",
        "  train_scores=[]\n",
        "\n",
        "  #storing all test scores\n",
        "  test_scores=[]\n",
        "  metrics=['Accuracy_Score','Precsion_Score','Recall_Score','Roc_Auc_Score']\n",
        "\n",
        "  # Get the accuracy scores\n",
        "  train_accuracy_score = accuracy_score(y_train,y_train_preds)\n",
        "  test_accuracy_score = accuracy_score(y_test,y_test_preds)\n",
        "  \n",
        "  train_scores.append(train_accuracy_score)\n",
        "  test_scores.append(test_accuracy_score)\n",
        "\n",
        "  # Get the precision scores\n",
        "  train_precision_score = precision_score(y_train,y_train_preds)\n",
        "  test_precision_score = precision_score(y_test,y_test_preds)\n",
        "\n",
        "  train_scores.append(train_precision_score)\n",
        "  test_scores.append(test_precision_score)\n",
        "\n",
        "  # Get the recall scores\n",
        "  train_recall_score =recall_score(y_train,y_train_preds)\n",
        "  test_recall_score =recall_score(y_test,y_test_preds)\n",
        "\n",
        "  train_scores.append(train_recall_score)\n",
        "  test_scores.append(test_recall_score)\n",
        "\n",
        "  # Get the roc_auc scores\n",
        "  train_roc_auc_score=roc_auc_score(y_train,y_train_preds)\n",
        "  test_roc_auc_score =roc_auc_score(y_test,y_test_preds)\n",
        "\n",
        "  train_scores.append(train_roc_auc_score)\n",
        "  test_scores.append(test_roc_auc_score)\n",
        "\n",
        "  return train_scores,test_scores,metrics\n",
        "\n"
      ],
      "metadata": {
        "id": "EqSp0MHEU0uX"
      },
      "execution_count": 108,
      "outputs": []
    },
    {
      "cell_type": "code",
      "source": [
        "models=[log_reg,tree_cv,random_forest,k_neighbor,support_vector,naive_bayes]\n",
        "name=['Logistic Regression Model','Decision Tree Model After Hyperparameter Tuning','Random Forest Model After Hyperparameter Tuning','k_neighbor','support vector','naive bayes']"
      ],
      "metadata": {
        "id": "TSywdgwHbjph"
      },
      "execution_count": 109,
      "outputs": []
    },
    {
      "cell_type": "code",
      "source": [
        "for model_ in range(len(models)):\n",
        "  train_score_,test_score_,metrics_=accuracy_of_each_model(models[model_],x_train,x_test)\n",
        "  print(\"-*-*-\"*3+f\"{name[model_]}\"+\"-*-*-\"*4)\n",
        "  print(\"\")\n",
        "  print(pd.DataFrame(data={'Metrics':metrics_,'Train_Score':train_score_,'Test_Score':test_score_}))\n",
        "  print(\"\")"
      ],
      "metadata": {
        "id": "2mR6JNOab8o0",
        "colab": {
          "base_uri": "https://localhost:8080/"
        },
        "outputId": "f7354aba-b8c0-4f48-822b-56920ab382fc"
      },
      "execution_count": 110,
      "outputs": [
        {
          "output_type": "stream",
          "name": "stdout",
          "text": [
            "-*-*--*-*--*-*-Logistic Regression Model-*-*--*-*--*-*--*-*-\n",
            "\n",
            "          Metrics  Train_Score  Test_Score\n",
            "0  Accuracy_Score     0.938964    0.932402\n",
            "1  Precsion_Score     0.928162    0.920945\n",
            "2    Recall_Score     0.944959    0.939595\n",
            "3   Roc_Auc_Score     0.939237    0.932689\n",
            "\n",
            "-*-*--*-*--*-*-Decision Tree Model After Hyperparameter Tuning-*-*--*-*--*-*--*-*-\n",
            "\n",
            "          Metrics  Train_Score  Test_Score\n",
            "0  Accuracy_Score     0.940972    0.933239\n",
            "1  Precsion_Score     0.934318    0.926766\n",
            "2    Recall_Score     0.942280    0.934532\n",
            "3   Roc_Auc_Score     0.941032    0.933290\n",
            "\n",
            "-*-*--*-*--*-*-Random Forest Model After Hyperparameter Tuning-*-*--*-*--*-*--*-*-\n",
            "\n",
            "          Metrics  Train_Score  Test_Score\n",
            "0  Accuracy_Score     0.974544    0.929306\n",
            "1  Precsion_Score     0.970604    0.926165\n",
            "2    Recall_Score     0.976104    0.926327\n",
            "3   Roc_Auc_Score     0.974615    0.929188\n",
            "\n",
            "-*-*--*-*--*-*-k_neighbor-*-*--*-*--*-*--*-*-\n",
            "\n",
            "          Metrics  Train_Score  Test_Score\n",
            "0  Accuracy_Score     0.949339    0.929390\n",
            "1  Precsion_Score     0.947591    0.928121\n",
            "2    Recall_Score     0.945926    0.924232\n",
            "3   Roc_Auc_Score     0.949184    0.929184\n",
            "\n",
            "-*-*--*-*--*-*-support vector-*-*--*-*--*-*--*-*-\n",
            "\n",
            "          Metrics  Train_Score  Test_Score\n",
            "0  Accuracy_Score     0.936705    0.931816\n",
            "1  Precsion_Score     0.922876    0.918555\n",
            "2    Recall_Score     0.946145    0.941166\n",
            "3   Roc_Auc_Score     0.937135    0.932190\n",
            "\n",
            "-*-*--*-*--*-*-naive bayes-*-*--*-*--*-*--*-*-\n",
            "\n",
            "          Metrics  Train_Score  Test_Score\n",
            "0  Accuracy_Score     0.917754    0.910901\n",
            "1  Precsion_Score     0.922928    0.914784\n",
            "2    Recall_Score     0.902658    0.897696\n",
            "3   Roc_Auc_Score     0.917068    0.910374\n",
            "\n"
          ]
        }
      ]
    },
    {
      "cell_type": "markdown",
      "source": [
        "\n",
        "###**Conclusion**\n",
        "\n",
        "  The Models used for this Classsification problem are\n",
        "\n",
        " 1. Logistic Regression Model\n",
        " 2. Decision Tree Model\n",
        " 3. Random Forest Model\n",
        " 4. K-Nearest Neighbor Model\n",
        " 5.Support Vector Machine Model \n",
        " 6.Naive Bayes\n",
        "\n",
        "* We performed Hyperparameter tuning using Gridsearch CV method for Decision Tree Model, Random Forest Model , K-Nearest Neighbor ,Support Vector Machine and Naive Bayes. To increase accuracy and avoid Overfitting Criteria, this is done. After that, we finalized the Gradient Boosting model by fine-tuning the hyperparameters.\n",
        "\n",
        "* Based on the knowledge of the business and the problem usecase. The Classification metrics of Recall is given __first priority__ , Accuray is given __second priority__ , and ROC AUC is given __third priority__.\n",
        "\n",
        "* We have built classifier models using 6 different types of classifiers and all these are able to give accuracy of more than 90%.* We can conclude that LogisticRegression gives the best model.\n",
        "\n",
        "* model evaluation metrics comparison, we can see that Support Vector Machine being the model with highest accuracy rate by a very small margin, works best among the experimented models for the given dataset.\n",
        "\n",
        "* The most important feature are overall rating and Value for money that contribute to a model's prediction whether a passenger will recommened a particular airline to his/her friends.\n",
        "\n",
        "* The classifier models developed can be used to predict passenger referral as it will give airlines ability to identify impactful passengers who can help in bringing more revenues.\n",
        "\n",
        "* As a result, in order to increase their business or grow, our client must provide excellent cabin service, ground service, food beverage entertainment, and seat comfort."
      ],
      "metadata": {
        "id": "Thm5_ZjZ7i3x"
      }
    },
    {
      "cell_type": "markdown",
      "source": [
        "#**Thank You for your Time**"
      ],
      "metadata": {
        "id": "wMdAt9cwk-Ao"
      }
    }
  ]
}